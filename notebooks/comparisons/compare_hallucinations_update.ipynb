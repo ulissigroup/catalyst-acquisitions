{
 "cells": [
  {
   "cell_type": "markdown",
   "metadata": {},
   "source": [
    "# Initialize"
   ]
  },
  {
   "cell_type": "code",
   "execution_count": null,
   "metadata": {},
   "outputs": [],
   "source": [
    "%load_ext ipycache\n",
    "%load_ext autoreload\n",
    "%autoreload 2"
   ]
  },
  {
   "cell_type": "code",
   "execution_count": null,
   "metadata": {},
   "outputs": [],
   "source": [
    "import sys\n",
    "\n",
    "sys.path.insert(0, '../../')\n",
    "\n",
    "\n",
    "adsorbate = 'CO'\n",
    "target_energy = -0.67\n",
    "initial_training_size = 1000\n",
    "batch_size = 200\n",
    "quantile_cutoff = 0.95"
   ]
  },
  {
   "cell_type": "code",
   "execution_count": null,
   "metadata": {},
   "outputs": [],
   "source": [
    "import random\n",
    "import ase.db\n",
    "\n",
    "\n",
    "db_dir = '../pull_data/%s/' % adsorbate\n",
    "db = ase.db.connect(db_dir + '%s.db' % adsorbate)\n",
    "rows = list(db.select())\n",
    "random.Random(42).shuffle(rows)\n",
    "\n",
    "\n",
    "def parse_rows(rows):\n",
    "    features = []\n",
    "    labels = []\n",
    "    surfaces = []\n",
    "\n",
    "    for row in rows:\n",
    "        features.append(row.id)\n",
    "        data = row.data\n",
    "        labels.append(data['adsorption_energy'])\n",
    "        surface = (data['mpid'], data['miller'], data['shift'], data['top'])\n",
    "        surfaces.append(surface)\n",
    "\n",
    "    return features, labels, surfaces\n",
    "\n",
    "\n",
    "training_features, training_labels, training_surfaces = parse_rows(rows[:initial_training_size])\n",
    "sampling_features, sampling_labels, sampling_surfaces = parse_rows(rows[initial_training_size:])"
   ]
  },
  {
   "cell_type": "markdown",
   "metadata": {},
   "source": [
    "# Random Sampling Procedures"
   ]
  },
  {
   "cell_type": "markdown",
   "metadata": {},
   "source": [
    "### Random Sampling with Null Model"
   ]
  },
  {
   "cell_type": "code",
   "execution_count": null,
   "metadata": {},
   "outputs": [],
   "source": [
    "cd ../random/null"
   ]
  },
  {
   "cell_type": "code",
   "execution_count": null,
   "metadata": {},
   "outputs": [],
   "source": [
    "sys.path.insert(0, '../../..')\n",
    "\n",
    "from src.discoverers.adsorption.models import NullModel\n",
    "from src.discoverers.adsorption.randomsearch import RandomSearcher\n",
    "from src.discoverers.adsorption.values import calc_co2rr_activities\n",
    "\n",
    "db_dir = '../../pull_data/%s/' % adsorbate\n",
    "\n",
    "model = NullModel(db_dir, quantile_cutoff)\n",
    "rs_null_discoverer = RandomSearcher(model=model,\n",
    "                                    quantile_cutoff=quantile_cutoff,\n",
    "                                    value_calculator=calc_co2rr_activities,\n",
    "                                    batch_size=batch_size,\n",
    "                                    training_features=training_features,\n",
    "                                    training_labels=training_labels,\n",
    "                                    training_surfaces=training_surfaces,\n",
    "                                    sampling_features=sampling_features,\n",
    "                                    sampling_labels=sampling_labels,\n",
    "                                    sampling_surfaces=sampling_surfaces,\n",
    "                                    #n_samples=3,  # decrease to speed up\n",
    "                                    #init_train=False  # Set to `False` only for warm starts\n",
    "                                    )\n",
    "\n",
    "# rs_null_discoverer.simulate_discovery()\n",
    "\n",
    "rs_null_discoverer.load_last_run()\n",
    "\n",
    "rs_null_discoverer.plot_performance(window=100)"
   ]
  },
  {
   "cell_type": "markdown",
   "metadata": {},
   "source": [
    "### Random sampling with CFGP (NOTE: uses prime for now until I cache files)"
   ]
  },
  {
   "cell_type": "code",
   "execution_count": null,
   "metadata": {},
   "outputs": [],
   "source": [
    "cd ../prime"
   ]
  },
  {
   "cell_type": "code",
   "execution_count": null,
   "metadata": {},
   "outputs": [],
   "source": [
    "from src.discoverers.adsorption.models import PrimeModel\n",
    "\n",
    "\n",
    "model = PrimeModel(db_dir)\n",
    "rs_cfgp_discoverer = RandomSearcher(model=model,\n",
    "                                    quantile_cutoff=quantile_cutoff,\n",
    "                                    value_calculator=calc_co2rr_activities,\n",
    "                                    batch_size=batch_size,\n",
    "                                    training_features=training_features,\n",
    "                                    training_labels=training_labels,\n",
    "                                    training_surfaces=training_surfaces,\n",
    "                                    sampling_features=sampling_features,\n",
    "                                    sampling_labels=sampling_labels,\n",
    "                                    sampling_surfaces=sampling_surfaces,\n",
    "                                    #n_samples=3,  # decrease to speed up\n",
    "                                    #init_train=False  # Set to `False` only for warm starts\n",
    "                                    )\n",
    "\n",
    "# rs_cfgp_discoverer.simulate_discovery()\n",
    "\n",
    "rs_cfgp_discoverer.load_last_run()\n",
    "\n",
    "rs_cfgp_discoverer.plot_performance(window=100)"
   ]
  },
  {
   "cell_type": "markdown",
   "metadata": {},
   "source": [
    "# MMS Procedures"
   ]
  },
  {
   "cell_type": "markdown",
   "metadata": {},
   "source": [
    "### MMS with null model"
   ]
  },
  {
   "cell_type": "code",
   "execution_count": null,
   "metadata": {},
   "outputs": [],
   "source": [
    "cd ../../MMS/null"
   ]
  },
  {
   "cell_type": "code",
   "execution_count": null,
   "metadata": {},
   "outputs": [],
   "source": [
    "sys.path.insert(0, '../../..')\n",
    "\n",
    "from src.discoverers.adsorption.mms import MultiscaleDiscoverer\n",
    "from src.discoverers.adsorption.models import NullModel\n",
    "\n",
    "\n",
    "db_dir = '../../pull_data/%s/' % adsorbate\n",
    "\n",
    "model = NullModel(db_dir, quantile_cutoff)\n",
    "mms_null_discoverer = MultiscaleDiscoverer(model=model,\n",
    "                                           quantile_cutoff=quantile_cutoff,\n",
    "                                           value_calculator=calc_co2rr_activities,\n",
    "                                           batch_size=batch_size,\n",
    "                                           training_features=training_features,\n",
    "                                           training_labels=training_labels,\n",
    "                                           training_surfaces=training_surfaces,\n",
    "                                           sampling_features=sampling_features,\n",
    "                                           sampling_labels=sampling_labels,\n",
    "                                           sampling_surfaces=sampling_surfaces,\n",
    "                                           #n_samples=3,  # decrease to speed up\n",
    "                                           init_train=False  # Set to `False` only for warm starts\n",
    "                                          )\n",
    "\n",
    "# mms_null_discoverer.simulate_discovery()\n",
    "\n",
    "mms_null_discoverer.load_last_run()\n",
    "\n",
    "mms_null_discoverer.plot_performance(window=100)"
   ]
  },
  {
   "cell_type": "markdown",
   "metadata": {},
   "source": [
    "### MMS with CFGP"
   ]
  },
  {
   "cell_type": "code",
   "execution_count": null,
   "metadata": {},
   "outputs": [],
   "source": [
    "cd ../CFGP"
   ]
  },
  {
   "cell_type": "code",
   "execution_count": null,
   "metadata": {},
   "outputs": [],
   "source": [
    "import os\n",
    "os.environ['PYTHONPATH'] = '/home/jovyan/GASpy:/home/jovyan/GASpy/GASpy_regressions:'\n",
    "\n",
    "import sys\n",
    "sys.path.insert(0, '/home/jovyan/GASpy')\n",
    "sys.path.insert(0, '/home/jovyan/GASpy/GASpy_regressions')\n",
    "\n",
    "sys.path.append('../../..')\n",
    "from src.discoverers.adsorption.mms import MultiscaleDiscoverer\n",
    "from src.discoverers.adsorption.models import CFGP\n",
    "from src.discoverers.adsorption.values import calc_co2rr_activities\n",
    "\n",
    "\n",
    "# Initialize\n",
    "model = CFGP(db_dir)\n",
    "mms_cfgp_discoverer = MultiscaleDiscoverer(model=model,\n",
    "                                           value_calculator=calc_co2rr_activities,\n",
    "                                           quantile_cutoff=quantile_cutoff,\n",
    "                                           batch_size=batch_size,\n",
    "                                           training_features=training_features,\n",
    "                                           training_labels=training_labels,\n",
    "                                           training_surfaces=training_surfaces,\n",
    "                                           sampling_features=sampling_features,\n",
    "                                           sampling_labels=sampling_labels,\n",
    "                                           sampling_surfaces=sampling_surfaces,\n",
    "                                           #init_train=False  # Set to `False` only for warm starts\n",
    "                                           )\n",
    "\n",
    "# mms_cfgp_discoverer.simulate_discovery()\n",
    "\n",
    "mms_cfgp_discoverer.load_last_run()\n",
    "\n",
    "mms_cfgp_discoverer.plot_performance(window=100)"
   ]
  },
  {
   "cell_type": "markdown",
   "metadata": {},
   "source": [
    "# Comparison"
   ]
  },
  {
   "cell_type": "code",
   "execution_count": null,
   "metadata": {},
   "outputs": [],
   "source": [
    "import numpy as np\n",
    "import matplotlib.pyplot as plt\n",
    "from matplotlib import ticker\n",
    "import seaborn as sns\n",
    "import pandas as pd\n",
    "\n",
    "\n",
    "FORMATTER = ticker.FuncFormatter(lambda x, p: format(int(x), ','))\n",
    "FIG_SIZE = (6.5, 2.5)\n",
    "\n",
    "\n",
    "def plot_rolling_metric(ax, metric_values, metric_name, label=None,\n",
    "                        window=200, smoother='mean', unit=''):\n",
    "    '''\n",
    "    Helper function to plot model performance metrics across time in\n",
    "    hallucination.\n",
    "\n",
    "    Args:\n",
    "        ax              Matplotlib ax object to plot onto\n",
    "        metric_values   A sequence of floats that will be plotted against\n",
    "                        batch number in the hallucination.\n",
    "        metric_name     A string indicating what you want the values to be\n",
    "                        labeled as in the plots.\n",
    "        label           A string indicating the label you want to use for\n",
    "                        the data\n",
    "        window          How many points to roll over during each iteration\n",
    "        smoother        String indicating how you want to smooth the\n",
    "                        residuals over the course of the hallucination.\n",
    "                        Corresponds exactly to the methods of the\n",
    "                        `pandas.DataFrame.rolling` class, e.g., 'mean',\n",
    "                        'median', 'min', 'max', 'std', 'sum', etc.\n",
    "        unit            [Optional] String indicating the units you want to\n",
    "                        label the plot with\n",
    "    '''\n",
    "    # Format the data\n",
    "    df = pd.DataFrame(metric_values, columns=[metric_name])\n",
    "    rolling_residuals = getattr(df, metric_name).rolling(window=window)\n",
    "    rolled_values = getattr(rolling_residuals, smoother)().values\n",
    "    query_numbers = list(range(len(rolled_values)))\n",
    "\n",
    "    # Create and format the figure\n",
    "    _ = sns.lineplot(query_numbers, rolled_values, ax=ax, label=label)\n",
    "    _ = ax.set_xlabel('Number of discovery queries')\n",
    "    if unit:\n",
    "        unit = ' [' + unit + ']'\n",
    "    _ = ax.set_ylabel('Rolling %s of \\n%s%s' % (smoother, metric_name, unit))\n",
    "    _ = ax.set_xlim([query_numbers[0], query_numbers[-1]])\n",
    "    _ = ax.set_ylim([0., np.nanmax(rolled_values) * 1.1])\n",
    "    _ = fig.set_size_inches(*FIG_SIZE)\n",
    "    _ = ax.get_xaxis().set_major_formatter(FORMATTER)\n",
    "    return fig"
   ]
  },
  {
   "cell_type": "markdown",
   "metadata": {},
   "source": [
    "### F1 Score"
   ]
  },
  {
   "cell_type": "code",
   "execution_count": null,
   "metadata": {},
   "outputs": [],
   "source": [
    "fig = plt.figure()\n",
    "\n",
    "ax_mms = sns.scatterplot(list(range(len(mms_discoverer.reward_history))),\n",
    "                         mms_discoverer.reward_history,\n",
    "                         label='MMS', marker='1')\n",
    "ax_rs = sns.scatterplot(list(range(len(rs_discoverer.reward_history))),\n",
    "                        rs_discoverer.reward_history,\n",
    "                        label='RS w/ CFGP', marker='+')\n",
    "ax_tpot = sns.scatterplot(list(range(len(tpot_discoverer.reward_history))),\n",
    "                          tpot_discoverer.reward_history,\n",
    "                          label='GASpy (old)', marker='x')\n",
    "ax_null = sns.scatterplot(list(range(len(null_discoverer.reward_history))),\n",
    "                          null_discoverer.reward_history,\n",
    "                          label='RS w/ $∅$', marker='.')\n",
    "\n",
    "_ = ax_mms.set_xlabel('batch number')\n",
    "_ = ax_mms.set_ylabel('F1 score')\n",
    "_ = ax_mms.set_xlim(0, 100)\n",
    "_ = ax_mms.set_ylim(0., 1.2)\n",
    "_ = fig.set_size_inches(*FIG_SIZE)\n",
    "_ = ax_mms.get_xaxis().set_major_formatter(FORMATTER)"
   ]
  },
  {
   "cell_type": "markdown",
   "metadata": {},
   "source": [
    "### Residuals"
   ]
  },
  {
   "cell_type": "code",
   "execution_count": null,
   "metadata": {},
   "outputs": [],
   "source": [
    "fig = plt.figure()\n",
    "ax = fig.gca()\n",
    "\n",
    "_ = plot_rolling_metric(ax=ax,\n",
    "                        metric_values=np.abs(mms_discoverer.residuals),\n",
    "                        label='MMS',\n",
    "                        metric_name='|residuals|',\n",
    "                        unit='eV')\n",
    "_ = plot_rolling_metric(ax=ax,\n",
    "                        metric_values=np.abs(rs_discoverer.residuals),\n",
    "                        label='random search with CFGP',\n",
    "                        metric_name='|residuals|',\n",
    "                        unit='eV')\n",
    "_ = plot_rolling_metric(ax=ax,\n",
    "                        metric_values=np.abs(tpot_discoverer.residuals),\n",
    "                        label='GASpy heuristic',\n",
    "                        metric_name='|residuals|',\n",
    "                        unit='eV')\n",
    "\n",
    "_ = ax.set_ylim([0., 0.8])"
   ]
  },
  {
   "cell_type": "markdown",
   "metadata": {},
   "source": [
    "### Sharpness"
   ]
  },
  {
   "cell_type": "code",
   "execution_count": null,
   "metadata": {},
   "outputs": [],
   "source": [
    "fig = plt.figure()\n",
    "ax = fig.gca()\n",
    "\n",
    "_ = plot_rolling_metric(ax=ax,\n",
    "                        metric_values=mms_discoverer.uncertainties,\n",
    "                        label='MMS',\n",
    "                        metric_name='predicted uncertainty (stdev)',\n",
    "                        unit='eV')\n",
    "_ = plot_rolling_metric(ax=ax,\n",
    "                        metric_values=rs_discoverer.uncertainties,\n",
    "                        label='random search with CFGP',\n",
    "                        metric_name='predicted uncertainty (stdev)',\n",
    "                        unit='eV')\n",
    "#_ = plot_rolling_metric(ax=ax,\n",
    "#                        metric_values=tpot_discoverer.uncertainties,\n",
    "#                        label='GASpy heuristic',\n",
    "#                        metric_name='predicted uncertainty (stdev)',\n",
    "#                        unit='eV')\n",
    "\n",
    "_ = ax.set_ylim([0., 1.])"
   ]
  },
  {
   "cell_type": "markdown",
   "metadata": {},
   "source": [
    "### Calibration"
   ]
  },
  {
   "cell_type": "code",
   "execution_count": null,
   "metadata": {},
   "outputs": [],
   "source": [
    "from tqdm.notebook import tqdm\n",
    "\n",
    "\n",
    "fig = plt.figure()\n",
    "ax = fig.gca()\n",
    "\n",
    "\n",
    "def calculate_eces(discoverer, window=200):\n",
    "    # Divide the data into chunks, which we need to calculate ECE\n",
    "    chunked_residuals = discoverer.chunk_iterable(discoverer.residuals, window)\n",
    "    chunked_uncertainties = discoverer.chunk_iterable(discoverer.uncertainties, window)\n",
    "\n",
    "    # Calculate ECE\n",
    "    loop = tqdm(zip(chunked_residuals, chunked_uncertainties),\n",
    "                desc='calibration', unit='batch', total=len(chunked_residuals))\n",
    "    for resids, stdevs in loop:\n",
    "        ece = discoverer.calculate_expected_calibration_error(resids, stdevs)\n",
    "        try:\n",
    "            eces.extend([ece] * len(resids))\n",
    "        # EAFP for initialization\n",
    "        except NameError:\n",
    "            eces = [ece] * len(resids)\n",
    "    return eces\n",
    "\n",
    "\n",
    "_ = plot_rolling_metric(ax=ax,\n",
    "                        metric_values=calculate_eces(mms_discoverer),\n",
    "                        label='MMS',\n",
    "                        metric_name='expected calibration error')\n",
    "_ = plot_rolling_metric(ax=ax,\n",
    "                        metric_values=calculate_eces(rs_discoverer),\n",
    "                        label='random search with CFGP',\n",
    "                        metric_name='expected calibration error')\n",
    "#_ = plot_rolling_metric(ax=ax,\n",
    "#                        metric_values=calculate_eces(tpot_discoverer),\n",
    "#                        label='GASpy heuristic',\n",
    "#                        metric_name='expected calibration error')\n",
    "\n",
    "_ = ax.set_ylim([0., 0.05])"
   ]
  },
  {
   "cell_type": "markdown",
   "metadata": {},
   "source": [
    "### NLL"
   ]
  },
  {
   "cell_type": "code",
   "execution_count": null,
   "metadata": {},
   "outputs": [],
   "source": [
    "from scipy.stats import norm\n",
    "\n",
    "\n",
    "fig = plt.figure()\n",
    "ax = fig.gca()\n",
    "\n",
    "\n",
    "def calculate_nlls(discoverer):\n",
    "    nlls = [-norm.logpdf(resid, loc=0., scale=std)\n",
    "            for resid, std in zip(discoverer.residuals, discoverer.uncertainties)]\n",
    "    return nlls\n",
    "\n",
    "\n",
    "_ = plot_rolling_metric(ax=ax,\n",
    "                        metric_values=calculate_nlls(mms_discoverer),\n",
    "                        label='MMS',\n",
    "                        metric_name='negative log likelihood',\n",
    "                        window=400)\n",
    "_ = plot_rolling_metric(ax=ax,\n",
    "                        metric_values=calculate_nlls(rs_discoverer),\n",
    "                        label='random search with CFGP',\n",
    "                        metric_name='negative log likelihood',\n",
    "                        window=400)\n",
    "#_ = plot_rolling_metric(ax=ax,\n",
    "#                        metric_values=calculate_nlls(tpot_discoverer),\n",
    "#                        label='GASpy heuristic',\n",
    "#                        metric_name='negative log likelihood',\n",
    "#                        window=400)\n",
    "\n",
    "_ = ax.set_ylim([-0.5, 3.])"
   ]
  }
 ],
 "metadata": {
  "kernelspec": {
   "display_name": "Python 3",
   "language": "python",
   "name": "python3"
  },
  "language_info": {
   "codemirror_mode": {
    "name": "ipython",
    "version": 3
   },
   "file_extension": ".py",
   "mimetype": "text/x-python",
   "name": "python",
   "nbconvert_exporter": "python",
   "pygments_lexer": "ipython3",
   "version": "3.7.8"
  }
 },
 "nbformat": 4,
 "nbformat_minor": 4
}
