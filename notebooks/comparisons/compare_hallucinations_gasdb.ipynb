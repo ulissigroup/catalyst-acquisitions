{
 "cells": [
  {
   "cell_type": "markdown",
   "metadata": {},
   "source": [
    "GASdb"
   ]
  },
  {
   "cell_type": "markdown",
   "metadata": {},
   "source": [
    "# Initialize"
   ]
  },
  {
   "cell_type": "code",
   "execution_count": 1,
   "metadata": {},
   "outputs": [
    {
     "name": "stderr",
     "output_type": "stream",
     "text": [
      "/opt/conda/lib/python3.7/site-packages/IPython/config.py:13: ShimWarning: The `IPython.config` package has been deprecated since IPython 4.0. You should import from traitlets.config instead.\n",
      "  \"You should import from traitlets.config instead.\", ShimWarning)\n",
      "/opt/conda/lib/python3.7/site-packages/ipycache.py:17: UserWarning: IPython.utils.traitlets has moved to a top-level traitlets package.\n",
      "  from IPython.utils.traitlets import Unicode\n"
     ]
    }
   ],
   "source": [
    "%load_ext ipycache\n",
    "%load_ext autoreload\n",
    "%autoreload 2"
   ]
  },
  {
   "cell_type": "code",
   "execution_count": 2,
   "metadata": {},
   "outputs": [],
   "source": [
    "import os\n",
    "import sys\n",
    "\n",
    "comparisons_folder = os.getcwd()\n",
    "src_folder = '/'.join(comparisons_folder.split('/')[:-2])\n",
    "sys.path.insert(0, src_folder)\n",
    "from src.discoverers.adsorption.values import calc_co2rr_activities\n",
    "\n",
    "\n",
    "adsorbate = 'CO'\n",
    "target_energy = -0.67\n",
    "initial_training_size = 1000\n",
    "batch_size = 200\n",
    "quantile_cutoff = 0.95"
   ]
  },
  {
   "cell_type": "code",
   "execution_count": 3,
   "metadata": {},
   "outputs": [],
   "source": [
    "import random\n",
    "import ase.db\n",
    "\n",
    "\n",
    "db_dir = os.path.join(src_folder, 'notebooks/pull_data/%s' % adsorbate)\n",
    "db_file = os.path.join(db_dir, '%s.db' % adsorbate)\n",
    "db = ase.db.connect(db_file)\n",
    "rows = list(db.select())\n",
    "random.Random(42).shuffle(rows)\n",
    "\n",
    "\n",
    "def parse_rows(rows):\n",
    "    features = []\n",
    "    labels = []\n",
    "    surfaces = []\n",
    "\n",
    "    for row in rows:\n",
    "        features.append(row.id)\n",
    "        data = row.data\n",
    "        labels.append(data['adsorption_energy'])\n",
    "        surface = (data['mpid'], data['miller'], data['shift'], data['top'])\n",
    "        surfaces.append(surface)\n",
    "\n",
    "    return features, labels, surfaces\n",
    "\n",
    "\n",
    "training_features, training_labels, training_surfaces = parse_rows(rows[:initial_training_size])\n",
    "sampling_features, sampling_labels, sampling_surfaces = parse_rows(rows[initial_training_size:])"
   ]
  },
  {
   "cell_type": "markdown",
   "metadata": {},
   "source": [
    "# Random Sampling Procedures"
   ]
  },
  {
   "cell_type": "code",
   "execution_count": 4,
   "metadata": {},
   "outputs": [],
   "source": [
    "from src.discoverers.adsorption.randomsearch import RandomSearcher"
   ]
  },
  {
   "cell_type": "markdown",
   "metadata": {},
   "source": [
    "## Random Sampling with Null Model"
   ]
  },
  {
   "cell_type": "code",
   "execution_count": 5,
   "metadata": {},
   "outputs": [
    {
     "name": "stdout",
     "output_type": "stream",
     "text": [
      "/home/jovyan/catalyst-acquisitions/notebooks/random/null\n"
     ]
    }
   ],
   "source": [
    "cd ../random/null"
   ]
  },
  {
   "cell_type": "code",
   "execution_count": 6,
   "metadata": {
    "scrolled": true
   },
   "outputs": [],
   "source": [
    "from src.discoverers.adsorption.models import NullModel\n",
    "\n",
    "\n",
    "model = NullModel(db_dir, quantile_cutoff)\n",
    "rs_null_discoverer = RandomSearcher(model=model,\n",
    "                                    quantile_cutoff=quantile_cutoff,\n",
    "                                    value_calculator=calc_co2rr_activities,\n",
    "                                    batch_size=batch_size,\n",
    "                                    training_features=training_features,\n",
    "                                    training_labels=training_labels,\n",
    "                                    training_surfaces=training_surfaces,\n",
    "                                    sampling_features=sampling_features,\n",
    "                                    sampling_labels=sampling_labels,\n",
    "                                    sampling_surfaces=sampling_surfaces,\n",
    "                                    init_train=False    # Set to `False` only for warm starts\n",
    "                                    )\n",
    "\n",
    "rs_null_discoverer.load_last_run()\n",
    "#_ = rs_null_discoverer.plot_performance(window=100)"
   ]
  },
  {
   "cell_type": "markdown",
   "metadata": {},
   "source": [
    "## Random sampling with CFGP"
   ]
  },
  {
   "cell_type": "code",
   "execution_count": 7,
   "metadata": {},
   "outputs": [
    {
     "name": "stdout",
     "output_type": "stream",
     "text": [
      "/home/jovyan/catalyst-acquisitions/notebooks/random/CFGP\n"
     ]
    }
   ],
   "source": [
    "cd ../CFGP"
   ]
  },
  {
   "cell_type": "code",
   "execution_count": 8,
   "metadata": {},
   "outputs": [
    {
     "name": "stdout",
     "output_type": "stream",
     "text": [
      "### Loaded preprocessed data from:  ['/home/jovyan/catalyst-acquisitions/notebooks/pull_data/CO/data.pt']\n"
     ]
    },
    {
     "name": "stderr",
     "output_type": "stream",
     "text": [
      "/home/jovyan/catalyst-acquisitions/src/discoverers/adsorption/base.py:812: UserWarning: Tried to set the bulk_values attribute when loading but couldn't\n",
      "  warnings.warn(\"Tried to set the %s attribute when loading but couldn't\" % key)\n"
     ]
    },
    {
     "name": "stdout",
     "output_type": "stream",
     "text": [
      "cmd:\n",
      "  checkpoint_dir: /home/jovyan/catalyst-acquisitions/notebooks/random/CFGP/checkpoints/2021-01-11-15-45-59-cnn\n",
      "  identifier: cnn\n",
      "  logs_dir: /home/jovyan/catalyst-acquisitions/notebooks/random/CFGP/logs/tensorboard/2021-01-11-15-45-59-cnn\n",
      "  print_every: 100\n",
      "  results_dir: /home/jovyan/catalyst-acquisitions/notebooks/random/CFGP/results/2021-01-11-15-45-59-cnn\n",
      "  seed: null\n",
      "  timestamp: 2021-01-11-15-45-59-cnn\n",
      "dataset:\n",
      "  src: /home/jovyan/catalyst-acquisitions/notebooks/pull_data/CO\n",
      "  test_size: 0\n",
      "  train_size: 1\n",
      "  val_size: 0\n",
      "logger: tensorboard\n",
      "model: cgcnn\n",
      "model_attributes:\n",
      "  atom_embedding_size: 64\n",
      "  fc_feat_size: 128\n",
      "  num_fc_layers: 4\n",
      "  num_graph_conv_layers: 6\n",
      "  regress_forces: false\n",
      "optim:\n",
      "  batch_size: 64\n",
      "  lr_gamma: 0.1\n",
      "  lr_initial: 0.001\n",
      "  lr_milestones:\n",
      "  - 25\n",
      "  - 45\n",
      "  max_epochs: 50\n",
      "  num_gpus: 2\n",
      "  warmup_epochs: 10\n",
      "  warmup_factor: 0.2\n",
      "task:\n",
      "  dataset: gasdb\n",
      "  description: Regression of DFT calculated binding energes\n",
      "  labels:\n",
      "  - binding energy\n",
      "  metric: mae\n",
      "  type: regression\n",
      "\n",
      "### Loading dataset: gasdb\n",
      "### Loaded preprocessed data from:  ['/home/jovyan/catalyst-acquisitions/notebooks/pull_data/CO/data.pt']\n",
      "### Loading model: cgcnn\n",
      "### Loaded CGCNN with 203713 parameters.\n",
      "NOTE: model gradient logging to tensorboard not yet supported.\n",
      "### Loaded preprocessed data from:  ['/home/jovyan/catalyst-acquisitions/notebooks/pull_data/CO/data.pt']\n",
      "Planning to run on 2 GPUs.\n"
     ]
    }
   ],
   "source": [
    "from src.discoverers.adsorption.models import CFGP\n",
    "\n",
    "\n",
    "model = CFGP(db_dir)\n",
    "rs_cfgp_discoverer = RandomSearcher(model=model,\n",
    "                                    quantile_cutoff=quantile_cutoff,\n",
    "                                    value_calculator=calc_co2rr_activities,\n",
    "                                    batch_size=batch_size,\n",
    "                                    training_features=training_features,\n",
    "                                    training_labels=training_labels,\n",
    "                                    training_surfaces=training_surfaces,\n",
    "                                    sampling_features=sampling_features,\n",
    "                                    sampling_labels=sampling_labels,\n",
    "                                    sampling_surfaces=sampling_surfaces,\n",
    "                                    init_train=False    # Set to `False` only for warm starts\n",
    "                                    )\n",
    "\n",
    "rs_cfgp_discoverer.load_last_run()\n",
    "#_ = rs_cfgp_discoverer.plot_performance(window=100)\n",
    "\n",
    "# Delete the checkpoint folder that wandb just automatically made\n",
    "checkpoint_folders = os.listdir('checkpoints/')\n",
    "checkpoint_folders.sort()\n",
    "checkpoint_folder = checkpoint_folders[-1]\n",
    "checkpoint_folder = os.path.join(os.getcwd(), 'checkpoints', checkpoint_folder)\n",
    "os.rmdir(checkpoint_folder)"
   ]
  },
  {
   "cell_type": "markdown",
   "metadata": {},
   "source": [
    "## Random sampling with prime model"
   ]
  },
  {
   "cell_type": "code",
   "execution_count": 9,
   "metadata": {},
   "outputs": [
    {
     "name": "stdout",
     "output_type": "stream",
     "text": [
      "/home/jovyan/catalyst-acquisitions/notebooks/random/prime\n"
     ]
    }
   ],
   "source": [
    "cd ../prime"
   ]
  },
  {
   "cell_type": "code",
   "execution_count": 10,
   "metadata": {
    "scrolled": true
   },
   "outputs": [
    {
     "data": {
      "application/vnd.jupyter.widget-view+json": {
       "model_id": "3f2635d99b4f4599b3d0d1e71dda81ba",
       "version_major": 2,
       "version_minor": 0
      },
      "text/plain": [
       "HBox(children=(FloatProgress(value=0.0, description='reading ASE db for Prime model', max=19105.0, style=Progr…"
      ]
     },
     "metadata": {},
     "output_type": "display_data"
    },
    {
     "name": "stdout",
     "output_type": "stream",
     "text": [
      "\n"
     ]
    },
    {
     "data": {
      "application/vnd.jupyter.widget-view+json": {
       "model_id": "d2e789d05f364c078ae5889c5e895919",
       "version_major": 2,
       "version_minor": 0
      },
      "text/plain": [
       "HBox(children=(FloatProgress(value=0.0, description='Reading data', max=19105.0, style=ProgressStyle(descripti…"
      ]
     },
     "metadata": {},
     "output_type": "display_data"
    },
    {
     "name": "stdout",
     "output_type": "stream",
     "text": [
      "\n"
     ]
    }
   ],
   "source": [
    "from src.discoverers.adsorption.models import PrimeModel\n",
    "\n",
    "\n",
    "model = PrimeModel(db_dir)\n",
    "rs_prime_discoverer = RandomSearcher(model=model,\n",
    "                                     quantile_cutoff=quantile_cutoff,\n",
    "                                     value_calculator=calc_co2rr_activities,\n",
    "                                     batch_size=batch_size,\n",
    "                                     training_features=training_features,\n",
    "                                     training_labels=training_labels,\n",
    "                                     training_surfaces=training_surfaces,\n",
    "                                     sampling_features=sampling_features,\n",
    "                                     sampling_labels=sampling_labels,\n",
    "                                     sampling_surfaces=sampling_surfaces,\n",
    "                                     init_train=False    # Set to `False` only for warm starts\n",
    "                                     )\n",
    "\n",
    "rs_prime_discoverer.load_last_run()\n",
    "#_ = rs_prime_discoverer.plot_performance(window=100)"
   ]
  },
  {
   "cell_type": "markdown",
   "metadata": {},
   "source": [
    "# MMS Procedures"
   ]
  },
  {
   "cell_type": "code",
   "execution_count": 11,
   "metadata": {},
   "outputs": [],
   "source": [
    "from src.discoverers.adsorption.mms import MultiscaleDiscoverer"
   ]
  },
  {
   "cell_type": "markdown",
   "metadata": {},
   "source": [
    "## MMS with null model"
   ]
  },
  {
   "cell_type": "code",
   "execution_count": 12,
   "metadata": {},
   "outputs": [
    {
     "name": "stdout",
     "output_type": "stream",
     "text": [
      "/home/jovyan/catalyst-acquisitions/notebooks/MMS/null\n"
     ]
    }
   ],
   "source": [
    "cd ../../MMS/null"
   ]
  },
  {
   "cell_type": "code",
   "execution_count": 13,
   "metadata": {
    "scrolled": true
   },
   "outputs": [],
   "source": [
    "from src.discoverers.adsorption.models import NullModel\n",
    "\n",
    "\n",
    "model = NullModel(db_dir, quantile_cutoff)\n",
    "mms_null_discoverer = MultiscaleDiscoverer(model=model,\n",
    "                                           quantile_cutoff=quantile_cutoff,\n",
    "                                           value_calculator=calc_co2rr_activities,\n",
    "                                           batch_size=batch_size,\n",
    "                                           training_features=training_features,\n",
    "                                           training_labels=training_labels,\n",
    "                                           training_surfaces=training_surfaces,\n",
    "                                           sampling_features=sampling_features,\n",
    "                                           sampling_labels=sampling_labels,\n",
    "                                           sampling_surfaces=sampling_surfaces,\n",
    "                                           init_train=False  # Set to `False` only for warm starts\n",
    "                                           )\n",
    "\n",
    "mms_null_discoverer.load_last_run()\n",
    "#_ = mms_null_discoverer.plot_performance(window=100)"
   ]
  },
  {
   "cell_type": "markdown",
   "metadata": {},
   "source": [
    "## MMS with CFGP"
   ]
  },
  {
   "cell_type": "code",
   "execution_count": 14,
   "metadata": {},
   "outputs": [
    {
     "name": "stdout",
     "output_type": "stream",
     "text": [
      "/home/jovyan/catalyst-acquisitions/notebooks/MMS/CFGP\n"
     ]
    }
   ],
   "source": [
    "cd ../CFGP"
   ]
  },
  {
   "cell_type": "code",
   "execution_count": 15,
   "metadata": {},
   "outputs": [
    {
     "name": "stdout",
     "output_type": "stream",
     "text": [
      "### Loaded preprocessed data from:  ['/home/jovyan/catalyst-acquisitions/notebooks/pull_data/CO/data.pt']\n"
     ]
    },
    {
     "name": "stderr",
     "output_type": "stream",
     "text": [
      "/home/jovyan/catalyst-acquisitions/src/discoverers/adsorption/base.py:812: UserWarning: Tried to set the bulk_values attribute when loading but couldn't\n",
      "  warnings.warn(\"Tried to set the %s attribute when loading but couldn't\" % key)\n"
     ]
    },
    {
     "name": "stdout",
     "output_type": "stream",
     "text": [
      "cmd:\n",
      "  checkpoint_dir: /home/jovyan/catalyst-acquisitions/notebooks/MMS/CFGP/checkpoints/2021-01-11-15-47-25-cnn\n",
      "  identifier: cnn\n",
      "  logs_dir: /home/jovyan/catalyst-acquisitions/notebooks/MMS/CFGP/logs/tensorboard/2021-01-11-15-47-25-cnn\n",
      "  print_every: 100\n",
      "  results_dir: /home/jovyan/catalyst-acquisitions/notebooks/MMS/CFGP/results/2021-01-11-15-47-25-cnn\n",
      "  seed: null\n",
      "  timestamp: 2021-01-11-15-47-25-cnn\n",
      "dataset:\n",
      "  src: /home/jovyan/catalyst-acquisitions/notebooks/pull_data/CO\n",
      "  test_size: 0\n",
      "  train_size: 1\n",
      "  val_size: 0\n",
      "logger: tensorboard\n",
      "model: cgcnn\n",
      "model_attributes:\n",
      "  atom_embedding_size: 64\n",
      "  fc_feat_size: 128\n",
      "  num_fc_layers: 4\n",
      "  num_graph_conv_layers: 6\n",
      "  regress_forces: false\n",
      "optim:\n",
      "  batch_size: 64\n",
      "  lr_gamma: 0.1\n",
      "  lr_initial: 0.001\n",
      "  lr_milestones:\n",
      "  - 25\n",
      "  - 45\n",
      "  max_epochs: 50\n",
      "  num_gpus: 2\n",
      "  warmup_epochs: 10\n",
      "  warmup_factor: 0.2\n",
      "task:\n",
      "  dataset: gasdb\n",
      "  description: Regression of DFT calculated binding energes\n",
      "  labels:\n",
      "  - binding energy\n",
      "  metric: mae\n",
      "  type: regression\n",
      "\n",
      "### Loading dataset: gasdb\n",
      "### Loaded preprocessed data from:  ['/home/jovyan/catalyst-acquisitions/notebooks/pull_data/CO/data.pt']\n",
      "### Loading model: cgcnn\n",
      "### Loaded CGCNN with 203713 parameters.\n",
      "NOTE: model gradient logging to tensorboard not yet supported.\n",
      "### Loaded preprocessed data from:  ['/home/jovyan/catalyst-acquisitions/notebooks/pull_data/CO/data.pt']\n",
      "Planning to run on 2 GPUs.\n"
     ]
    }
   ],
   "source": [
    "from src.discoverers.adsorption.models import CFGP\n",
    "\n",
    "\n",
    "# Initialize\n",
    "model = CFGP(db_dir)\n",
    "mms_cfgp_discoverer = MultiscaleDiscoverer(model=model,\n",
    "                                           value_calculator=calc_co2rr_activities,\n",
    "                                           quantile_cutoff=quantile_cutoff,\n",
    "                                           batch_size=batch_size,\n",
    "                                           training_features=training_features,\n",
    "                                           training_labels=training_labels,\n",
    "                                           training_surfaces=training_surfaces,\n",
    "                                           sampling_features=sampling_features,\n",
    "                                           sampling_labels=sampling_labels,\n",
    "                                           sampling_surfaces=sampling_surfaces,\n",
    "                                           init_train=False  # Set to `False` only for warm starts\n",
    "                                           )\n",
    "\n",
    "mms_cfgp_discoverer.load_last_run()\n",
    "#_ = mms_cfgp_discoverer.plot_performance(window=100)\n",
    "\n",
    "# Delete the checkpoint folder that wandb just automatically made\n",
    "checkpoint_folders = os.listdir('checkpoints/')\n",
    "checkpoint_folders.sort()\n",
    "checkpoint_folder = checkpoint_folders[-1]\n",
    "checkpoint_folder = os.path.join(os.getcwd(), 'checkpoints', checkpoint_folder)\n",
    "os.rmdir(checkpoint_folder)"
   ]
  },
  {
   "cell_type": "markdown",
   "metadata": {},
   "source": [
    "## MMS with prime"
   ]
  },
  {
   "cell_type": "code",
   "execution_count": 16,
   "metadata": {},
   "outputs": [
    {
     "name": "stdout",
     "output_type": "stream",
     "text": [
      "/home/jovyan/catalyst-acquisitions/notebooks/MMS/prime\n"
     ]
    }
   ],
   "source": [
    "cd ../prime"
   ]
  },
  {
   "cell_type": "code",
   "execution_count": 17,
   "metadata": {
    "scrolled": true
   },
   "outputs": [
    {
     "data": {
      "application/vnd.jupyter.widget-view+json": {
       "model_id": "6275fdebf9074ec58248d8c6fafc2226",
       "version_major": 2,
       "version_minor": 0
      },
      "text/plain": [
       "HBox(children=(FloatProgress(value=0.0, description='reading ASE db for Prime model', max=19105.0, style=Progr…"
      ]
     },
     "metadata": {},
     "output_type": "display_data"
    },
    {
     "name": "stdout",
     "output_type": "stream",
     "text": [
      "\n"
     ]
    },
    {
     "data": {
      "application/vnd.jupyter.widget-view+json": {
       "model_id": "554422475a4d46c5977b1fd9bb0ac884",
       "version_major": 2,
       "version_minor": 0
      },
      "text/plain": [
       "HBox(children=(FloatProgress(value=0.0, description='Reading data', max=19105.0, style=ProgressStyle(descripti…"
      ]
     },
     "metadata": {},
     "output_type": "display_data"
    },
    {
     "name": "stdout",
     "output_type": "stream",
     "text": [
      "\n"
     ]
    }
   ],
   "source": [
    "from src.discoverers.adsorption.models import PrimeModel\n",
    "\n",
    "\n",
    "model = PrimeModel(db_dir)\n",
    "mms_prime_discoverer = MultiscaleDiscoverer(model=model,\n",
    "                                            quantile_cutoff=quantile_cutoff,\n",
    "                                            value_calculator=calc_co2rr_activities,\n",
    "                                            batch_size=batch_size,\n",
    "                                            training_features=training_features,\n",
    "                                            training_labels=training_labels,\n",
    "                                            training_surfaces=training_surfaces,\n",
    "                                            sampling_features=sampling_features,\n",
    "                                            sampling_labels=sampling_labels,\n",
    "                                            sampling_surfaces=sampling_surfaces,\n",
    "                                            init_train=False    # Set to `False` only for warm starts\n",
    "                                            )\n",
    "\n",
    "mms_prime_discoverer.load_last_run()\n",
    "#_ = mms_prime_discoverer.plot_performance(window=100)"
   ]
  },
  {
   "cell_type": "markdown",
   "metadata": {},
   "source": [
    "# Comparison"
   ]
  },
  {
   "cell_type": "code",
   "execution_count": 18,
   "metadata": {},
   "outputs": [
    {
     "name": "stdout",
     "output_type": "stream",
     "text": [
      "/home/jovyan/catalyst-acquisitions/notebooks/comparisons\n"
     ]
    }
   ],
   "source": [
    "cd /home/jovyan/catalyst-acquisitions/notebooks/comparisons"
   ]
  },
  {
   "cell_type": "code",
   "execution_count": 19,
   "metadata": {},
   "outputs": [],
   "source": [
    "import numpy as np\n",
    "import pandas as pd\n",
    "import matplotlib.pyplot as plt\n",
    "from matplotlib import ticker\n",
    "import seaborn as sns\n",
    "\n",
    "\n",
    "FORMATTER = ticker.FuncFormatter(lambda x, p: format(int(x), ','))\n",
    "FIG_SIZE = (6.5, 5.)\n",
    "#FIG_SIZE = (6.5, 2.5)\n",
    "#FIG_SIZE = (13, 5)\n",
    "\n",
    "\n",
    "def plot_rolling_metric(ax, metric_values, metric_name, label=None,\n",
    "                        window=200, smoother='mean', unit='', **kwargs):\n",
    "    '''\n",
    "    Helper function to plot model performance metrics across time in\n",
    "    hallucination.\n",
    "\n",
    "    Args:\n",
    "        ax              Matplotlib ax object to plot onto\n",
    "        metric_values   A sequence of floats that will be plotted against\n",
    "                        batch number in the hallucination.\n",
    "        metric_name     A string indicating what you want the values to be\n",
    "                        labeled as in the plots.\n",
    "        label           A string indicating the label you want to use for\n",
    "                        the data\n",
    "        window          How many points to roll over during each iteration\n",
    "        smoother        String indicating how you want to smooth the\n",
    "                        residuals over the course of the hallucination.\n",
    "                        Corresponds exactly to the methods of the\n",
    "                        `pandas.DataFrame.rolling` class, e.g., 'mean',\n",
    "                        'median', 'min', 'max', 'std', 'sum', etc.\n",
    "        unit            [Optional] String indicating the units you want to\n",
    "                        label the plot with\n",
    "        kwargs          Keyword arguments to pass to `sns.lineplot`\n",
    "    '''\n",
    "    # Format the data\n",
    "    df = pd.DataFrame(metric_values, columns=[metric_name])\n",
    "    rolling_residuals = getattr(df, metric_name).rolling(window=window)\n",
    "    rolled_values = getattr(rolling_residuals, smoother)().values\n",
    "    query_numbers = list(range(len(rolled_values)))\n",
    "\n",
    "    # Create and format the figure\n",
    "    _ = sns.lineplot(query_numbers, rolled_values, ax=ax, label=label, **kwargs)\n",
    "    _ = ax.set_xlabel('Number of discovery queries')\n",
    "    if unit:\n",
    "        unit = ' [' + unit + ']'\n",
    "    _ = ax.set_ylabel('Rolling %s of \\n%s%s' % (smoother, metric_name, unit))\n",
    "    _ = ax.set_xlim([query_numbers[0], query_numbers[-1]])\n",
    "    _ = ax.set_ylim([0., np.nanmax(rolled_values) * 1.1])\n",
    "    _ = fig.set_size_inches(*FIG_SIZE)\n",
    "    _ = ax.get_xaxis().set_major_formatter(FORMATTER)\n",
    "    return fig"
   ]
  },
  {
   "cell_type": "markdown",
   "metadata": {},
   "source": [
    "## Plotting\n",
    "See https://arxiv.org/abs/1901.09118 for Altschuler and Bloodgood's $\\Delta\\hat{F}$"
   ]
  },
  {
   "cell_type": "code",
   "execution_count": 20,
   "metadata": {
    "scrolled": true
   },
   "outputs": [
    {
     "name": "stdout",
     "output_type": "stream",
     "text": [
      "[Saved variables 'bulk_classes, bulk_values, folder_locations' to file '/home/jovyan/catalyst-acquisitions/notebooks/comparisons/parsed_gasdb_caches.pkl'.]\n",
      "\n",
      "\n",
      "\n",
      "\n",
      "\n",
      "\n",
      "\n",
      "\n",
      "\n",
      "\n",
      "\n",
      "\n"
     ]
    },
    {
     "data": {
      "application/vnd.jupyter.widget-view+json": {
       "model_id": "c2b1dbb3510242f78808782b03b0ebb1",
       "version_major": 2,
       "version_minor": 0
      },
      "text/plain": [
       "HBox(children=(FloatProgress(value=0.0, description='RS null', max=184.0, style=ProgressStyle(description_widt…"
      ]
     },
     "metadata": {},
     "output_type": "display_data"
    },
    {
     "data": {
      "application/vnd.jupyter.widget-view+json": {
       "model_id": "9d8eed1e4b3747aab2f742f9a3616f22",
       "version_major": 2,
       "version_minor": 0
      },
      "text/plain": [
       "HBox(children=(FloatProgress(value=0.0, description='RS CFGP', max=92.0, style=ProgressStyle(description_width…"
      ]
     },
     "metadata": {},
     "output_type": "display_data"
    },
    {
     "data": {
      "application/vnd.jupyter.widget-view+json": {
       "model_id": "583894fcd395412f81c587af78740404",
       "version_major": 2,
       "version_minor": 0
      },
      "text/plain": [
       "HBox(children=(FloatProgress(value=0.0, description='RS prime', max=184.0, style=ProgressStyle(description_wid…"
      ]
     },
     "metadata": {},
     "output_type": "display_data"
    },
    {
     "data": {
      "application/vnd.jupyter.widget-view+json": {
       "model_id": "29f14fd388d54683883bca370c52f36f",
       "version_major": 2,
       "version_minor": 0
      },
      "text/plain": [
       "HBox(children=(FloatProgress(value=0.0, description='MMS null', max=184.0, style=ProgressStyle(description_wid…"
      ]
     },
     "metadata": {},
     "output_type": "display_data"
    },
    {
     "data": {
      "application/vnd.jupyter.widget-view+json": {
       "model_id": "7498fb701e5843e4b861486823acdf83",
       "version_major": 2,
       "version_minor": 0
      },
      "text/plain": [
       "HBox(children=(FloatProgress(value=0.0, description='MMS CFGP', max=92.0, style=ProgressStyle(description_widt…"
      ]
     },
     "metadata": {},
     "output_type": "display_data"
    },
    {
     "data": {
      "application/vnd.jupyter.widget-view+json": {
       "model_id": "3eff109069a44caf82d2862cedd9ec26",
       "version_major": 2,
       "version_minor": 0
      },
      "text/plain": [
       "HBox(children=(FloatProgress(value=0.0, description='MMS prime', max=184.0, style=ProgressStyle(description_wi…"
      ]
     },
     "metadata": {},
     "output_type": "display_data"
    },
    {
     "data": {
      "application/vnd.jupyter.widget-view+json": {
       "model_id": "877999bb92a94d36bcdcc710c0a567fc",
       "version_major": 2,
       "version_minor": 0
      },
      "text/plain": [
       "HBox(children=(FloatProgress(value=0.0, description='RS null', max=92.0, style=ProgressStyle(description_width…"
      ]
     },
     "metadata": {},
     "output_type": "display_data"
    },
    {
     "data": {
      "application/vnd.jupyter.widget-view+json": {
       "model_id": "3fbf3bfebc764dceb15345ab378390f5",
       "version_major": 2,
       "version_minor": 0
      },
      "text/plain": [
       "HBox(children=(FloatProgress(value=0.0, description='RS CFGP', max=92.0, style=ProgressStyle(description_width…"
      ]
     },
     "metadata": {},
     "output_type": "display_data"
    },
    {
     "data": {
      "application/vnd.jupyter.widget-view+json": {
       "model_id": "3f97ab11e5b947b89727d3bd2d7436a8",
       "version_major": 2,
       "version_minor": 0
      },
      "text/plain": [
       "HBox(children=(FloatProgress(value=0.0, description='RS prime', max=92.0, style=ProgressStyle(description_widt…"
      ]
     },
     "metadata": {},
     "output_type": "display_data"
    },
    {
     "data": {
      "application/vnd.jupyter.widget-view+json": {
       "model_id": "e4f85dd020e34cec9e00540bfc38e32d",
       "version_major": 2,
       "version_minor": 0
      },
      "text/plain": [
       "HBox(children=(FloatProgress(value=0.0, description='MMS null', max=92.0, style=ProgressStyle(description_widt…"
      ]
     },
     "metadata": {},
     "output_type": "display_data"
    },
    {
     "data": {
      "application/vnd.jupyter.widget-view+json": {
       "model_id": "f488fa82655747f7b80b28a5277f5208",
       "version_major": 2,
       "version_minor": 0
      },
      "text/plain": [
       "HBox(children=(FloatProgress(value=0.0, description='MMS CFGP', max=92.0, style=ProgressStyle(description_widt…"
      ]
     },
     "metadata": {},
     "output_type": "display_data"
    },
    {
     "data": {
      "application/vnd.jupyter.widget-view+json": {
       "model_id": "5549d0844ec0472da97456c9f11898be",
       "version_major": 2,
       "version_minor": 0
      },
      "text/plain": [
       "HBox(children=(FloatProgress(value=0.0, description='MMS prime', max=92.0, style=ProgressStyle(description_wid…"
      ]
     },
     "metadata": {},
     "output_type": "display_data"
    }
   ],
   "source": [
    "%%cache parsed_gasdb_caches.pkl folder_locations bulk_values bulk_classes\n",
    "\n",
    "import os\n",
    "import pickle\n",
    "import numpy as np\n",
    "from tqdm.notebook import tqdm\n",
    "\n",
    "\n",
    "# Point to all the cache folders\n",
    "folder_locations = {'RS null': '../random/null/RandomSearcher_NullModel_caches',\n",
    "                    'RS CFGP': '../random/CFGP/RandomSearcher_CFGP_caches',\n",
    "                    'RS prime': '../random/prime/RandomSearcher_PrimeModel_caches',\n",
    "                    'MMS null': '../MMS/null/MultiscaleDiscoverer_NullModel_caches',\n",
    "                    'MMS CFGP': '../MMS/CFGP/MultiscaleDiscoverer_CFGP_caches',\n",
    "                    'MMS prime': '../MMS/prime/MultiscaleDiscoverer_PrimeModel_caches'}\n",
    "\n",
    "# Find all the caches\n",
    "bulk_values = dict.fromkeys(folder_locations)\n",
    "for search_type, folder in folder_locations.items():\n",
    "    cache_files = [cache for cache in os.listdir(folder) if cache.endswith('.pkl')]\n",
    "    cache_files.sort()\n",
    "\n",
    "    # Open all the caches\n",
    "    values = []\n",
    "    for cache_name in tqdm(cache_files, desc=search_type):\n",
    "        cache_file = os.path.join(folder, cache_name)\n",
    "        with open(cache_file, 'rb') as file_handle:\n",
    "            cache = pickle.load(file_handle)\n",
    "\n",
    "        # Save all the bulk values\n",
    "        try:\n",
    "            values.append(cache['bulk_values'])\n",
    "        except KeyError:\n",
    "            continue\n",
    "    bulk_values[search_type] = np.array(values)\n",
    "\n",
    "# Calculate out the classification history\n",
    "classify_bulks = mms_prime_discoverer._classify_bulks\n",
    "bulk_classes = {search_type: np.array([classify_bulks(values)\n",
    "                                       for values in tqdm(value_history, desc=search_type)])\n",
    "                for search_type, value_history in bulk_values.items()}"
   ]
  },
  {
   "cell_type": "code",
   "execution_count": 34,
   "metadata": {},
   "outputs": [
    {
     "data": {
      "image/png": "[encoded data removed]",
      "text/plain": [
       "<Figure size 468x360 with 2 Axes>"
      ]
     },
     "metadata": {
      "needs_background": "light"
     },
     "output_type": "display_data"
    }
   ],
   "source": [
    "fig, (ax_f1, ax_df) = plt.subplots(2)\n",
    "window = 1\n",
    "\n",
    "_ = plot_rolling_metric(ax=ax_f1,\n",
    "                        metric_values=rs_null_discoverer.reward_history,\n",
    "                        label='RS null',\n",
    "                        metric_name='F1 score',\n",
    "                        unit='',\n",
    "                        window=window,\n",
    "                        color='gray')\n",
    "_ = plot_rolling_metric(ax=ax_f1,\n",
    "                        metric_values=rs_cfgp_discoverer.reward_history,\n",
    "                        label='RS CFGP',\n",
    "                        metric_name='F1 score',\n",
    "                        unit='',\n",
    "                        window=window,\n",
    "                        color='blue')\n",
    "_ = plot_rolling_metric(ax=ax_f1,\n",
    "                        metric_values=rs_prime_discoverer.reward_history,\n",
    "                        label='RS prime',\n",
    "                        metric_name='F1 score',\n",
    "                        unit='',\n",
    "                        window=window,\n",
    "                        color='green')\n",
    "_ = plot_rolling_metric(ax=ax_f1,\n",
    "                        metric_values=mms_null_discoverer.reward_history,\n",
    "                        label='MMS null',\n",
    "                        metric_name='F1 score',\n",
    "                        unit='',\n",
    "                        window=window,\n",
    "                        color='gray')\n",
    "_ = plot_rolling_metric(ax=ax_f1,\n",
    "                        metric_values=mms_cfgp_discoverer.reward_history,\n",
    "                        label='MMS CFGP',\n",
    "                        metric_name='F1 score',\n",
    "                        unit='',\n",
    "                        window=window,\n",
    "                        color='blue')\n",
    "_ = plot_rolling_metric(ax=ax_f1,\n",
    "                        metric_values=mms_prime_discoverer.reward_history,\n",
    "                        label='MMS prime',\n",
    "                        metric_name='F1 score',\n",
    "                        unit='',\n",
    "                        window=window,\n",
    "                        color='green')\n",
    "\n",
    "# Format\n",
    "for line in ax_f1.lines[:3]:\n",
    "    line.set_linestyle('--')\n",
    "    line.set_dashes((2, 2))\n",
    "_ = ax_f1.legend(bbox_to_anchor=(1.05, 1), loc='upper left')\n",
    "for line in ax_f1.lines[:3]:\n",
    "    line.set_linestyle('--')\n",
    "    line.set_dashes((6, 6))\n",
    "_ = ax_f1.set_xlim(0, 91)\n",
    "_ = ax_f1.set_ylim(0, 1.1)\n",
    "#_ = ax_f1.set_xlabel('batch number (batch size = 200 queries)')\n",
    "_ = ax_f1.set_xlabel('')\n",
    "_ = ax_f1.set_ylabel('F1 score')\n",
    "_ = fig.set_size_inches(*FIG_SIZE)\n",
    "_ = ax_f1.get_xaxis().set_major_formatter(FORMATTER)\n",
    "\n",
    "\n",
    "# Calculate dFhat\n",
    "dFhat_histories = {}\n",
    "for search_type, class_history in bulk_classes.items():\n",
    "    dFhat_history = []\n",
    "\n",
    "    # Initialize the algorithm\n",
    "    for i, previous_classes in enumerate(class_history[:-1]):\n",
    "        classes = class_history[i+1]\n",
    "        a, b, c, d = (0, 0, 0, 0)\n",
    "\n",
    "        # Count a, b, and c to...\n",
    "        for mpid, class_ in classes.items():\n",
    "            previous_class = previous_classes[mpid]\n",
    "            if previous_class is True:\n",
    "                if class_ is True:\n",
    "                    a += 1\n",
    "                elif class_ is False:\n",
    "                    b += 1\n",
    "            elif previous_class is False:\n",
    "                if class_ is True:\n",
    "                    c += 1\n",
    "\n",
    "        # Calculate and store dFhat values\n",
    "        dFhat = 1 - 2*a / (2*a + b + c)\n",
    "        dFhat_history.append(dFhat)\n",
    "    dFhat_history = np.array(dFhat_history)\n",
    "    dFhat_histories[search_type] = dFhat_history\n",
    "\n",
    "    # Plot\n",
    "    #if search_type.startswith('MMS'):\n",
    "    #    _ = sns.lineplot(list(range(len(dFhat_history))), dFhat_history,\n",
    "    #                     ax=ax_df, label=search_type)\n",
    "    #else:\n",
    "    #    _ = plot_rolling_metric(ax_df, dFhat_history, label=search_type, \n",
    "    #                            metric_name='$\\Delta \\hat{F}$',\n",
    "    #                            window=40)\n",
    "    _ = sns.lineplot(list(range(len(dFhat_history))), dFhat_history,\n",
    "                     ax=ax_df, label=search_type)\n",
    "\n",
    "# Format figures\n",
    "for line in ax_df.lines[:3]:\n",
    "    line.set_linestyle('--')\n",
    "    line.set_dashes((2, 2))\n",
    "ax_df.lines[0].set_color('gray')\n",
    "ax_df.lines[1].set_color('blue')\n",
    "ax_df.lines[2].set_color('green')\n",
    "ax_df.lines[3].set_color('gray')\n",
    "ax_df.lines[4].set_color('blue')\n",
    "ax_df.lines[5].set_color('green')\n",
    "_ = ax_df.set_xlim(0, 91)\n",
    "_ = ax_df.get_legend().remove()\n",
    "for line in ax_df.lines[:3]:\n",
    "    line.set_linestyle('--')\n",
    "    line.set_dashes((6, 4))\n",
    "_ = ax_df.set_ylim([-0.05, 0.6])\n",
    "_ = fig.set_size_inches(*FIG_SIZE)\n",
    "_ = ax_df.get_xaxis().set_major_formatter(FORMATTER)\n",
    "_ = ax_df.set_xlabel('batch number (batch size = 200 queries)')\n",
    "_ = ax_df.set_ylabel('$\\Delta \\hat{F}$')\n",
    "\n",
    "# Annotate subplots\n",
    "_ = ax_f1.text(-10, 1.1, 'a',\n",
    "               font=dict(family='sans', size=10, weight='bold'))\n",
    "_ = ax_df.text(-10, 0.6, 'b',\n",
    "               font=dict(family='sans', size=10, weight='bold'))\n",
    "\n",
    "# Save\n",
    "_ = plt.savefig('../../MMS_manuscript/figures/hallucinations/gasdb.pdf',\n",
    "                bbox_inches='tight', transparent=True, dpi=600)"
   ]
  },
  {
   "cell_type": "code",
   "execution_count": null,
   "metadata": {},
   "outputs": [],
   "source": []
  }
 ],
 "metadata": {
  "kernelspec": {
   "display_name": "Python 3",
   "language": "python",
   "name": "python3"
  },
  "language_info": {
   "codemirror_mode": {
    "name": "ipython",
    "version": 3
   },
   "file_extension": ".py",
   "mimetype": "text/x-python",
   "name": "python",
   "nbconvert_exporter": "python",
   "pygments_lexer": "ipython3",
   "version": "3.7.8"
  }
 },
 "nbformat": 4,
 "nbformat_minor": 4
}
