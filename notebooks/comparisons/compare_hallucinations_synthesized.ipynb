{
 "cells": [
  {
   "cell_type": "markdown",
   "metadata": {},
   "source": [
    "Synthesized"
   ]
  },
  {
   "cell_type": "markdown",
   "metadata": {},
   "source": [
    "# Initialize"
   ]
  },
  {
   "cell_type": "code",
   "execution_count": 1,
   "metadata": {},
   "outputs": [
    {
     "name": "stderr",
     "output_type": "stream",
     "text": [
      "/opt/conda/lib/python3.7/site-packages/IPython/config.py:13: ShimWarning: The `IPython.config` package has been deprecated since IPython 4.0. You should import from traitlets.config instead.\n",
      "  \"You should import from traitlets.config instead.\", ShimWarning)\n",
      "/opt/conda/lib/python3.7/site-packages/ipycache.py:17: UserWarning: IPython.utils.traitlets has moved to a top-level traitlets package.\n",
      "  from IPython.utils.traitlets import Unicode\n"
     ]
    }
   ],
   "source": [
    "%load_ext ipycache\n",
    "%load_ext autoreload\n",
    "%autoreload 2"
   ]
  },
  {
   "cell_type": "code",
   "execution_count": 2,
   "metadata": {},
   "outputs": [],
   "source": [
    "import os\n",
    "import sys\n",
    "\n",
    "comparisons_folder = os.getcwd()\n",
    "src_folder = '/'.join(comparisons_folder.split('/')[:-2])\n",
    "sys.path.insert(0, src_folder)\n",
    "from src.discoverers.adsorption.values import calc_co2rr_activities\n",
    "\n",
    "\n",
    "adsorbate = 'CO'\n",
    "target_energy = -0.67\n",
    "initial_training_size = 1000\n",
    "batch_size = 200\n",
    "quantile_cutoff = 0.9"
   ]
  },
  {
   "cell_type": "code",
   "execution_count": 3,
   "metadata": {},
   "outputs": [
    {
     "name": "stderr",
     "output_type": "stream",
     "text": [
      "reading ASE db: 100%|██████████| 421039/421039 [21:15<00:00, 330.11it/s]\n",
      "parsing rows: 100%|██████████| 1000/1000 [00:00<00:00, 2611.94it/s]\n",
      "parsing rows: 100%|██████████| 420039/420039 [02:48<00:00, 2498.43it/s]\n"
     ]
    }
   ],
   "source": [
    "import random\n",
    "from multiprocess import Pool\n",
    "from tqdm import tqdm\n",
    "import ase.db\n",
    "\n",
    "\n",
    "db_dir = os.path.join(src_folder, 'notebooks/pull_data/%s_synthesized' % adsorbate)\n",
    "db_file = os.path.join(db_dir, '%s.db' % adsorbate)\n",
    "db = ase.db.connect(db_file)\n",
    "rows = list(tqdm(db.select(), desc='reading ASE db', total=db.count()))\n",
    "random.Random(42).shuffle(rows)\n",
    "\n",
    "\n",
    "def parse_row(row):\n",
    "    feature = row.id\n",
    "    data = row.data\n",
    "    label = data['adsorption_energy']\n",
    "    surface = (data['mpid'], data['miller'], data['shift'], data['top'])\n",
    "    return feature, label, surface\n",
    "        \n",
    "        \n",
    "def parse_rows(rows): \n",
    "    with Pool(processes=32, maxtasksperchild=1000) as pool:\n",
    "        iterator = pool.imap(parse_row, rows, chunksize=100)\n",
    "        iterator_tracked = tqdm(iterator, desc='parsing rows', total=len(rows))\n",
    "        parsed_rows = list(iterator_tracked)\n",
    "\n",
    "    features, labels, surfaces = list(map(list, zip(*parsed_rows)))\n",
    "    return features, labels, surfaces\n",
    "\n",
    "\n",
    "# Data parsing\n",
    "training_features, training_labels, training_surfaces = parse_rows(rows[:initial_training_size])\n",
    "sampling_features, sampling_labels, sampling_surfaces = parse_rows(rows[initial_training_size:])"
   ]
  },
  {
   "cell_type": "markdown",
   "metadata": {},
   "source": [
    "# Random Sampling Procedures"
   ]
  },
  {
   "cell_type": "code",
   "execution_count": 4,
   "metadata": {},
   "outputs": [],
   "source": [
    "from src.discoverers.adsorption.randomsearch import RandomSearcher"
   ]
  },
  {
   "cell_type": "markdown",
   "metadata": {},
   "source": [
    "## Random Sampling with Null Model"
   ]
  },
  {
   "cell_type": "code",
   "execution_count": 5,
   "metadata": {},
   "outputs": [
    {
     "name": "stdout",
     "output_type": "stream",
     "text": [
      "/home/jovyan/catalyst-acquisitions/notebooks/random/null_syn\n"
     ]
    }
   ],
   "source": [
    "cd ../random/null_syn"
   ]
  },
  {
   "cell_type": "code",
   "execution_count": 6,
   "metadata": {
    "scrolled": true
   },
   "outputs": [
    {
     "name": "stderr",
     "output_type": "stream",
     "text": [
      "/home/jovyan/catalyst-acquisitions/src/discoverers/adsorption/base.py:812: UserWarning: Tried to set the bulk_values attribute when loading but couldn't\n",
      "  warnings.warn(\"Tried to set the %s attribute when loading but couldn't\" % key)\n"
     ]
    }
   ],
   "source": [
    "from src.discoverers.adsorption.models import NullModel\n",
    "\n",
    "\n",
    "model = NullModel(db_dir, quantile_cutoff)\n",
    "rs_null_discoverer = RandomSearcher(model=model,\n",
    "                                    quantile_cutoff=quantile_cutoff,\n",
    "                                    value_calculator=calc_co2rr_activities,\n",
    "                                    batch_size=batch_size,\n",
    "                                    training_features=training_features,\n",
    "                                    training_labels=training_labels,\n",
    "                                    training_surfaces=training_surfaces,\n",
    "                                    sampling_features=sampling_features,\n",
    "                                    sampling_labels=sampling_labels,\n",
    "                                    sampling_surfaces=sampling_surfaces,\n",
    "                                    init_train=False    # Set to `False` only for warm starts\n",
    "                                    )\n",
    "\n",
    "rs_null_discoverer.load_last_run()\n",
    "#_ = rs_null_discoverer.plot_performance(window=100)"
   ]
  },
  {
   "cell_type": "markdown",
   "metadata": {},
   "source": [
    "## Random sampling with prime model"
   ]
  },
  {
   "cell_type": "code",
   "execution_count": 7,
   "metadata": {},
   "outputs": [
    {
     "name": "stdout",
     "output_type": "stream",
     "text": [
      "/home/jovyan/catalyst-acquisitions/notebooks/random/prime_syn\n"
     ]
    }
   ],
   "source": [
    "cd ../prime_syn"
   ]
  },
  {
   "cell_type": "code",
   "execution_count": 8,
   "metadata": {
    "scrolled": true
   },
   "outputs": [
    {
     "data": {
      "application/vnd.jupyter.widget-view+json": {
       "model_id": "f554b92a306147e0be9380ceb4e5d222",
       "version_major": 2,
       "version_minor": 0
      },
      "text/plain": [
       "HBox(children=(FloatProgress(value=0.0, description='reading ASE db for Prime model', max=421039.0, style=Prog…"
      ]
     },
     "metadata": {},
     "output_type": "display_data"
    },
    {
     "name": "stdout",
     "output_type": "stream",
     "text": [
      "\n"
     ]
    },
    {
     "data": {
      "application/vnd.jupyter.widget-view+json": {
       "model_id": "d314859ca01d48db908cdf8ac0108db0",
       "version_major": 2,
       "version_minor": 0
      },
      "text/plain": [
       "HBox(children=(FloatProgress(value=0.0, description='Reading data', max=421039.0, style=ProgressStyle(descript…"
      ]
     },
     "metadata": {},
     "output_type": "display_data"
    },
    {
     "name": "stdout",
     "output_type": "stream",
     "text": [
      "\n"
     ]
    }
   ],
   "source": [
    "from src.discoverers.adsorption.models import PrimeModel\n",
    "\n",
    "\n",
    "model = PrimeModel(db_dir)\n",
    "rs_prime_discoverer = RandomSearcher(model=model,\n",
    "                                     quantile_cutoff=quantile_cutoff,\n",
    "                                     value_calculator=calc_co2rr_activities,\n",
    "                                     batch_size=batch_size,\n",
    "                                     training_features=training_features,\n",
    "                                     training_labels=training_labels,\n",
    "                                     training_surfaces=training_surfaces,\n",
    "                                     sampling_features=sampling_features,\n",
    "                                     sampling_labels=sampling_labels,\n",
    "                                     sampling_surfaces=sampling_surfaces,\n",
    "                                     init_train=False    # Set to `False` only for warm starts\n",
    "                                     )\n",
    "\n",
    "rs_prime_discoverer.load_last_run()\n",
    "#_ = rs_prime_discoverer.plot_performance(window=100)"
   ]
  },
  {
   "cell_type": "markdown",
   "metadata": {},
   "source": [
    "# MMS Procedures"
   ]
  },
  {
   "cell_type": "code",
   "execution_count": 9,
   "metadata": {},
   "outputs": [],
   "source": [
    "from src.discoverers.adsorption.mms import MultiscaleDiscoverer"
   ]
  },
  {
   "cell_type": "markdown",
   "metadata": {},
   "source": [
    "## MMS with null model"
   ]
  },
  {
   "cell_type": "code",
   "execution_count": 10,
   "metadata": {},
   "outputs": [
    {
     "name": "stdout",
     "output_type": "stream",
     "text": [
      "/home/jovyan/catalyst-acquisitions/notebooks/MMS/null_syn\n"
     ]
    }
   ],
   "source": [
    "cd ../../MMS/null_syn"
   ]
  },
  {
   "cell_type": "code",
   "execution_count": 11,
   "metadata": {
    "scrolled": true
   },
   "outputs": [
    {
     "name": "stderr",
     "output_type": "stream",
     "text": [
      "/home/jovyan/catalyst-acquisitions/src/discoverers/adsorption/base.py:812: UserWarning: Tried to set the bulk_values attribute when loading but couldn't\n",
      "  warnings.warn(\"Tried to set the %s attribute when loading but couldn't\" % key)\n"
     ]
    }
   ],
   "source": [
    "from src.discoverers.adsorption.models import NullModel\n",
    "\n",
    "\n",
    "model = NullModel(db_dir, quantile_cutoff)\n",
    "mms_null_discoverer = MultiscaleDiscoverer(model=model,\n",
    "                                           quantile_cutoff=quantile_cutoff,\n",
    "                                           value_calculator=calc_co2rr_activities,\n",
    "                                           batch_size=batch_size,\n",
    "                                           training_features=training_features,\n",
    "                                           training_labels=training_labels,\n",
    "                                           training_surfaces=training_surfaces,\n",
    "                                           sampling_features=sampling_features,\n",
    "                                           sampling_labels=sampling_labels,\n",
    "                                           sampling_surfaces=sampling_surfaces,\n",
    "                                           init_train=False  # Set to `False` only for warm starts\n",
    "                                           )\n",
    "\n",
    "mms_null_discoverer.load_last_run()\n",
    "#_ = mms_null_discoverer.plot_performance(window=100)"
   ]
  },
  {
   "cell_type": "markdown",
   "metadata": {},
   "source": [
    "## MMS with prime"
   ]
  },
  {
   "cell_type": "code",
   "execution_count": 12,
   "metadata": {
    "scrolled": true
   },
   "outputs": [
    {
     "name": "stdout",
     "output_type": "stream",
     "text": [
      "/home/jovyan/catalyst-acquisitions/notebooks/MMS/prime_syn\n"
     ]
    }
   ],
   "source": [
    "cd ../prime_syn"
   ]
  },
  {
   "cell_type": "code",
   "execution_count": 13,
   "metadata": {
    "scrolled": true
   },
   "outputs": [
    {
     "data": {
      "application/vnd.jupyter.widget-view+json": {
       "model_id": "b10df30f87ba4119bc7ebf272ac0b503",
       "version_major": 2,
       "version_minor": 0
      },
      "text/plain": [
       "HBox(children=(FloatProgress(value=0.0, description='reading ASE db for Prime model', max=421039.0, style=Prog…"
      ]
     },
     "metadata": {},
     "output_type": "display_data"
    },
    {
     "name": "stdout",
     "output_type": "stream",
     "text": [
      "\n"
     ]
    },
    {
     "data": {
      "application/vnd.jupyter.widget-view+json": {
       "model_id": "2eadd5dbd7fa4ddaa437de759c927eca",
       "version_major": 2,
       "version_minor": 0
      },
      "text/plain": [
       "HBox(children=(FloatProgress(value=0.0, description='Reading data', max=421039.0, style=ProgressStyle(descript…"
      ]
     },
     "metadata": {},
     "output_type": "display_data"
    },
    {
     "name": "stdout",
     "output_type": "stream",
     "text": [
      "\n"
     ]
    }
   ],
   "source": [
    "from src.discoverers.adsorption.models import PrimeModel\n",
    "\n",
    "\n",
    "model = PrimeModel(db_dir)\n",
    "mms_prime_discoverer = MultiscaleDiscoverer(model=model,\n",
    "                                            quantile_cutoff=quantile_cutoff,\n",
    "                                            value_calculator=calc_co2rr_activities,\n",
    "                                            batch_size=batch_size,\n",
    "                                            training_features=training_features,\n",
    "                                            training_labels=training_labels,\n",
    "                                            training_surfaces=training_surfaces,\n",
    "                                            sampling_features=sampling_features,\n",
    "                                            sampling_labels=sampling_labels,\n",
    "                                            sampling_surfaces=sampling_surfaces,\n",
    "                                            init_train=False    # Set to `False` only for warm starts\n",
    "                                            )\n",
    "\n",
    "mms_prime_discoverer.load_last_run()\n",
    "#_ = mms_prime_discoverer.plot_performance(window=100)"
   ]
  },
  {
   "cell_type": "markdown",
   "metadata": {},
   "source": [
    "# Caching"
   ]
  },
  {
   "cell_type": "code",
   "execution_count": 14,
   "metadata": {
    "scrolled": false
   },
   "outputs": [
    {
     "name": "stdout",
     "output_type": "stream",
     "text": [
      "/home/jovyan/catalyst-acquisitions/notebooks/comparisons\n"
     ]
    }
   ],
   "source": [
    "cd /home/jovyan/catalyst-acquisitions/notebooks/comparisons"
   ]
  },
  {
   "cell_type": "code",
   "execution_count": 3,
   "metadata": {},
   "outputs": [
    {
     "name": "stdout",
     "output_type": "stream",
     "text": [
      "[Skipped the cell's code and loaded variables mms_null_discoverer, mms_prime_discoverer, rs_null_discoverer, rs_prime_discoverer from file '/home/jovyan/catalyst-acquisitions/notebooks/comparisons/discoverers_synthesized.pkl'.]\n"
     ]
    }
   ],
   "source": [
    "%%cache discoverers_synthesized.pkl rs_null_discoverer rs_prime_discoverer mms_null_discoverer mms_prime_discoverer\n",
    "\n",
    "rs_null_discoverer = rs_null_discoverer\n",
    "rs_prime_discoverer = rs_prime_discoverer\n",
    "mms_null_discoverer = mms_null_discoverer\n",
    "mms_prime_discoverer = mms_prime_discoverer"
   ]
  },
  {
   "cell_type": "markdown",
   "metadata": {},
   "source": [
    "# Comparison"
   ]
  },
  {
   "cell_type": "code",
   "execution_count": 7,
   "metadata": {},
   "outputs": [],
   "source": [
    "import numpy as np\n",
    "import pandas as pd\n",
    "import matplotlib.pyplot as plt\n",
    "from matplotlib import ticker\n",
    "import seaborn as sns\n",
    "\n",
    "\n",
    "FORMATTER = ticker.FuncFormatter(lambda x, p: format(int(x), ','))\n",
    "FIG_SIZE = (6.5, 5.)\n",
    "#FIG_SIZE = (6.5, 2.5)\n",
    "#FIG_SIZE = (13, 5)\n",
    "\n",
    "\n",
    "def plot_rolling_metric(ax, metric_values, metric_name, label=None,\n",
    "                        window=200, smoother='mean', unit='', **kwargs):\n",
    "    '''\n",
    "    Helper function to plot model performance metrics across time in\n",
    "    hallucination.\n",
    "\n",
    "    Args:\n",
    "        ax              Matplotlib ax object to plot onto\n",
    "        metric_values   A sequence of floats that will be plotted against\n",
    "                        batch number in the hallucination.\n",
    "        metric_name     A string indicating what you want the values to be\n",
    "                        labeled as in the plots.\n",
    "        label           A string indicating the label you want to use for\n",
    "                        the data\n",
    "        window          How many points to roll over during each iteration\n",
    "        smoother        String indicating how you want to smooth the\n",
    "                        residuals over the course of the hallucination.\n",
    "                        Corresponds exactly to the methods of the\n",
    "                        `pandas.DataFrame.rolling` class, e.g., 'mean',\n",
    "                        'median', 'min', 'max', 'std', 'sum', etc.\n",
    "        unit            [Optional] String indicating the units you want to\n",
    "                        label the plot with\n",
    "        kwargs          Keyword arguments to pass to `sns.lineplot`\n",
    "    '''\n",
    "    # Format the data\n",
    "    df = pd.DataFrame(metric_values, columns=[metric_name])\n",
    "    rolling_residuals = getattr(df, metric_name).rolling(window=window)\n",
    "    rolled_values = getattr(rolling_residuals, smoother)().values\n",
    "    query_numbers = list(range(len(rolled_values)))\n",
    "\n",
    "    # Create and format the figure\n",
    "    _ = sns.lineplot(query_numbers, rolled_values, ax=ax, label=label, **kwargs)\n",
    "    _ = ax.set_xlabel('Number of discovery queries')\n",
    "    if unit:\n",
    "        unit = ' [' + unit + ']'\n",
    "    _ = ax.set_ylabel('Rolling %s of \\n%s%s' % (smoother, metric_name, unit))\n",
    "    _ = ax.set_xlim([query_numbers[0], query_numbers[-1]])\n",
    "    _ = ax.set_ylim([0., np.nanmax(rolled_values) * 1.1])\n",
    "    _ = fig.set_size_inches(*FIG_SIZE)\n",
    "    _ = ax.get_xaxis().set_major_formatter(FORMATTER)\n",
    "    return fig"
   ]
  },
  {
   "cell_type": "markdown",
   "metadata": {},
   "source": [
    "## Plotting\n",
    "See https://arxiv.org/abs/1901.09118 for Altschuler and Bloodgood's $\\Delta\\hat{F}$"
   ]
  },
  {
   "cell_type": "code",
   "execution_count": 5,
   "metadata": {
    "scrolled": true
   },
   "outputs": [
    {
     "name": "stdout",
     "output_type": "stream",
     "text": [
      "[Skipped the cell's code and loaded variables bulk_classes, bulk_values, folder_locations from file '/home/jovyan/catalyst-acquisitions/notebooks/comparisons/parsed_caches.pkl'.]\n",
      "\n",
      "\n",
      "\n",
      "\n",
      "\n",
      "\n",
      "\n",
      "\n"
     ]
    },
    {
     "data": {
      "application/vnd.jupyter.widget-view+json": {
       "model_id": "96111dea2e194e1cb4d58d6e410830d9",
       "version_major": 2,
       "version_minor": 0
      },
      "text/plain": [
       "HBox(children=(FloatProgress(value=0.0, description='RS null', max=2102.0, style=ProgressStyle(description_wid…"
      ]
     },
     "metadata": {},
     "output_type": "display_data"
    },
    {
     "data": {
      "application/vnd.jupyter.widget-view+json": {
       "model_id": "22defed571ad40bb9fa7b18fa8d52229",
       "version_major": 2,
       "version_minor": 0
      },
      "text/plain": [
       "HBox(children=(FloatProgress(value=0.0, description='RS prime', max=2102.0, style=ProgressStyle(description_wi…"
      ]
     },
     "metadata": {},
     "output_type": "display_data"
    },
    {
     "data": {
      "application/vnd.jupyter.widget-view+json": {
       "model_id": "65b92d778fb8461c93775bc19f58ffce",
       "version_major": 2,
       "version_minor": 0
      },
      "text/plain": [
       "HBox(children=(FloatProgress(value=0.0, description='MMS null', max=2102.0, style=ProgressStyle(description_wi…"
      ]
     },
     "metadata": {},
     "output_type": "display_data"
    },
    {
     "data": {
      "application/vnd.jupyter.widget-view+json": {
       "model_id": "c0863f8e34ec4eeb871ba772a4e1d092",
       "version_major": 2,
       "version_minor": 0
      },
      "text/plain": [
       "HBox(children=(FloatProgress(value=0.0, description='MMS prime', max=2102.0, style=ProgressStyle(description_w…"
      ]
     },
     "metadata": {},
     "output_type": "display_data"
    },
    {
     "data": {
      "application/vnd.jupyter.widget-view+json": {
       "model_id": "3700bb60822c49f885b178f5767c19ad",
       "version_major": 2,
       "version_minor": 0
      },
      "text/plain": [
       "HBox(children=(FloatProgress(value=0.0, description='RS null', max=2101.0, style=ProgressStyle(description_wid…"
      ]
     },
     "metadata": {},
     "output_type": "display_data"
    },
    {
     "data": {
      "application/vnd.jupyter.widget-view+json": {
       "model_id": "9a223978c48044b7a8cd361ace3dc742",
       "version_major": 2,
       "version_minor": 0
      },
      "text/plain": [
       "HBox(children=(FloatProgress(value=0.0, description='RS prime', max=2101.0, style=ProgressStyle(description_wi…"
      ]
     },
     "metadata": {},
     "output_type": "display_data"
    },
    {
     "data": {
      "application/vnd.jupyter.widget-view+json": {
       "model_id": "d76dbaf57ae5437d9a9918089848e5bb",
       "version_major": 2,
       "version_minor": 0
      },
      "text/plain": [
       "HBox(children=(FloatProgress(value=0.0, description='MMS null', max=2102.0, style=ProgressStyle(description_wi…"
      ]
     },
     "metadata": {},
     "output_type": "display_data"
    },
    {
     "data": {
      "application/vnd.jupyter.widget-view+json": {
       "model_id": "a46d1015d0424311a6b8fb48070a8938",
       "version_major": 2,
       "version_minor": 0
      },
      "text/plain": [
       "HBox(children=(FloatProgress(value=0.0, description='MMS prime', max=2102.0, style=ProgressStyle(description_w…"
      ]
     },
     "metadata": {},
     "output_type": "display_data"
    }
   ],
   "source": [
    "%%cache parsed_caches.pkl folder_locations bulk_values bulk_classes\n",
    "\n",
    "import os\n",
    "import pickle\n",
    "import numpy as np\n",
    "from tqdm.notebook import tqdm\n",
    "\n",
    "\n",
    "# Point to all the cache folders\n",
    "folder_locations = {'RS null': '../random/null_syn/RandomSearcher_NullModel_caches',\n",
    "                    'RS prime': '../random/prime_syn/RandomSearcher_PrimeModel_caches',\n",
    "                    'MMS null': '../MMS/null_syn/MultiscaleDiscoverer_NullModel_caches',\n",
    "                    'MMS prime': '../MMS/prime_syn/MultiscaleDiscoverer_PrimeModel_caches'}\n",
    "\n",
    "# Find all the caches\n",
    "bulk_values = dict.fromkeys(folder_locations)\n",
    "for search_type, folder in folder_locations.items():\n",
    "    cache_files = [cache for cache in os.listdir(folder) if cache.endswith('.pkl')]\n",
    "    cache_files.sort()\n",
    "\n",
    "    # Open all the caches\n",
    "    values = []\n",
    "    for cache_name in tqdm(cache_files, desc=search_type):\n",
    "        cache_file = os.path.join(folder, cache_name)\n",
    "        with open(cache_file, 'rb') as file_handle:\n",
    "            cache = pickle.load(file_handle)\n",
    "\n",
    "        # Save all the bulk values\n",
    "        try:\n",
    "            values.append(cache['bulk_values'])\n",
    "        except KeyError:\n",
    "            continue\n",
    "    bulk_values[search_type] = np.array(values)\n",
    "\n",
    "# Calculate out the classification history\n",
    "classify_bulks = mms_prime_discoverer._classify_bulks\n",
    "bulk_classes = {search_type: np.array([classify_bulks(values)\n",
    "                                       for values in tqdm(value_history, desc=search_type)])\n",
    "                for search_type, value_history in bulk_values.items()}"
   ]
  },
  {
   "cell_type": "code",
   "execution_count": 19,
   "metadata": {},
   "outputs": [
    {
     "data": {
      "image/png": "[encoded data removed]",
      "text/plain": [
       "<Figure size 468x360 with 2 Axes>"
      ]
     },
     "metadata": {
      "needs_background": "light"
     },
     "output_type": "display_data"
    }
   ],
   "source": [
    "fig, (ax_f1, ax_df) = plt.subplots(2)\n",
    "window = 20\n",
    "\n",
    "_ = plot_rolling_metric(ax=ax_f1,\n",
    "                        metric_values=rs_null_discoverer.reward_history,\n",
    "                        label='RS null',\n",
    "                        metric_name='F1 score',\n",
    "                        unit='',\n",
    "                        window=window,\n",
    "                        color='gray')\n",
    "_ = plot_rolling_metric(ax=ax_f1,\n",
    "                        metric_values=rs_prime_discoverer.reward_history,\n",
    "                        label='RS prime',\n",
    "                        metric_name='F1 score',\n",
    "                        unit='',\n",
    "                        window=window,\n",
    "                        color='green')\n",
    "_ = plot_rolling_metric(ax=ax_f1,\n",
    "                        metric_values=mms_null_discoverer.reward_history,\n",
    "                        label='MMS null',\n",
    "                        metric_name='F1 score',\n",
    "                        unit='',\n",
    "                        window=window,\n",
    "                        color='gray')\n",
    "_ = plot_rolling_metric(ax=ax_f1,\n",
    "                        metric_values=mms_prime_discoverer.reward_history,\n",
    "                        label='MMS prime',\n",
    "                        metric_name='F1 score',\n",
    "                        unit='',\n",
    "                        window=window,\n",
    "                        color='green')\n",
    "\n",
    "# Format\n",
    "for line in ax_f1.lines[:2]:\n",
    "    line.set_linestyle('--')\n",
    "    line.set_dashes((2, 2))\n",
    "_ = ax_f1.legend(bbox_to_anchor=(1.05, 1), loc='upper left')\n",
    "for line in ax_f1.lines[:2]:\n",
    "    line.set_linestyle('--')\n",
    "    line.set_dashes((6, 6))\n",
    "_ = ax_f1.set_xlim(0, 2200)\n",
    "_ = ax_f1.set_ylim(0, 1.1)\n",
    "#_ = ax_f1.set_xlabel('batch number (batch size = 200 queries)')\n",
    "_ = ax_f1.set_xlabel('')\n",
    "_ = ax_f1.set_ylabel('F1 score')\n",
    "_ = fig.set_size_inches(*FIG_SIZE)\n",
    "_ = ax_f1.get_xaxis().set_major_formatter(FORMATTER)\n",
    "\n",
    "\n",
    "# Calculate dFhat\n",
    "dFhat_histories = {}\n",
    "for search_type, class_history in bulk_classes.items():\n",
    "    dFhat_history = []\n",
    "\n",
    "    # Initialize the algorithm\n",
    "    for i, previous_classes in enumerate(class_history[:-1]):\n",
    "        classes = class_history[i+1]\n",
    "        a, b, c, d = (0, 0, 0, 0)\n",
    "\n",
    "        # Count a, b, and c to...\n",
    "        for mpid, class_ in classes.items():\n",
    "            previous_class = previous_classes[mpid]\n",
    "            if previous_class is True:\n",
    "                if class_ is True:\n",
    "                    a += 1\n",
    "                elif class_ is False:\n",
    "                    b += 1\n",
    "            elif previous_class is False:\n",
    "                if class_ is True:\n",
    "                    c += 1\n",
    "\n",
    "        # Calculate and store dFhat values\n",
    "        dFhat = 1 - 2*a / (2*a + b + c)\n",
    "        dFhat_history.append(dFhat)\n",
    "    dFhat_history = np.array(dFhat_history)\n",
    "    dFhat_histories[search_type] = dFhat_history\n",
    "\n",
    "    # Plot\n",
    "    if search_type != 'MMS null':\n",
    "        _ = plot_rolling_metric(ax_df, dFhat_history, label=search_type, \n",
    "                                metric_name='$\\Delta \\hat{F}$',\n",
    "                                window=40)\n",
    "    else:\n",
    "        _ = sns.lineplot(list(range(len(dFhat_history))), dFhat_history,\n",
    "                         ax=ax_df, label='MMS null')\n",
    "\n",
    "# Format figures\n",
    "for line in ax_df.lines[:2]:\n",
    "    line.set_linestyle('--')\n",
    "    line.set_dashes((2, 2))\n",
    "ax_df.lines[0].set_color('gray')\n",
    "ax_df.lines[2].set_color('gray')\n",
    "ax_df.lines[1].set_color('green')\n",
    "ax_df.lines[3].set_color('green')\n",
    "_ = ax_df.set_xlim(0, 2200)\n",
    "_ = ax_df.get_legend().remove()\n",
    "for line in ax_df.lines[:2]:\n",
    "    line.set_linestyle('--')\n",
    "    line.set_dashes((12, 8))\n",
    "_ = ax_df.set_ylim([-0.05, 0.4])\n",
    "_ = fig.set_size_inches(*FIG_SIZE)\n",
    "_ = ax_df.get_xaxis().set_major_formatter(FORMATTER)\n",
    "_ = ax_df.set_xlabel('batch number (batch size = 200 queries)')\n",
    "_ = ax_df.set_ylabel('$\\Delta \\hat{F}$')\n",
    "\n",
    "# Save\n",
    "_ = plt.savefig('../../MMS_manuscript/figures/hallucinations/synthesized/results.pdf',\n",
    "                bbox_inches='tight', transparent=True, dpi=600)"
   ]
  },
  {
   "cell_type": "code",
   "execution_count": null,
   "metadata": {},
   "outputs": [],
   "source": []
  }
 ],
 "metadata": {
  "kernelspec": {
   "display_name": "Python 3",
   "language": "python",
   "name": "python3"
  },
  "language_info": {
   "codemirror_mode": {
    "name": "ipython",
    "version": 3
   },
   "file_extension": ".py",
   "mimetype": "text/x-python",
   "name": "python",
   "nbconvert_exporter": "python",
   "pygments_lexer": "ipython3",
   "version": "3.7.8"
  }
 },
 "nbformat": 4,
 "nbformat_minor": 4
}
