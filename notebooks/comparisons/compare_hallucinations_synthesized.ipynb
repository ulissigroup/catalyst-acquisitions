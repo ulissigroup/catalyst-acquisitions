{
 "cells": [
  {
   "cell_type": "markdown",
   "metadata": {},
   "source": [
    "# Initialize"
   ]
  },
  {
   "cell_type": "code",
   "execution_count": 1,
   "metadata": {},
   "outputs": [
    {
     "name": "stderr",
     "output_type": "stream",
     "text": [
      "/opt/conda/lib/python3.7/site-packages/IPython/config.py:13: ShimWarning: The `IPython.config` package has been deprecated since IPython 4.0. You should import from traitlets.config instead.\n",
      "  \"You should import from traitlets.config instead.\", ShimWarning)\n",
      "/opt/conda/lib/python3.7/site-packages/ipycache.py:17: UserWarning: IPython.utils.traitlets has moved to a top-level traitlets package.\n",
      "  from IPython.utils.traitlets import Unicode\n"
     ]
    }
   ],
   "source": [
    "%load_ext ipycache\n",
    "%load_ext autoreload\n",
    "%autoreload 2"
   ]
  },
  {
   "cell_type": "code",
   "execution_count": 2,
   "metadata": {},
   "outputs": [],
   "source": [
    "import os\n",
    "import sys\n",
    "\n",
    "comparisons_folder = os.getcwd()\n",
    "src_folder = '/'.join(comparisons_folder.split('/')[:-2])\n",
    "sys.path.insert(0, src_folder)\n",
    "from src.discoverers.adsorption.values import calc_co2rr_activities\n",
    "\n",
    "\n",
    "adsorbate = 'CO'\n",
    "target_energy = -0.67\n",
    "initial_training_size = 1000\n",
    "batch_size = 200\n",
    "quantile_cutoff = 0.9"
   ]
  },
  {
   "cell_type": "code",
   "execution_count": 3,
   "metadata": {},
   "outputs": [
    {
     "name": "stderr",
     "output_type": "stream",
     "text": [
      "reading ASE db: 100%|██████████| 421039/421039 [25:31<00:00, 274.99it/s]\n",
      "parsing rows: 100%|██████████| 1000/1000 [00:00<00:00, 3647.93it/s]\n",
      "parsing rows: 100%|██████████| 420039/420039 [02:00<00:00, 3476.10it/s]\n"
     ]
    }
   ],
   "source": [
    "import random\n",
    "from multiprocess import Pool\n",
    "from tqdm import tqdm\n",
    "import ase.db\n",
    "\n",
    "\n",
    "db_dir = os.path.join(src_folder, 'notebooks/pull_data/%s_synthesized' % adsorbate)\n",
    "db_file = os.path.join(db_dir, '%s.db' % adsorbate)\n",
    "db = ase.db.connect(db_file)\n",
    "rows = list(tqdm(db.select(), desc='reading ASE db', total=db.count()))\n",
    "random.Random(42).shuffle(rows)\n",
    "\n",
    "\n",
    "def parse_row(row):\n",
    "    feature = row.id\n",
    "    data = row.data\n",
    "    label = data['adsorption_energy']\n",
    "    surface = (data['mpid'], data['miller'], data['shift'], data['top'])\n",
    "    return feature, label, surface\n",
    "        \n",
    "        \n",
    "def parse_rows(rows): \n",
    "    with Pool(processes=32, maxtasksperchild=1000) as pool:\n",
    "        iterator = pool.imap(parse_row, rows, chunksize=100)\n",
    "        iterator_tracked = tqdm(iterator, desc='parsing rows', total=len(rows))\n",
    "        parsed_rows = list(iterator_tracked)\n",
    "\n",
    "    features, labels, surfaces = list(map(list, zip(*parsed_rows)))\n",
    "    return features, labels, surfaces\n",
    "\n",
    "\n",
    "# Data parsing\n",
    "training_features, training_labels, training_surfaces = parse_rows(rows[:initial_training_size])\n",
    "sampling_features, sampling_labels, sampling_surfaces = parse_rows(rows[initial_training_size:])"
   ]
  },
  {
   "cell_type": "markdown",
   "metadata": {},
   "source": [
    "# Random Sampling Procedures"
   ]
  },
  {
   "cell_type": "code",
   "execution_count": 4,
   "metadata": {},
   "outputs": [],
   "source": [
    "from src.discoverers.adsorption.randomsearch import RandomSearcher"
   ]
  },
  {
   "cell_type": "markdown",
   "metadata": {},
   "source": [
    "## Random Sampling with Null Model"
   ]
  },
  {
   "cell_type": "code",
   "execution_count": 5,
   "metadata": {},
   "outputs": [
    {
     "name": "stdout",
     "output_type": "stream",
     "text": [
      "/home/jovyan/catalyst-acquisitions/notebooks/random/null_syn\n"
     ]
    }
   ],
   "source": [
    "cd ../random/null_syn"
   ]
  },
  {
   "cell_type": "code",
   "execution_count": 6,
   "metadata": {
    "scrolled": true
   },
   "outputs": [],
   "source": [
    "from src.discoverers.adsorption.models import NullModel\n",
    "\n",
    "\n",
    "model = NullModel(db_dir, quantile_cutoff)\n",
    "rs_null_discoverer = RandomSearcher(model=model,\n",
    "                                    quantile_cutoff=quantile_cutoff,\n",
    "                                    value_calculator=calc_co2rr_activities,\n",
    "                                    batch_size=batch_size,\n",
    "                                    training_features=training_features,\n",
    "                                    training_labels=training_labels,\n",
    "                                    training_surfaces=training_surfaces,\n",
    "                                    sampling_features=sampling_features,\n",
    "                                    sampling_labels=sampling_labels,\n",
    "                                    sampling_surfaces=sampling_surfaces,\n",
    "                                    init_train=False    # Set to `False` only for warm starts\n",
    "                                    )\n",
    "\n",
    "rs_null_discoverer.load_last_run()\n",
    "#_ = rs_null_discoverer.plot_performance(window=100)"
   ]
  },
  {
   "cell_type": "markdown",
   "metadata": {},
   "source": [
    "## Random sampling with prime model"
   ]
  },
  {
   "cell_type": "code",
   "execution_count": 7,
   "metadata": {},
   "outputs": [
    {
     "name": "stdout",
     "output_type": "stream",
     "text": [
      "/home/jovyan/catalyst-acquisitions/notebooks/random/prime_syn\n"
     ]
    }
   ],
   "source": [
    "cd ../prime_syn"
   ]
  },
  {
   "cell_type": "code",
   "execution_count": 8,
   "metadata": {
    "scrolled": true
   },
   "outputs": [
    {
     "data": {
      "application/vnd.jupyter.widget-view+json": {
       "model_id": "1b370553cbf2471494dfa608fcbab5a8",
       "version_major": 2,
       "version_minor": 0
      },
      "text/plain": [
       "HBox(children=(FloatProgress(value=0.0, description='reading ASE db for Prime model', max=421039.0, style=Prog…"
      ]
     },
     "metadata": {},
     "output_type": "display_data"
    },
    {
     "name": "stdout",
     "output_type": "stream",
     "text": [
      "\n"
     ]
    },
    {
     "data": {
      "application/vnd.jupyter.widget-view+json": {
       "model_id": "33886a8f4cf84a3a8908cceda748ad64",
       "version_major": 2,
       "version_minor": 0
      },
      "text/plain": [
       "HBox(children=(FloatProgress(value=0.0, description='Reading data', max=421039.0, style=ProgressStyle(descript…"
      ]
     },
     "metadata": {},
     "output_type": "display_data"
    },
    {
     "name": "stdout",
     "output_type": "stream",
     "text": [
      "\n"
     ]
    }
   ],
   "source": [
    "from src.discoverers.adsorption.models import PrimeModel\n",
    "\n",
    "\n",
    "model = PrimeModel(db_dir)\n",
    "rs_prime_discoverer = RandomSearcher(model=model,\n",
    "                                     quantile_cutoff=quantile_cutoff,\n",
    "                                     value_calculator=calc_co2rr_activities,\n",
    "                                     batch_size=batch_size,\n",
    "                                     training_features=training_features,\n",
    "                                     training_labels=training_labels,\n",
    "                                     training_surfaces=training_surfaces,\n",
    "                                     sampling_features=sampling_features,\n",
    "                                     sampling_labels=sampling_labels,\n",
    "                                     sampling_surfaces=sampling_surfaces,\n",
    "                                     init_train=False    # Set to `False` only for warm starts\n",
    "                                     )\n",
    "\n",
    "rs_prime_discoverer.load_last_run()\n",
    "#_ = rs_prime_discoverer.plot_performance(window=100)"
   ]
  },
  {
   "cell_type": "markdown",
   "metadata": {},
   "source": [
    "# MMS Procedures"
   ]
  },
  {
   "cell_type": "code",
   "execution_count": 9,
   "metadata": {},
   "outputs": [],
   "source": [
    "from src.discoverers.adsorption.mms import MultiscaleDiscoverer"
   ]
  },
  {
   "cell_type": "markdown",
   "metadata": {},
   "source": [
    "## MMS with null model"
   ]
  },
  {
   "cell_type": "code",
   "execution_count": 10,
   "metadata": {},
   "outputs": [
    {
     "name": "stdout",
     "output_type": "stream",
     "text": [
      "/home/jovyan/catalyst-acquisitions/notebooks/MMS/null_syn\n"
     ]
    }
   ],
   "source": [
    "cd ../../MMS/null_syn"
   ]
  },
  {
   "cell_type": "code",
   "execution_count": 11,
   "metadata": {
    "scrolled": true
   },
   "outputs": [],
   "source": [
    "from src.discoverers.adsorption.models import NullModel\n",
    "\n",
    "\n",
    "model = NullModel(db_dir, quantile_cutoff)\n",
    "mms_null_discoverer = MultiscaleDiscoverer(model=model,\n",
    "                                           quantile_cutoff=quantile_cutoff,\n",
    "                                           value_calculator=calc_co2rr_activities,\n",
    "                                           batch_size=batch_size,\n",
    "                                           training_features=training_features,\n",
    "                                           training_labels=training_labels,\n",
    "                                           training_surfaces=training_surfaces,\n",
    "                                           sampling_features=sampling_features,\n",
    "                                           sampling_labels=sampling_labels,\n",
    "                                           sampling_surfaces=sampling_surfaces,\n",
    "                                           init_train=False  # Set to `False` only for warm starts\n",
    "                                           )\n",
    "\n",
    "mms_null_discoverer.load_last_run()\n",
    "#_ = mms_null_discoverer.plot_performance(window=100)"
   ]
  },
  {
   "cell_type": "markdown",
   "metadata": {},
   "source": [
    "## MMS with prime"
   ]
  },
  {
   "cell_type": "code",
   "execution_count": 12,
   "metadata": {
    "scrolled": true
   },
   "outputs": [
    {
     "name": "stdout",
     "output_type": "stream",
     "text": [
      "/home/jovyan/catalyst-acquisitions/notebooks/MMS/prime_syn\n"
     ]
    }
   ],
   "source": [
    "cd ../prime_syn"
   ]
  },
  {
   "cell_type": "code",
   "execution_count": 13,
   "metadata": {
    "scrolled": true
   },
   "outputs": [
    {
     "data": {
      "application/vnd.jupyter.widget-view+json": {
       "model_id": "42aa9633a7554b868aa2a181ed42f2bd",
       "version_major": 2,
       "version_minor": 0
      },
      "text/plain": [
       "HBox(children=(FloatProgress(value=0.0, description='reading ASE db for Prime model', max=421039.0, style=Prog…"
      ]
     },
     "metadata": {},
     "output_type": "display_data"
    },
    {
     "name": "stdout",
     "output_type": "stream",
     "text": [
      "\n"
     ]
    },
    {
     "data": {
      "application/vnd.jupyter.widget-view+json": {
       "model_id": "30732db2bd9e421588b098727c35820b",
       "version_major": 2,
       "version_minor": 0
      },
      "text/plain": [
       "HBox(children=(FloatProgress(value=0.0, description='Reading data', max=421039.0, style=ProgressStyle(descript…"
      ]
     },
     "metadata": {},
     "output_type": "display_data"
    },
    {
     "name": "stdout",
     "output_type": "stream",
     "text": [
      "\n"
     ]
    }
   ],
   "source": [
    "from src.discoverers.adsorption.models import PrimeModel\n",
    "\n",
    "\n",
    "model = PrimeModel(db_dir)\n",
    "mms_prime_discoverer = MultiscaleDiscoverer(model=model,\n",
    "                                            quantile_cutoff=quantile_cutoff,\n",
    "                                            value_calculator=calc_co2rr_activities,\n",
    "                                            batch_size=batch_size,\n",
    "                                            training_features=training_features,\n",
    "                                            training_labels=training_labels,\n",
    "                                            training_surfaces=training_surfaces,\n",
    "                                            sampling_features=sampling_features,\n",
    "                                            sampling_labels=sampling_labels,\n",
    "                                            sampling_surfaces=sampling_surfaces,\n",
    "                                            init_train=False    # Set to `False` only for warm starts\n",
    "                                            )\n",
    "\n",
    "mms_prime_discoverer.load_last_run()\n",
    "#_ = mms_prime_discoverer.plot_performance(window=100)"
   ]
  },
  {
   "cell_type": "markdown",
   "metadata": {},
   "source": [
    "# Caching"
   ]
  },
  {
   "cell_type": "code",
   "execution_count": 29,
   "metadata": {
    "scrolled": true
   },
   "outputs": [
    {
     "name": "stdout",
     "output_type": "stream",
     "text": [
      "/home/jovyan/catalyst-acquisitions/notebooks/comparisons\n"
     ]
    }
   ],
   "source": [
    "cd /home/jovyan/catalyst-acquisitions/notebooks/comparisons"
   ]
  },
  {
   "cell_type": "code",
   "execution_count": 30,
   "metadata": {},
   "outputs": [
    {
     "name": "stdout",
     "output_type": "stream",
     "text": [
      "[Saved variables 'mms_null_discoverer, mms_prime_discoverer, rs_null_discoverer, rs_prime_discoverer' to file '/home/jovyan/catalyst-acquisitions/notebooks/comparisons/discoverers_synthesized.pkl'.]\n"
     ]
    }
   ],
   "source": [
    "%%cache discoverers_synthesized.pkl rs_null_discoverer rs_prime_discoverer mms_null_discoverer mms_prime_discoverer\n",
    "\n",
    "rs_null_discoverer = rs_null_discoverer\n",
    "rs_prime_discoverer = rs_prime_discoverer\n",
    "mms_null_discoverer = mms_null_discoverer\n",
    "mms_prime_discoverer = mms_prime_discoverer"
   ]
  },
  {
   "cell_type": "markdown",
   "metadata": {},
   "source": [
    "# Comparison"
   ]
  },
  {
   "cell_type": "code",
   "execution_count": 14,
   "metadata": {},
   "outputs": [],
   "source": [
    "import numpy as np\n",
    "import pandas as pd\n",
    "import matplotlib.pyplot as plt\n",
    "from matplotlib import ticker\n",
    "import seaborn as sns\n",
    "\n",
    "\n",
    "FORMATTER = ticker.FuncFormatter(lambda x, p: format(int(x), ','))\n",
    "FIG_SIZE = (6.5, 2.5)\n",
    "#FIG_SIZE = (13, 5)\n",
    "\n",
    "\n",
    "def plot_rolling_metric(ax, metric_values, metric_name, label=None,\n",
    "                        window=200, smoother='mean', unit='', **kwargs):\n",
    "    '''\n",
    "    Helper function to plot model performance metrics across time in\n",
    "    hallucination.\n",
    "\n",
    "    Args:\n",
    "        ax              Matplotlib ax object to plot onto\n",
    "        metric_values   A sequence of floats that will be plotted against\n",
    "                        batch number in the hallucination.\n",
    "        metric_name     A string indicating what you want the values to be\n",
    "                        labeled as in the plots.\n",
    "        label           A string indicating the label you want to use for\n",
    "                        the data\n",
    "        window          How many points to roll over during each iteration\n",
    "        smoother        String indicating how you want to smooth the\n",
    "                        residuals over the course of the hallucination.\n",
    "                        Corresponds exactly to the methods of the\n",
    "                        `pandas.DataFrame.rolling` class, e.g., 'mean',\n",
    "                        'median', 'min', 'max', 'std', 'sum', etc.\n",
    "        unit            [Optional] String indicating the units you want to\n",
    "                        label the plot with\n",
    "        kwargs          Keyword arguments to pass to `sns.lineplot`\n",
    "    '''\n",
    "    # Format the data\n",
    "    df = pd.DataFrame(metric_values, columns=[metric_name])\n",
    "    rolling_residuals = getattr(df, metric_name).rolling(window=window)\n",
    "    rolled_values = getattr(rolling_residuals, smoother)().values\n",
    "    query_numbers = list(range(len(rolled_values)))\n",
    "\n",
    "    # Create and format the figure\n",
    "    _ = sns.lineplot(query_numbers, rolled_values, ax=ax, label=label, **kwargs)\n",
    "    _ = ax.set_xlabel('Number of discovery queries')\n",
    "    if unit:\n",
    "        unit = ' [' + unit + ']'\n",
    "    _ = ax.set_ylabel('Rolling %s of \\n%s%s' % (smoother, metric_name, unit))\n",
    "    _ = ax.set_xlim([query_numbers[0], query_numbers[-1]])\n",
    "    _ = ax.set_ylim([0., np.nanmax(rolled_values) * 1.1])\n",
    "    _ = fig.set_size_inches(*FIG_SIZE)\n",
    "    _ = ax.get_xaxis().set_major_formatter(FORMATTER)\n",
    "    return fig"
   ]
  },
  {
   "cell_type": "markdown",
   "metadata": {},
   "source": [
    "## F1 Score"
   ]
  },
  {
   "cell_type": "code",
   "execution_count": 26,
   "metadata": {},
   "outputs": [
    {
     "data": {
      "image/png": "[encoded data removed]",
      "text/plain": [
       "<Figure size 468x180 with 1 Axes>"
      ]
     },
     "metadata": {
      "needs_background": "light"
     },
     "output_type": "display_data"
    }
   ],
   "source": [
    "fig = plt.figure()\n",
    "\n",
    "ax_rs_null = sns.lineplot(list(range(len(rs_null_discoverer.reward_history))),\n",
    "                          rs_null_discoverer.reward_history,\n",
    "                          label='RS null', linestyle='--', color='black')\n",
    "ax_rs_prime = sns.lineplot(list(range(len(rs_prime_discoverer.reward_history))),\n",
    "                           rs_prime_discoverer.reward_history,\n",
    "                           label='RS prime', linestyle='--', color='green')\n",
    "ax_mms_null = sns.lineplot(list(range(len(mms_null_discoverer.reward_history))),\n",
    "                           mms_null_discoverer.reward_history,\n",
    "                           label='MMS null', linestyle='-', color='black')\n",
    "ax_mms_prime = sns.lineplot(list(range(len(mms_prime_discoverer.reward_history))),\n",
    "                            mms_prime_discoverer.reward_history,\n",
    "                            label='MMS prime', linestyle='-', color='green')\n",
    "\n",
    "_ = ax_rs_null.set_xlabel('batch number')\n",
    "_ = ax_rs_null.set_ylabel('F1 score')\n",
    "_ = ax_rs_null.set_xlim(0, 2500)\n",
    "_ = ax_rs_null.set_ylim(0., 1.2)\n",
    "_ = fig.set_size_inches(*FIG_SIZE)\n",
    "_ = ax_rs_null.get_xaxis().set_major_formatter(FORMATTER)"
   ]
  },
  {
   "cell_type": "markdown",
   "metadata": {},
   "source": [
    "## Proxy reward"
   ]
  },
  {
   "cell_type": "code",
   "execution_count": 28,
   "metadata": {},
   "outputs": [
    {
     "data": {
      "image/png": "[encoded data removed]",
      "text/plain": [
       "<Figure size 468x180 with 1 Axes>"
      ]
     },
     "metadata": {
      "needs_background": "light"
     },
     "output_type": "display_data"
    }
   ],
   "source": [
    "fig = plt.figure()\n",
    "\n",
    "ax_rs_null = sns.lineplot(list(range(len(rs_null_discoverer.proxy_reward_history))),\n",
    "                          rs_null_discoverer.proxy_reward_history,\n",
    "                          label='RS null', linestyle='--', color='black')\n",
    "ax_rs_prime = sns.lineplot(list(range(len(rs_prime_discoverer.proxy_reward_history))),\n",
    "                           rs_prime_discoverer.proxy_reward_history,\n",
    "                           label='RS prime', linestyle='--', color='green')\n",
    "ax_mms_null = sns.lineplot(list(range(len(mms_null_discoverer.proxy_reward_history))),\n",
    "                           mms_null_discoverer.proxy_reward_history,\n",
    "                           label='MMS null', linestyle='-', color='black')\n",
    "ax_mms_prime = sns.lineplot(list(range(len(mms_prime_discoverer.proxy_reward_history))),\n",
    "                            mms_prime_discoverer.proxy_reward_history,\n",
    "                            label='MMS prime', linestyle='-', color='green')\n",
    "\n",
    "_ = ax_rs_null.set_xlabel('batch number')\n",
    "_ = ax_rs_null.set_ylabel('proxy reward')\n",
    "_ = ax_rs_null.set_xlim(0, 2500)\n",
    "_ = fig.set_size_inches(*FIG_SIZE)\n",
    "_ = ax_rs_null.get_xaxis().set_major_formatter(FORMATTER)"
   ]
  },
  {
   "cell_type": "markdown",
   "metadata": {},
   "source": [
    "# Comparing F1 score and proxy reward"
   ]
  },
  {
   "cell_type": "code",
   "execution_count": 25,
   "metadata": {},
   "outputs": [
    {
     "name": "stderr",
     "output_type": "stream",
     "text": [
      "/opt/conda/lib/python3.7/site-packages/ipykernel_launcher.py:16: RuntimeWarning: divide by zero encountered in log\n",
      "  app.launch_new_instance()\n",
      "/opt/conda/lib/python3.7/site-packages/ipykernel_launcher.py:16: RuntimeWarning: divide by zero encountered in log\n",
      "  app.launch_new_instance()\n",
      "/opt/conda/lib/python3.7/site-packages/ipykernel_launcher.py:16: RuntimeWarning: divide by zero encountered in log\n",
      "  app.launch_new_instance()\n",
      "/opt/conda/lib/python3.7/site-packages/ipykernel_launcher.py:16: RuntimeWarning: divide by zero encountered in log\n",
      "  app.launch_new_instance()\n"
     ]
    },
    {
     "data": {
      "image/png": "[encoded data removed]",
      "text/plain": [
       "<Figure size 252x252 with 1 Axes>"
      ]
     },
     "metadata": {
      "needs_background": "light"
     },
     "output_type": "display_data"
    }
   ],
   "source": [
    "fig = plt.figure(figsize=(3.5, 3.5))\n",
    "ax = fig.gca()\n",
    "\n",
    "f1_scores = {'RS null': rs_null_discoverer.reward_history,\n",
    "             'RS prime': rs_prime_discoverer.reward_history,\n",
    "             'MMS null': mms_null_discoverer.reward_history,\n",
    "             'MMS prime': mms_prime_discoverer.reward_history}\n",
    "\n",
    "proxy_rewards = {'RS null': rs_null_discoverer.proxy_reward_history,\n",
    "                 'RS prime': rs_prime_discoverer.proxy_reward_history,\n",
    "                 'MMS null': mms_null_discoverer.proxy_reward_history,\n",
    "                 'MMS prime': mms_prime_discoverer.proxy_reward_history}\n",
    "\n",
    "for key, f1s in f1_scores.items():\n",
    "    proxies = proxy_rewards[key]\n",
    "    f1s = np.log(f1s)\n",
    "    _ = sns.scatterplot(f1s, proxies, label=key)\n",
    "\n",
    "_ = ax.set_xlabel('log(F1 score)')\n",
    "_ = ax.set_ylabel('proxy reward')"
   ]
  },
  {
   "cell_type": "code",
   "execution_count": null,
   "metadata": {},
   "outputs": [],
   "source": []
  }
 ],
 "metadata": {
  "kernelspec": {
   "display_name": "Python 3",
   "language": "python",
   "name": "python3"
  },
  "language_info": {
   "codemirror_mode": {
    "name": "ipython",
    "version": 3
   },
   "file_extension": ".py",
   "mimetype": "text/x-python",
   "name": "python",
   "nbconvert_exporter": "python",
   "pygments_lexer": "ipython3",
   "version": "3.7.8"
  }
 },
 "nbformat": 4,
 "nbformat_minor": 4
}
