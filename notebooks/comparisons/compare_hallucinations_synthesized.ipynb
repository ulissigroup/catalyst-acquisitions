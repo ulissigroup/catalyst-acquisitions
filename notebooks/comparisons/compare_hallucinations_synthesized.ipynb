{
 "cells": [
  {
   "cell_type": "markdown",
   "metadata": {},
   "source": [
    "# Initialize"
   ]
  },
  {
   "cell_type": "code",
   "execution_count": 1,
   "metadata": {},
   "outputs": [
    {
     "name": "stderr",
     "output_type": "stream",
     "text": [
      "/opt/conda/lib/python3.7/site-packages/IPython/config.py:13: ShimWarning: The `IPython.config` package has been deprecated since IPython 4.0. You should import from traitlets.config instead.\n",
      "  \"You should import from traitlets.config instead.\", ShimWarning)\n",
      "/opt/conda/lib/python3.7/site-packages/ipycache.py:17: UserWarning: IPython.utils.traitlets has moved to a top-level traitlets package.\n",
      "  from IPython.utils.traitlets import Unicode\n"
     ]
    }
   ],
   "source": [
    "%load_ext ipycache\n",
    "%load_ext autoreload\n",
    "%autoreload 2"
   ]
  },
  {
   "cell_type": "code",
   "execution_count": 2,
   "metadata": {},
   "outputs": [],
   "source": [
    "import os\n",
    "import sys\n",
    "\n",
    "comparisons_folder = os.getcwd()\n",
    "src_folder = '/'.join(comparisons_folder.split('/')[:-2])\n",
    "sys.path.insert(0, src_folder)\n",
    "from src.discoverers.adsorption.values import calc_co2rr_activities\n",
    "\n",
    "\n",
    "adsorbate = 'CO'\n",
    "target_energy = -0.67\n",
    "initial_training_size = 1000\n",
    "batch_size = 200\n",
    "quantile_cutoff = 0.9"
   ]
  },
  {
   "cell_type": "code",
   "execution_count": 3,
   "metadata": {},
   "outputs": [],
   "source": [
    "import random\n",
    "import ase.db\n",
    "\n",
    "\n",
    "db_dir = os.path.join(src_folder, 'notebooks/pull_data/%s_synthesized' % adsorbate)\n",
    "db_file = os.path.join(db_dir, '%s.db' % adsorbate)\n",
    "db = ase.db.connect(db_file)\n",
    "rows = list(db.select())\n",
    "random.Random(42).shuffle(rows)\n",
    "\n",
    "\n",
    "def parse_rows(rows):\n",
    "    features = []\n",
    "    labels = []\n",
    "    surfaces = []\n",
    "\n",
    "    for row in rows:\n",
    "        features.append(row.id)\n",
    "        data = row.data\n",
    "        labels.append(data['adsorption_energy'])\n",
    "        surface = (data['mpid'], data['miller'], data['shift'], data['top'])\n",
    "        surfaces.append(surface)\n",
    "\n",
    "    return features, labels, surfaces\n",
    "\n",
    "\n",
    "training_features, training_labels, training_surfaces = parse_rows(rows[:initial_training_size])\n",
    "sampling_features, sampling_labels, sampling_surfaces = parse_rows(rows[initial_training_size:])"
   ]
  },
  {
   "cell_type": "markdown",
   "metadata": {},
   "source": [
    "# Random Sampling Procedures"
   ]
  },
  {
   "cell_type": "code",
   "execution_count": 4,
   "metadata": {},
   "outputs": [],
   "source": [
    "from src.discoverers.adsorption.randomsearch import RandomSearcher"
   ]
  },
  {
   "cell_type": "markdown",
   "metadata": {},
   "source": [
    "## Random Sampling with Null Model"
   ]
  },
  {
   "cell_type": "code",
   "execution_count": 5,
   "metadata": {},
   "outputs": [
    {
     "name": "stdout",
     "output_type": "stream",
     "text": [
      "/home/jovyan/catalyst-acquisitions/notebooks/random/null_syn\n"
     ]
    }
   ],
   "source": [
    "cd ../random/null_syn"
   ]
  },
  {
   "cell_type": "code",
   "execution_count": 6,
   "metadata": {
    "scrolled": true
   },
   "outputs": [
    {
     "name": "stdout",
     "output_type": "stream",
     "text": [
      "### Loaded preprocessed data from:  ['/home/jovyan/catalyst-acquisitions/notebooks/pull_data/CO_synthesized/data.pt']\n"
     ]
    }
   ],
   "source": [
    "from src.discoverers.adsorption.models import NullModel\n",
    "\n",
    "\n",
    "model = NullModel(db_dir, quantile_cutoff)\n",
    "rs_null_discoverer = RandomSearcher(model=model,\n",
    "                                    quantile_cutoff=quantile_cutoff,\n",
    "                                    value_calculator=calc_co2rr_activities,\n",
    "                                    batch_size=batch_size,\n",
    "                                    training_features=training_features,\n",
    "                                    training_labels=training_labels,\n",
    "                                    training_surfaces=training_surfaces,\n",
    "                                    sampling_features=sampling_features,\n",
    "                                    sampling_labels=sampling_labels,\n",
    "                                    sampling_surfaces=sampling_surfaces,\n",
    "                                    init_train=False    # Set to `False` only for warm starts\n",
    "                                    )\n",
    "\n",
    "rs_null_discoverer.load_last_run()\n",
    "#_ = rs_null_discoverer.plot_performance(window=100)"
   ]
  },
  {
   "cell_type": "markdown",
   "metadata": {},
   "source": [
    "## Random sampling with CFGP"
   ]
  },
  {
   "cell_type": "raw",
   "metadata": {},
   "source": [
    "#cd ../CFGP_syn"
   ]
  },
  {
   "cell_type": "raw",
   "metadata": {},
   "source": [
    "from src.discoverers.adsorption.models import CFGP\n",
    "\n",
    "\n",
    "model = CFGP(db_dir)\n",
    "rs_cfgp_discoverer = RandomSearcher(model=model,\n",
    "                                    quantile_cutoff=quantile_cutoff,\n",
    "                                    value_calculator=calc_co2rr_activities,\n",
    "                                    batch_size=batch_size,\n",
    "                                    training_features=training_features,\n",
    "                                    training_labels=training_labels,\n",
    "                                    training_surfaces=training_surfaces,\n",
    "                                    sampling_features=sampling_features,\n",
    "                                    sampling_labels=sampling_labels,\n",
    "                                    sampling_surfaces=sampling_surfaces,\n",
    "                                    init_train=False    # Set to `False` only for warm starts\n",
    "                                    )\n",
    "\n",
    "rs_cfgp_discoverer.load_last_run()\n",
    "#_ = rs_cfgp_discoverer.plot_performance(window=100)\n",
    "\n",
    "# Delete the checkpoint folder that wandb just automatically made\n",
    "checkpoint_folders = os.listdir('checkpoints/')\n",
    "checkpoint_folders.sort()\n",
    "checkpoint_folder = checkpoint_folders[-1]\n",
    "checkpoint_folder = os.path.join(os.getcwd(), 'checkpoints', checkpoint_folder)\n",
    "os.rmdir(checkpoint_folder)"
   ]
  },
  {
   "cell_type": "markdown",
   "metadata": {},
   "source": [
    "## Random sampling with prime model"
   ]
  },
  {
   "cell_type": "code",
   "execution_count": 7,
   "metadata": {},
   "outputs": [
    {
     "name": "stdout",
     "output_type": "stream",
     "text": [
      "/home/jovyan/catalyst-acquisitions/notebooks/random/prime_syn\n"
     ]
    }
   ],
   "source": [
    "cd ../prime_syn"
   ]
  },
  {
   "cell_type": "code",
   "execution_count": 8,
   "metadata": {
    "scrolled": true
   },
   "outputs": [
    {
     "name": "stdout",
     "output_type": "stream",
     "text": [
      "### Loaded preprocessed data from:  ['/home/jovyan/catalyst-acquisitions/notebooks/pull_data/CO_synthesized/data.pt']\n"
     ]
    },
    {
     "data": {
      "application/vnd.jupyter.widget-view+json": {
       "model_id": "751a916e79884ce8bebf9945dd7b453a",
       "version_major": 2,
       "version_minor": 0
      },
      "text/plain": [
       "HBox(children=(FloatProgress(value=0.0, description='Reading data', max=20000.0, style=ProgressStyle(descripti…"
      ]
     },
     "metadata": {},
     "output_type": "display_data"
    },
    {
     "name": "stdout",
     "output_type": "stream",
     "text": [
      "\n"
     ]
    }
   ],
   "source": [
    "from src.discoverers.adsorption.models import PrimeModel\n",
    "\n",
    "\n",
    "model = PrimeModel(db_dir)\n",
    "rs_prime_discoverer = RandomSearcher(model=model,\n",
    "                                     quantile_cutoff=quantile_cutoff,\n",
    "                                     value_calculator=calc_co2rr_activities,\n",
    "                                     batch_size=batch_size,\n",
    "                                     training_features=training_features,\n",
    "                                     training_labels=training_labels,\n",
    "                                     training_surfaces=training_surfaces,\n",
    "                                     sampling_features=sampling_features,\n",
    "                                     sampling_labels=sampling_labels,\n",
    "                                     sampling_surfaces=sampling_surfaces,\n",
    "                                     init_train=False    # Set to `False` only for warm starts\n",
    "                                     )\n",
    "\n",
    "rs_prime_discoverer.load_last_run()\n",
    "#_ = rs_prime_discoverer.plot_performance(window=100)"
   ]
  },
  {
   "cell_type": "markdown",
   "metadata": {},
   "source": [
    "# MMS Procedures"
   ]
  },
  {
   "cell_type": "code",
   "execution_count": 9,
   "metadata": {},
   "outputs": [],
   "source": [
    "from src.discoverers.adsorption.mms import MultiscaleDiscoverer"
   ]
  },
  {
   "cell_type": "markdown",
   "metadata": {},
   "source": [
    "## MMS with null model"
   ]
  },
  {
   "cell_type": "code",
   "execution_count": 10,
   "metadata": {},
   "outputs": [
    {
     "name": "stdout",
     "output_type": "stream",
     "text": [
      "/home/jovyan/catalyst-acquisitions/notebooks/MMS/null_syn\n"
     ]
    }
   ],
   "source": [
    "cd ../../MMS/null_syn"
   ]
  },
  {
   "cell_type": "code",
   "execution_count": 11,
   "metadata": {
    "scrolled": true
   },
   "outputs": [
    {
     "name": "stdout",
     "output_type": "stream",
     "text": [
      "### Loaded preprocessed data from:  ['/home/jovyan/catalyst-acquisitions/notebooks/pull_data/CO_synthesized/data.pt']\n"
     ]
    }
   ],
   "source": [
    "from src.discoverers.adsorption.models import NullModel\n",
    "\n",
    "\n",
    "model = NullModel(db_dir, quantile_cutoff)\n",
    "mms_null_discoverer = MultiscaleDiscoverer(model=model,\n",
    "                                           quantile_cutoff=quantile_cutoff,\n",
    "                                           value_calculator=calc_co2rr_activities,\n",
    "                                           batch_size=batch_size,\n",
    "                                           training_features=training_features,\n",
    "                                           training_labels=training_labels,\n",
    "                                           training_surfaces=training_surfaces,\n",
    "                                           sampling_features=sampling_features,\n",
    "                                           sampling_labels=sampling_labels,\n",
    "                                           sampling_surfaces=sampling_surfaces,\n",
    "                                           init_train=False  # Set to `False` only for warm starts\n",
    "                                           )\n",
    "\n",
    "mms_null_discoverer.load_last_run()\n",
    "#_ = mms_null_discoverer.plot_performance(window=100)"
   ]
  },
  {
   "cell_type": "markdown",
   "metadata": {},
   "source": [
    "## MMS with CFGP"
   ]
  },
  {
   "cell_type": "raw",
   "metadata": {},
   "source": [
    "cd ../CFGP_syn"
   ]
  },
  {
   "cell_type": "raw",
   "metadata": {},
   "source": [
    "from src.discoverers.adsorption.models import CFGP\n",
    "\n",
    "\n",
    "# Initialize\n",
    "model = CFGP(db_dir)\n",
    "mms_cfgp_discoverer = MultiscaleDiscoverer(model=model,\n",
    "                                           value_calculator=calc_co2rr_activities,\n",
    "                                           quantile_cutoff=quantile_cutoff,\n",
    "                                           batch_size=batch_size,\n",
    "                                           training_features=training_features,\n",
    "                                           training_labels=training_labels,\n",
    "                                           training_surfaces=training_surfaces,\n",
    "                                           sampling_features=sampling_features,\n",
    "                                           sampling_labels=sampling_labels,\n",
    "                                           sampling_surfaces=sampling_surfaces,\n",
    "                                           init_train=False  # Set to `False` only for warm starts\n",
    "                                           )\n",
    "\n",
    "mms_cfgp_discoverer.load_last_run()\n",
    "#_ = mms_cfgp_discoverer.plot_performance(window=100)\n",
    "\n",
    "# Delete the checkpoint folder that wandb just automatically made\n",
    "checkpoint_folders = os.listdir('checkpoints/')\n",
    "checkpoint_folders.sort()\n",
    "checkpoint_folder = checkpoint_folders[-1]\n",
    "checkpoint_folder = os.path.join(os.getcwd(), 'checkpoints', checkpoint_folder)\n",
    "os.rmdir(checkpoint_folder)"
   ]
  },
  {
   "cell_type": "markdown",
   "metadata": {},
   "source": [
    "## MMS with prime"
   ]
  },
  {
   "cell_type": "code",
   "execution_count": 12,
   "metadata": {
    "scrolled": true
   },
   "outputs": [
    {
     "name": "stdout",
     "output_type": "stream",
     "text": [
      "/home/jovyan/catalyst-acquisitions/notebooks/MMS/prime_syn\n"
     ]
    }
   ],
   "source": [
    "cd ../prime_syn"
   ]
  },
  {
   "cell_type": "code",
   "execution_count": 13,
   "metadata": {
    "scrolled": true
   },
   "outputs": [
    {
     "name": "stdout",
     "output_type": "stream",
     "text": [
      "### Loaded preprocessed data from:  ['/home/jovyan/catalyst-acquisitions/notebooks/pull_data/CO_synthesized/data.pt']\n"
     ]
    },
    {
     "data": {
      "application/vnd.jupyter.widget-view+json": {
       "model_id": "e0a6662f4a774a7d9e9a4fcccf7ecdd2",
       "version_major": 2,
       "version_minor": 0
      },
      "text/plain": [
       "HBox(children=(FloatProgress(value=0.0, description='Reading data', max=20000.0, style=ProgressStyle(descripti…"
      ]
     },
     "metadata": {},
     "output_type": "display_data"
    },
    {
     "name": "stdout",
     "output_type": "stream",
     "text": [
      "\n"
     ]
    }
   ],
   "source": [
    "from src.discoverers.adsorption.models import PrimeModel\n",
    "\n",
    "\n",
    "model = PrimeModel(db_dir)\n",
    "mms_prime_discoverer = MultiscaleDiscoverer(model=model,\n",
    "                                            quantile_cutoff=quantile_cutoff,\n",
    "                                            value_calculator=calc_co2rr_activities,\n",
    "                                            batch_size=batch_size,\n",
    "                                            training_features=training_features,\n",
    "                                            training_labels=training_labels,\n",
    "                                            training_surfaces=training_surfaces,\n",
    "                                            sampling_features=sampling_features,\n",
    "                                            sampling_labels=sampling_labels,\n",
    "                                            sampling_surfaces=sampling_surfaces,\n",
    "                                            init_train=False    # Set to `False` only for warm starts\n",
    "                                            )\n",
    "\n",
    "mms_prime_discoverer.load_last_run()\n",
    "#_ = mms_prime_discoverer.plot_performance(window=100)"
   ]
  },
  {
   "cell_type": "markdown",
   "metadata": {},
   "source": [
    "# Comparison"
   ]
  },
  {
   "cell_type": "code",
   "execution_count": 14,
   "metadata": {},
   "outputs": [],
   "source": [
    "import numpy as np\n",
    "import pandas as pd\n",
    "import matplotlib.pyplot as plt\n",
    "from matplotlib import ticker\n",
    "import seaborn as sns\n",
    "\n",
    "\n",
    "FORMATTER = ticker.FuncFormatter(lambda x, p: format(int(x), ','))\n",
    "FIG_SIZE = (6.5, 2.5)\n",
    "#FIG_SIZE = (13, 5)\n",
    "\n",
    "\n",
    "def plot_rolling_metric(ax, metric_values, metric_name, label=None,\n",
    "                        window=200, smoother='mean', unit='', **kwargs):\n",
    "    '''\n",
    "    Helper function to plot model performance metrics across time in\n",
    "    hallucination.\n",
    "\n",
    "    Args:\n",
    "        ax              Matplotlib ax object to plot onto\n",
    "        metric_values   A sequence of floats that will be plotted against\n",
    "                        batch number in the hallucination.\n",
    "        metric_name     A string indicating what you want the values to be\n",
    "                        labeled as in the plots.\n",
    "        label           A string indicating the label you want to use for\n",
    "                        the data\n",
    "        window          How many points to roll over during each iteration\n",
    "        smoother        String indicating how you want to smooth the\n",
    "                        residuals over the course of the hallucination.\n",
    "                        Corresponds exactly to the methods of the\n",
    "                        `pandas.DataFrame.rolling` class, e.g., 'mean',\n",
    "                        'median', 'min', 'max', 'std', 'sum', etc.\n",
    "        unit            [Optional] String indicating the units you want to\n",
    "                        label the plot with\n",
    "        kwargs          Keyword arguments to pass to `sns.lineplot`\n",
    "    '''\n",
    "    # Format the data\n",
    "    df = pd.DataFrame(metric_values, columns=[metric_name])\n",
    "    rolling_residuals = getattr(df, metric_name).rolling(window=window)\n",
    "    rolled_values = getattr(rolling_residuals, smoother)().values\n",
    "    query_numbers = list(range(len(rolled_values)))\n",
    "\n",
    "    # Create and format the figure\n",
    "    _ = sns.lineplot(query_numbers, rolled_values, ax=ax, label=label, **kwargs)\n",
    "    _ = ax.set_xlabel('Number of discovery queries')\n",
    "    if unit:\n",
    "        unit = ' [' + unit + ']'\n",
    "    _ = ax.set_ylabel('Rolling %s of \\n%s%s' % (smoother, metric_name, unit))\n",
    "    _ = ax.set_xlim([query_numbers[0], query_numbers[-1]])\n",
    "    _ = ax.set_ylim([0., np.nanmax(rolled_values) * 1.1])\n",
    "    _ = fig.set_size_inches(*FIG_SIZE)\n",
    "    _ = ax.get_xaxis().set_major_formatter(FORMATTER)\n",
    "    return fig"
   ]
  },
  {
   "cell_type": "markdown",
   "metadata": {},
   "source": [
    "## F1 Score"
   ]
  },
  {
   "cell_type": "code",
   "execution_count": 15,
   "metadata": {},
   "outputs": [
    {
     "data": {
      "image/png": "[encoded data removed]",
      "text/plain": [
       "<Figure size 468x180 with 1 Axes>"
      ]
     },
     "metadata": {
      "needs_background": "light"
     },
     "output_type": "display_data"
    }
   ],
   "source": [
    "fig = plt.figure()\n",
    "\n",
    "ax_rs_null = sns.scatterplot(list(range(len(rs_null_discoverer.reward_history))),\n",
    "                             rs_null_discoverer.reward_history,\n",
    "                             label='RS null', marker='+', color='black')\n",
    "#ax_rs_cfgp = sns.scatterplot(list(range(len(rs_cfgp_discoverer.reward_history))),\n",
    "#                             rs_cfgp_discoverer.reward_history,\n",
    "#                             label='RS CFGP', marker='+', color='blue')\n",
    "ax_rs_prime = sns.scatterplot(list(range(len(rs_prime_discoverer.reward_history))),\n",
    "                              rs_prime_discoverer.reward_history,\n",
    "                              label='RS prime', marker='+', color='green')\n",
    "ax_mms_null = sns.scatterplot(list(range(len(mms_null_discoverer.reward_history))),\n",
    "                              mms_null_discoverer.reward_history,\n",
    "                              label='MMS null', marker='.', color='black')\n",
    "#ax_mms_cfgp = sns.scatterplot(list(range(len(mms_cfgp_discoverer.reward_history))),\n",
    "#                              mms_cfgp_discoverer.reward_history,\n",
    "#                              label='MMS CFGP', marker='.', color='blue')\n",
    "ax_mms_prime = sns.scatterplot(list(range(len(mms_prime_discoverer.reward_history))),\n",
    "                              mms_prime_discoverer.reward_history,\n",
    "                              label='MMS prime', marker='.', color='green')\n",
    "\n",
    "_ = ax_rs_null.set_xlabel('batch number')\n",
    "_ = ax_rs_null.set_ylabel('F1 score')\n",
    "_ = ax_rs_null.set_xlim(0, 120)\n",
    "_ = ax_rs_null.set_ylim(0., 1.2)\n",
    "_ = fig.set_size_inches(*FIG_SIZE)\n",
    "_ = ax_rs_null.get_xaxis().set_major_formatter(FORMATTER)"
   ]
  },
  {
   "cell_type": "markdown",
   "metadata": {},
   "source": [
    "## Proxy reward"
   ]
  },
  {
   "cell_type": "code",
   "execution_count": 16,
   "metadata": {},
   "outputs": [
    {
     "data": {
      "image/png": "[encoded data removed]",
      "text/plain": [
       "<Figure size 468x180 with 1 Axes>"
      ]
     },
     "metadata": {
      "needs_background": "light"
     },
     "output_type": "display_data"
    }
   ],
   "source": [
    "fig = plt.figure()\n",
    "\n",
    "ax_rs_null = sns.scatterplot(list(range(len(rs_null_discoverer.proxy_reward_history))),\n",
    "                             rs_null_discoverer.proxy_reward_history,\n",
    "                             label='RS null', marker='+', color='black')\n",
    "#ax_rs_cfgp = sns.scatterplot(list(range(len(rs_cfgp_discoverer.proxy_reward_history))),\n",
    "#                             rs_cfgp_discoverer.proxy_reward_history,\n",
    "#                             label='RS CFGP', marker='+', color='blue')\n",
    "ax_rs_prime = sns.scatterplot(list(range(len(rs_prime_discoverer.proxy_reward_history))),\n",
    "                              rs_prime_discoverer.proxy_reward_history,\n",
    "                              label='RS prime', marker='+', color='green')\n",
    "ax_mms_null = sns.scatterplot(list(range(len(mms_null_discoverer.proxy_reward_history))),\n",
    "                              mms_null_discoverer.proxy_reward_history,\n",
    "                              label='MMS null', marker='.', color='black')\n",
    "#ax_mms_cfgp = sns.scatterplot(list(range(len(mms_cfgp_discoverer.proxy_reward_history))),\n",
    "#                              mms_cfgp_discoverer.proxy_reward_history,\n",
    "#                              label='MMS CFGP', marker='.', color='blue')\n",
    "ax_mms_prime = sns.scatterplot(list(range(len(mms_prime_discoverer.proxy_reward_history))),\n",
    "                              mms_prime_discoverer.proxy_reward_history,\n",
    "                              label='MMS prime', marker='.', color='green')\n",
    "\n",
    "_ = ax_rs_null.set_xlabel('batch number')\n",
    "_ = ax_rs_null.set_ylabel('proxy reward')\n",
    "_ = ax_rs_null.set_xlim(0, 120)\n",
    "_ = fig.set_size_inches(*FIG_SIZE)\n",
    "_ = ax_rs_null.get_xaxis().set_major_formatter(FORMATTER)"
   ]
  },
  {
   "cell_type": "markdown",
   "metadata": {},
   "source": [
    "## Residuals"
   ]
  },
  {
   "cell_type": "raw",
   "metadata": {},
   "source": [
    "fig = plt.figure()\n",
    "ax = fig.gca()\n",
    "window = 750\n",
    "\n",
    "_ = plot_rolling_metric(ax=ax,\n",
    "                       metric_values=np.abs(rs_null_discoverer.residuals),\n",
    "                       label='RS null',\n",
    "                       metric_name='|residuals|',\n",
    "                       unit='eV',\n",
    "                       window=window,\n",
    "                       color='black')\n",
    "_ = plot_rolling_metric(ax=ax,\n",
    "                        metric_values=np.abs(rs_cfgp_discoverer.residuals),\n",
    "                        label='RS CFGP',\n",
    "                        metric_name='|residuals|',\n",
    "                        unit='eV',\n",
    "                        window=window,\n",
    "                        color='blue')\n",
    "#_ = plot_rolling_metric(ax=ax,\n",
    "#                        metric_values=np.abs(rs_prime_discoverer.residuals),\n",
    "#                        label='RS prime',\n",
    "#                        metric_name='|residuals|',\n",
    "#                        unit='eV',\n",
    "#                        window=window,\n",
    "#                        color='green')\n",
    "_ = plot_rolling_metric(ax=ax,\n",
    "                        metric_values=np.abs(mms_null_discoverer.residuals),\n",
    "                        label='MMS Null',\n",
    "                        metric_name='|residuals|',\n",
    "                        unit='eV',\n",
    "                        window=window,\n",
    "                        color='black')\n",
    "_ = plot_rolling_metric(ax=ax,\n",
    "                        metric_values=np.abs(mms_cfgp_discoverer.residuals),\n",
    "                        label='MMS CFGP',\n",
    "                        metric_name='|residuals|',\n",
    "                        unit='eV',\n",
    "                        window=window,\n",
    "                        color='blue')\n",
    "#_ = plot_rolling_metric(ax=ax,\n",
    "#                        metric_values=np.abs(mms_prime_discoverer.residuals),\n",
    "#                        label='MMS prime',\n",
    "#                        metric_name='|residuals|',\n",
    "#                        unit='eV',\n",
    "#                        window=window,\n",
    "#                        color='green')\n",
    "\n",
    "#for line in ax.lines[:3]:\n",
    "for line in ax.lines[:2]:\n",
    "    line.set_linestyle('--')\n",
    "_ = ax.legend()\n",
    "_ = ax.set_ylim([0., 1.2])\n",
    "_ = ax.set_xlim([0., 25000])"
   ]
  },
  {
   "cell_type": "markdown",
   "metadata": {},
   "source": [
    "## Calibration"
   ]
  },
  {
   "cell_type": "raw",
   "metadata": {},
   "source": [
    "from tqdm.notebook import tqdm\n",
    "\n",
    "\n",
    "fig = plt.figure()\n",
    "ax = fig.gca()\n",
    "\n",
    "\n",
    "def calculate_eces(discoverer, window=200):\n",
    "    # Divide the data into chunks, which we need to calculate ECE\n",
    "    chunked_residuals = discoverer.chunk_iterable(discoverer.residuals, window)\n",
    "    chunked_uncertainties = discoverer.chunk_iterable(discoverer.uncertainties, window)\n",
    "\n",
    "    # Calculate ECE\n",
    "    loop = tqdm(zip(chunked_residuals, chunked_uncertainties),\n",
    "                desc='calibration', unit='batch', total=len(chunked_residuals))\n",
    "    for resids, stdevs in loop:\n",
    "        ece = discoverer.calculate_expected_calibration_error(resids, stdevs)\n",
    "        try:\n",
    "            eces.extend([ece] * len(resids))\n",
    "        # EAFP for initialization\n",
    "        except NameError:\n",
    "            eces = [ece] * len(resids)\n",
    "    return eces\n",
    "\n",
    "\n",
    "_ = plot_rolling_metric(ax=ax,\n",
    "                        metric_values=calculate_eces(rs_null_discoverer),\n",
    "                        label='RS null',\n",
    "                        metric_name='expected calibration error',\n",
    "                        color='black')\n",
    "_ = plot_rolling_metric(ax=ax,\n",
    "                        metric_values=calculate_eces(rs_cfgp_discoverer),\n",
    "                        label='RS CFGP',\n",
    "                        metric_name='expected calibration error',\n",
    "                        color='blue')\n",
    "_ = plot_rolling_metric(ax=ax,\n",
    "                        metric_values=calculate_eces(rs_prime_discoverer),\n",
    "                        label='RS prime',\n",
    "                        metric_name='expected calibration error',\n",
    "                        color='green')\n",
    "_ = plot_rolling_metric(ax=ax,\n",
    "                        metric_values=calculate_eces(mms_null_discoverer),\n",
    "                        label='MMS null',\n",
    "                        metric_name='expected calibration error',\n",
    "                        color='black')\n",
    "_ = plot_rolling_metric(ax=ax,\n",
    "                        metric_values=calculate_eces(mms_cfgp_discoverer),\n",
    "                        label='MMS CFGP',\n",
    "                        metric_name='expected calibration error',\n",
    "                        color='blue')\n",
    "_ = plot_rolling_metric(ax=ax,\n",
    "                        metric_values=calculate_eces(mms_prime_discoverer),\n",
    "                        label='MMS prime',\n",
    "                        metric_name='expected calibration error',\n",
    "                        color='green')\n",
    "\n",
    "for line in ax.lines[:3]:\n",
    "#for line in ax.lines[:2]:\n",
    "    line.set_linestyle('--')\n",
    "_ = ax.legend()\n",
    "_ = ax.set_ylim([0., 0.1])\n",
    "_ = ax.set_xlim([0., 25000])"
   ]
  },
  {
   "cell_type": "markdown",
   "metadata": {},
   "source": [
    "## Sharpness"
   ]
  },
  {
   "cell_type": "raw",
   "metadata": {},
   "source": [
    "fig = plt.figure()\n",
    "ax = fig.gca()\n",
    "\n",
    "_ = plot_rolling_metric(ax=ax,\n",
    "                        metric_values=np.abs(rs_null_discoverer.uncertainties),\n",
    "                        label='RS null',\n",
    "                        metric_name='predicted uncertainty (stdev)',\n",
    "                        unit='eV',\n",
    "                        color='black')\n",
    "_ = plot_rolling_metric(ax=ax,\n",
    "                        metric_values=np.abs(rs_cfgp_discoverer.uncertainties),\n",
    "                        label='RS CFGP',\n",
    "                        metric_name='predicted uncertainty (stdev)',\n",
    "                        unit='eV',\n",
    "                        color='blue')\n",
    "_ = plot_rolling_metric(ax=ax,\n",
    "                        metric_values=np.abs(rs_prime_discoverer.uncertainties),\n",
    "                        label='RS prime',\n",
    "                        metric_name='predicted uncertainty (stdev)',\n",
    "                        unit='eV',\n",
    "                        color='green')\n",
    "_ = plot_rolling_metric(ax=ax,\n",
    "                        metric_values=np.abs(mms_null_discoverer.uncertainties),\n",
    "                        label='MMS null',\n",
    "                        metric_name='predicted uncertainty (stdev)',\n",
    "                        unit='eV',\n",
    "                        color='black')\n",
    "_ = plot_rolling_metric(ax=ax,\n",
    "                        metric_values=np.abs(mms_cfgp_discoverer.uncertainties),\n",
    "                        label='MMS CFGP',\n",
    "                        metric_name='predicted uncertainty (stdev)',\n",
    "                        unit='eV',\n",
    "                        color='blue')\n",
    "_ = plot_rolling_metric(ax=ax,\n",
    "                        metric_values=np.abs(mms_prime_discoverer.uncertainties),\n",
    "                        label='MMS prime',\n",
    "                        metric_name='predicted uncertainty (stdev)',\n",
    "                        unit='eV',\n",
    "                        color='green')\n",
    "\n",
    "for line in ax.lines[:3]:\n",
    "    line.set_linestyle('--')\n",
    "_ = ax.legend()\n",
    "_ = ax.set_ylim([0., 1.1])\n",
    "_ = ax.set_xlim([0., 25000])"
   ]
  },
  {
   "cell_type": "markdown",
   "metadata": {},
   "source": [
    "## NLL"
   ]
  },
  {
   "cell_type": "raw",
   "metadata": {},
   "source": [
    "from scipy.stats import norm\n",
    "\n",
    "\n",
    "window = 600\n",
    "fig = plt.figure()\n",
    "ax = fig.gca()\n",
    "\n",
    "\n",
    "def calculate_nlls(discoverer):\n",
    "    nlls = [-norm.logpdf(resid, loc=0., scale=std)\n",
    "            for resid, std in zip(discoverer.residuals, discoverer.uncertainties)]\n",
    "    return nlls\n",
    "\n",
    "\n",
    "_ = plot_rolling_metric(ax=ax,\n",
    "                        metric_values=calculate_nlls(rs_null_discoverer),\n",
    "                        label='RS null',\n",
    "                        metric_name='negative log likelihood',\n",
    "                        unit='eV',\n",
    "                        window=window,\n",
    "                        color='black')\n",
    "_ = plot_rolling_metric(ax=ax,\n",
    "                        metric_values=calculate_nlls(rs_cfgp_discoverer),\n",
    "                        label='RS CFGP',\n",
    "                        metric_name='negative log likelihood',\n",
    "                        unit='eV',\n",
    "                        window=window,\n",
    "                        color='blue')\n",
    "_ = plot_rolling_metric(ax=ax,\n",
    "                        metric_values=calculate_nlls(rs_prime_discoverer),\n",
    "                        label='RS prime',\n",
    "                        metric_name='negative log likelihood',\n",
    "                        unit='eV',\n",
    "                        window=window,\n",
    "                        color='green')\n",
    "_ = plot_rolling_metric(ax=ax,\n",
    "                        metric_values=calculate_nlls(mms_null_discoverer),\n",
    "                        label='MMS null',\n",
    "                        metric_name='negative log likelihood',\n",
    "                        unit='eV',\n",
    "                        window=window,\n",
    "                        color='black')\n",
    "_ = plot_rolling_metric(ax=ax,\n",
    "                        metric_values=calculate_nlls(mms_cfgp_discoverer),\n",
    "                        label='MMS CFGP',\n",
    "                        metric_name='negative log likelihood',\n",
    "                        unit='eV',\n",
    "                        window=window,\n",
    "                        color='blue')\n",
    "_ = plot_rolling_metric(ax=ax,\n",
    "                        metric_values=calculate_nlls(mms_prime_discoverer),\n",
    "                        label='MMS prime',\n",
    "                        metric_name='negative log likelihood',\n",
    "                        unit='eV',\n",
    "                        window=window,\n",
    "                        color='green')\n",
    "\n",
    "for line in ax.lines[:3]:\n",
    "    line.set_linestyle('--')\n",
    "_ = ax.legend()\n",
    "_ = ax.set_ylim([-3, 6.])\n",
    "_ = ax.set_xlim([0., 25000])"
   ]
  },
  {
   "cell_type": "markdown",
   "metadata": {},
   "source": [
    "# Comparing F1 score and proxy reward"
   ]
  },
  {
   "cell_type": "code",
   "execution_count": 18,
   "metadata": {},
   "outputs": [
    {
     "name": "stderr",
     "output_type": "stream",
     "text": [
      "/opt/conda/lib/python3.7/site-packages/ipykernel_launcher.py:20: RuntimeWarning: divide by zero encountered in log\n",
      "/opt/conda/lib/python3.7/site-packages/ipykernel_launcher.py:20: RuntimeWarning: divide by zero encountered in log\n",
      "/opt/conda/lib/python3.7/site-packages/ipykernel_launcher.py:20: RuntimeWarning: divide by zero encountered in log\n",
      "/opt/conda/lib/python3.7/site-packages/ipykernel_launcher.py:20: RuntimeWarning: divide by zero encountered in log\n"
     ]
    },
    {
     "data": {
      "image/png": "[encoded data removed]",
      "text/plain": [
       "<Figure size 252x252 with 1 Axes>"
      ]
     },
     "metadata": {
      "needs_background": "light"
     },
     "output_type": "display_data"
    }
   ],
   "source": [
    "fig = plt.figure(figsize=(3.5, 3.5))\n",
    "ax = fig.gca()\n",
    "\n",
    "f1_scores = {'RS null': rs_null_discoverer.reward_history,\n",
    "             #'RS CFGP': rs_cfgp_discoverer.reward_history,\n",
    "             'RS prime': rs_prime_discoverer.reward_history,\n",
    "             'MMS null': mms_null_discoverer.reward_history,\n",
    "             #'MMS CFGP': mms_cfgp_discoverer.reward_history,\n",
    "             'MMS prime': mms_prime_discoverer.reward_history}\n",
    "\n",
    "proxy_rewards = {'RS null': rs_null_discoverer.proxy_reward_history,\n",
    "                 #'RS CFGP': rs_cfgp_discoverer.proxy_reward_history,\n",
    "                 'RS prime': rs_prime_discoverer.proxy_reward_history,\n",
    "                 'MMS null': mms_null_discoverer.proxy_reward_history,\n",
    "                 #'MMS CFGP': mms_cfgp_discoverer.proxy_reward_history,\n",
    "                 'MMS prime': mms_prime_discoverer.proxy_reward_history}\n",
    "\n",
    "for key, f1s in f1_scores.items():\n",
    "    proxies = proxy_rewards[key]\n",
    "    f1s = np.log(f1s)\n",
    "    _ = sns.scatterplot(f1s, proxies, label=key)\n",
    "\n",
    "_ = ax.set_xlabel('log(F1 score)')\n",
    "_ = ax.set_ylabel('proxy reward')"
   ]
  },
  {
   "cell_type": "code",
   "execution_count": null,
   "metadata": {},
   "outputs": [],
   "source": []
  }
 ],
 "metadata": {
  "kernelspec": {
   "display_name": "Python 3",
   "language": "python",
   "name": "python3"
  },
  "language_info": {
   "codemirror_mode": {
    "name": "ipython",
    "version": 3
   },
   "file_extension": ".py",
   "mimetype": "text/x-python",
   "name": "python",
   "nbconvert_exporter": "python",
   "pygments_lexer": "ipython3",
   "version": "3.7.8"
  }
 },
 "nbformat": 4,
 "nbformat_minor": 4
}
