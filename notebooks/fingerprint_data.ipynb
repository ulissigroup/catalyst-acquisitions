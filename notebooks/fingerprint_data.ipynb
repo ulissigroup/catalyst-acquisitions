{
 "cells": [
  {
   "cell_type": "code",
   "execution_count": 1,
   "metadata": {},
   "outputs": [
    {
     "name": "stderr",
     "output_type": "stream",
     "text": [
      "/global/homes/k/ktran/miniconda3/envs/gaspy/lib/python3.6/site-packages/IPython/config.py:13: ShimWarning: The `IPython.config` package has been deprecated since IPython 4.0. You should import from traitlets.config instead.\n",
      "  \"You should import from traitlets.config instead.\", ShimWarning)\n",
      "/global/homes/k/ktran/miniconda3/envs/gaspy/lib/python3.6/site-packages/ipycache.py:17: UserWarning: IPython.utils.traitlets has moved to a top-level traitlets package.\n",
      "  from IPython.utils.traitlets import Unicode\n"
     ]
    }
   ],
   "source": [
    "%load_ext ipycache\n",
    "%load_ext autoreload\n",
    "%autoreload 2"
   ]
  },
  {
   "cell_type": "code",
   "execution_count": 2,
   "metadata": {},
   "outputs": [],
   "source": [
    "import sys\n",
    "sys.path.append('..')"
   ]
  },
  {
   "cell_type": "markdown",
   "metadata": {},
   "source": [
    "# Initialization\n",
    "## Hyperparameters for discovery"
   ]
  },
  {
   "cell_type": "code",
   "execution_count": 3,
   "metadata": {},
   "outputs": [],
   "source": [
    "adsorbate = 'OH'"
   ]
  },
  {
   "cell_type": "markdown",
   "metadata": {},
   "source": [
    "## Gather validation data"
   ]
  },
  {
   "cell_type": "code",
   "execution_count": 4,
   "metadata": {},
   "outputs": [
    {
     "name": "stdout",
     "output_type": "stream",
     "text": [
      "[Skipped the cell's code and loaded variables sampling_features, sampling_labels, sampling_surfaces, training_features, training_labels, training_surfaces from file '/global/cfs/cdirs/m2755/ktran/sandbox/2020/catalyst-acquisitions/notebooks/example_data.pkl'.]\n",
      "successfully loaded your custom FW_config.yaml!\n",
      "Now pulling adsorption documents...\n"
     ]
    },
    {
     "name": "stderr",
     "output_type": "stream",
     "text": [
      "4077it [00:00, 45544.97it/s]\n"
     ]
    }
   ],
   "source": [
    "%%cache example_data.pkl training_features, training_labels, training_surfaces, sampling_features, sampling_labels, sampling_surfaces\n",
    "\n",
    "import random\n",
    "import numpy as np\n",
    "from gaspy.gasdb import get_adsorption_docs, get_surface_from_doc\n",
    "\n",
    "\n",
    "docs = get_adsorption_docs(adsorbate)\n",
    "# docs = random.sample(docs, total_size_limit)\n",
    "random.shuffle(docs)\n",
    "\n",
    "\n",
    "def parse_docs(docs):\n",
    "    '''\n",
    "    Our testing framework needs us to divide information into features, labels, and surfaces.\n",
    "    This function will convert a list of docs/dictionaries into these things.\n",
    "    \n",
    "    Arg:\n",
    "        docs    A list of dictionaries from `gaspy.gasdb.get_adsorption_docs`\n",
    "    Returns:\n",
    "        features    ...just the `docs` arg\n",
    "        labels      A list of the 'energy' keys in `docs`\n",
    "        surfaces    A list of 4-tuples indicating the surfaces of `docs\n",
    "    '''\n",
    "    features = docs\n",
    "    labels = [doc['energy'] for doc in docs]\n",
    "    surfaces = [get_surface_from_doc(doc) for doc in docs]\n",
    "    return features, labels, surfaces\n",
    "\n",
    "\n",
    "training_features, training_labels, training_surfaces = parse_docs(docs[:initial_training_size])\n",
    "sampling_features, sampling_labels, sampling_surfaces = parse_docs(docs[initial_training_size:])"
   ]
  },
  {
   "cell_type": "markdown",
   "metadata": {},
   "source": [
    "# Fingerprint"
   ]
  },
  {
   "cell_type": "code",
   "execution_count": 11,
   "metadata": {
    "scrolled": true
   },
   "outputs": [
    {
     "name": "stdout",
     "output_type": "stream",
     "text": [
      "[Saved variables 'sampling_fingerprints, sampling_labels, sampling_surfaces, training_fingerprints, training_labels, training_surfaces' to file '/global/cfs/cdirs/m2755/ktran/sandbox/2020/catalyst-acquisitions/notebooks/fingerprints.pkl'.]\n"
     ]
    }
   ],
   "source": [
    "%%cache fingerprints.pkl training_fingerprints, training_labels, training_surfaces, sampling_fingerprints, sampling_labels, sampling_surfaces\n",
    "from gaspy_regress import fingerprinters\n",
    "\n",
    "\n",
    "inner_fingerprinter = fingerprinters.InnerShellFingerprinter()\n",
    "outer_fingerprinter = fingerprinters.OuterShellFingerprinter()\n",
    "fingerprinter = fingerprinters.StackedFingerprinter(inner_fingerprinter, outer_fingerprinter)\n",
    "\n",
    "training_fingerprints = fingerprinter.fit_transform(training_features)\n",
    "sampling_fingerprints = fingerprinter.transform(sampling_features)"
   ]
  },
  {
   "cell_type": "code",
   "execution_count": null,
   "metadata": {},
   "outputs": [],
   "source": []
  }
 ],
 "metadata": {
  "kernelspec": {
   "display_name": "ktran",
   "language": "python",
   "name": "ktran"
  },
  "language_info": {
   "codemirror_mode": {
    "name": "ipython",
    "version": 3
   },
   "file_extension": ".py",
   "mimetype": "text/x-python",
   "name": "python",
   "nbconvert_exporter": "python",
   "pygments_lexer": "ipython3",
   "version": "3.6.7"
  }
 },
 "nbformat": 4,
 "nbformat_minor": 4
}
