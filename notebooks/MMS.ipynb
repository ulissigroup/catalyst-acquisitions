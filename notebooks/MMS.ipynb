{
 "cells": [
  {
   "cell_type": "code",
   "execution_count": 1,
   "metadata": {},
   "outputs": [
    {
     "name": "stderr",
     "output_type": "stream",
     "text": [
      "/miniconda3/lib/python3.7/site-packages/IPython/config.py:13: ShimWarning: The `IPython.config` package has been deprecated since IPython 4.0. You should import from traitlets.config instead.\n",
      "  \"You should import from traitlets.config instead.\", ShimWarning)\n",
      "/miniconda3/lib/python3.7/site-packages/ipycache.py:17: UserWarning: IPython.utils.traitlets has moved to a top-level traitlets package.\n",
      "  from IPython.utils.traitlets import Unicode\n"
     ]
    }
   ],
   "source": [
    "%load_ext ipycache\n",
    "%load_ext autoreload\n",
    "%autoreload 2"
   ]
  },
  {
   "cell_type": "markdown",
   "metadata": {},
   "source": [
    "# Initialization\n",
    "## Hyperparameters for discovery"
   ]
  },
  {
   "cell_type": "code",
   "execution_count": 2,
   "metadata": {},
   "outputs": [],
   "source": [
    "adsorbate = 'OH'\n",
    "target_energy = 1.23  # eV\n",
    "# total_size_limit = 600\n",
    "initial_training_size = 200\n",
    "batch_size = 200\n",
    "quantile_cutoff = 0.95"
   ]
  },
  {
   "cell_type": "markdown",
   "metadata": {},
   "source": [
    "## Gather validation data"
   ]
  },
  {
   "cell_type": "code",
   "execution_count": 3,
   "metadata": {},
   "outputs": [],
   "source": [
    "import random\n",
    "import gzip\n",
    "import shutil\n",
    "import ase.db\n",
    "\n",
    "\n",
    "# Connect to the database. If it hasn't been unzipped yet, then unzip it\n",
    "db = ase.db.connect('gasdb.db')\n",
    "if db.count() == 0:\n",
    "    with gzip.open('gasdb.db.gz', 'rb') as f_in:\n",
    "        with open('gasdb.db', 'wb') as f_out:\n",
    "            shutil.copyfileobj(f_in, f_out)\n",
    "\n",
    "# Grab the pointers to the data and shuffle\n",
    "rows = list(db.select())\n",
    "random.Random(42).shuffle(rows)\n",
    "\n",
    "\n",
    "def parse_rows(rows):\n",
    "    features = []\n",
    "    labels = []\n",
    "    surfaces = []\n",
    "    \n",
    "    for row in rows:\n",
    "        features.append(row.id)\n",
    "        data = row.data\n",
    "        labels.append(data['adsorption_energy'])\n",
    "        surface = (data['mpid'], data['miller'], data['shift'], data['top'])\n",
    "        surfaces.append(surface)\n",
    "    \n",
    "    return features, labels, surfaces\n",
    "\n",
    "\n",
    "training_features, training_labels, training_surfaces = parse_rows(rows[:initial_training_size])\n",
    "sampling_features, sampling_labels, sampling_surfaces = parse_rows(rows[initial_training_size:])"
   ]
  },
  {
   "cell_type": "markdown",
   "metadata": {},
   "source": [
    "# Hallucinate\n",
    "## Initialize"
   ]
  },
  {
   "cell_type": "code",
   "execution_count": 4,
   "metadata": {
    "scrolled": true
   },
   "outputs": [
    {
     "name": "stdout",
     "output_type": "stream",
     "text": [
      "### Loaded preprocessed data from:  ['./data.pt']\n"
     ]
    },
    {
     "data": {
      "text/html": [
       "\n",
       "                Logging results to <a href=\"https://wandb.com\" target=\"_blank\">Weights & Biases</a> <a href=\"https://docs.wandb.com/integrations/jupyter.html\" target=\"_blank\">(Documentation)</a>.<br/>\n",
       "                Project page: <a href=\"https://app.wandb.ai/ktran9891/catalyst-acquisitions-notebooks\" target=\"_blank\">https://app.wandb.ai/ktran9891/catalyst-acquisitions-notebooks</a><br/>\n",
       "                Run page: <a href=\"https://app.wandb.ai/ktran9891/catalyst-acquisitions-notebooks/runs/2020-05-14-15-28-29-cnn\" target=\"_blank\">https://app.wandb.ai/ktran9891/catalyst-acquisitions-notebooks/runs/2020-05-14-15-28-29-cnn</a><br/>\n",
       "            "
      ],
      "text/plain": [
       "<IPython.core.display.HTML object>"
      ]
     },
     "metadata": {},
     "output_type": "display_data"
    },
    {
     "name": "stdout",
     "output_type": "stream",
     "text": [
      "### Loading dataset: gasdb\n",
      "### Loaded preprocessed data from:  ['./data.pt']\n",
      "### Loading model: cgcnn\n",
      "### Loaded CGCNN with 189121 parameters.\n",
      "cmd:\n",
      "  checkpoint_dir: /global/cfs/cdirs/m2755/ktran/sandbox/2020/catalyst-acquisitions/notebooks/checkpoints/2020-05-14-15-28-29-cnn\n",
      "  identifier: cnn\n",
      "  logs_dir: /global/cfs/cdirs/m2755/ktran/sandbox/2020/catalyst-acquisitions/notebooks/logs/2020-05-14-15-28-29-cnn\n",
      "  print_every: 100\n",
      "  results_dir: /global/cfs/cdirs/m2755/ktran/sandbox/2020/catalyst-acquisitions/notebooks/results/2020-05-14-15-28-29-cnn\n",
      "  seed: null\n",
      "  timestamp: 2020-05-14-15-28-29-cnn\n",
      "dataset:\n",
      "  src: .\n",
      "  test_size: 9457\n",
      "  train_size: 30258\n",
      "  val_size: 7564\n",
      "logger: wandb\n",
      "model: cgcnn\n",
      "model_attributes:\n",
      "  atom_embedding_size: 64\n",
      "  fc_feat_size: 128\n",
      "  num_fc_layers: 4\n",
      "  num_graph_conv_layers: 6\n",
      "optim:\n",
      "  batch_size: 64\n",
      "  lr_gamma: 0.1\n",
      "  lr_initial: 0.001\n",
      "  lr_milestones:\n",
      "  - 100\n",
      "  - 150\n",
      "  max_epochs: 5\n",
      "  warmup_epochs: 10\n",
      "  warmup_factor: 0.2\n",
      "task:\n",
      "  dataset: gasdb\n",
      "  description: Binding energy regression on a dataset of DFT results for CO, H, N,\n",
      "    O, and OH adsorption on various slabs.\n",
      "  labels:\n",
      "  - binding energy\n",
      "  metric: mae\n",
      "  type: regression\n",
      "\n",
      "Planning to run on 1 GPUs.\n",
      "### Beginning training on convolutional network.\n",
      "epoch: 0.2500, loss: 0.8149, binding energy/mae: 0.7156\n",
      "### Evaluating on val.\n",
      "loss: 1.5827, binding energy/mae: 1.3898\n",
      "### Evaluating on test.\n",
      "loss: 1.5901, binding energy/mae: 1.3963\n",
      "epoch: 1.2500, loss: 0.7064, binding energy/mae: 0.6203\n",
      "### Evaluating on val.\n",
      "loss: 1.2211, binding energy/mae: 1.0723\n",
      "### Evaluating on test.\n",
      "loss: 1.2294, binding energy/mae: 1.0796\n",
      "epoch: 2.2500, loss: 0.6766, binding energy/mae: 0.5942\n",
      "### Evaluating on val.\n",
      "loss: 1.1242, binding energy/mae: 0.9872\n",
      "### Evaluating on test.\n",
      "loss: 1.1324, binding energy/mae: 0.9944\n",
      "epoch: 3.2500, loss: 0.6764, binding energy/mae: 0.5940\n",
      "### Evaluating on val.\n",
      "loss: 0.9492, binding energy/mae: 0.8336\n",
      "### Evaluating on test.\n",
      "loss: 0.9578, binding energy/mae: 0.8411\n",
      "epoch: 4.2500, loss: 0.6816, binding energy/mae: 0.5986\n",
      "### Evaluating on val.\n",
      "loss: 0.8709, binding energy/mae: 0.7648\n",
      "### Evaluating on test.\n",
      "loss: 0.8790, binding energy/mae: 0.7719\n",
      "### Beginning training on GP.\n",
      "Number of devices: 1 -- Kernel partition size: 0\n",
      "Iter 1/1 - Loss: 1.315   lengthscale: 0.695   noise: 0.675\n",
      "Finished training on 200 data points using 1 GPUs.\n",
      "Iter 1/20 - Loss: 1.290   lengthscale: 0.698   noise: 0.635\n",
      "Iter 2/20 - Loss: 1.261   lengthscale: 0.703   noise: 0.571\n",
      "Iter 3/20 - Loss: 1.248   lengthscale: 0.706   noise: 0.537\n",
      "Iter 4/20 - Loss: 1.235   lengthscale: 0.711   noise: 0.503\n",
      "Iter 5/20 - Loss: 1.223   lengthscale: 0.717   noise: 0.469\n",
      "Iter 6/20 - Loss: 1.214   lengthscale: 0.725   noise: 0.440\n",
      "Iter 7/20 - Loss: 1.207   lengthscale: 0.736   noise: 0.417\n",
      "Iter 8/20 - Loss: 1.201   lengthscale: 0.750   noise: 0.397\n",
      "Iter 9/20 - Loss: 1.197   lengthscale: 0.766   noise: 0.381\n",
      "Iter 10/20 - Loss: 1.194   lengthscale: 0.785   noise: 0.366\n",
      "Iter 11/20 - Loss: 1.191   lengthscale: 0.807   noise: 0.353\n",
      "Iter 12/20 - Loss: 1.187   lengthscale: 0.855   noise: 0.329\n",
      "Iter 13/20 - Loss: 1.184   lengthscale: 0.904   noise: 0.309\n",
      "Iter 14/20 - Loss: 1.182   lengthscale: 0.956   noise: 0.292\n",
      "Iter 15/20 - Loss: 1.181   lengthscale: 1.014   noise: 0.275\n",
      "Iter 16/20 - Loss: 1.180   lengthscale: 1.053   noise: 0.265\n",
      "Iter 17/20 - Loss: 1.178   lengthscale: 1.126   noise: 0.247\n",
      "Iter 18/20 - Loss: 1.177   lengthscale: 1.203   noise: 0.230\n",
      "Iter 19/20 - Loss: 1.175   lengthscale: 1.310   noise: 0.209\n",
      "Iter 20/20 - Loss: 1.173   lengthscale: 1.440   noise: 0.185\n",
      "Finished training on 200 data points using 1 GPUs.\n"
     ]
    }
   ],
   "source": [
    "import sys\n",
    "sys.path.insert(0, '../')\n",
    "from src.discoverers.adsorption.mms import MultiscaleDiscoverer\n",
    "\n",
    "\n",
    "# Initialize\n",
    "discoverer = MultiscaleDiscoverer(db_dir='.',\n",
    "                                  target_energy=target_energy,\n",
    "                                  quantile_cutoff=quantile_cutoff,\n",
    "                                  batch_size=batch_size,\n",
    "                                  training_features=training_features,\n",
    "                                  training_labels=training_labels,\n",
    "                                  training_surfaces=training_surfaces,\n",
    "                                  sampling_features=sampling_features,\n",
    "                                  sampling_labels=sampling_labels,\n",
    "                                  sampling_surfaces=sampling_surfaces,\n",
    "                                  init_train=True  # Set to `False` only for warm starts\n",
    "                                 )"
   ]
  },
  {
   "cell_type": "markdown",
   "metadata": {},
   "source": [
    "## Run"
   ]
  },
  {
   "cell_type": "code",
   "execution_count": null,
   "metadata": {
    "scrolled": true
   },
   "outputs": [
    {
     "data": {
      "application/vnd.jupyter.widget-view+json": {
       "model_id": "3ea3980d18b541e0a7f693561a621dba",
       "version_major": 2,
       "version_minor": 0
      },
      "text/plain": [
       "HBox(children=(FloatProgress(value=0.0, description='Hallucinating discovery...', max=236.0, style=ProgressSty…"
      ]
     },
     "metadata": {},
     "output_type": "display_data"
    },
    {
     "name": "stderr",
     "output_type": "stream",
     "text": [
      "\u001b[34m\u001b[1mwandb\u001b[0m: \u001b[33mWARNING\u001b[0m Adding to old History rows isn't currently supported.  Step 1 < 21; dropping {'train/epoch': 0.1, 'train/loss': 0.6207417249679565, 'train/binding energy/mae': tensor(0.5451, grad_fn=<SelectBackward>)}.\n"
     ]
    },
    {
     "name": "stdout",
     "output_type": "stream",
     "text": [
      "### Beginning training on convolutional network.\n",
      "epoch: 0.1000, loss: 0.6692, binding energy/mae: 0.5876\n"
     ]
    },
    {
     "name": "stderr",
     "output_type": "stream",
     "text": [
      "\u001b[34m\u001b[1mwandb\u001b[0m: \u001b[33mWARNING\u001b[0m Adding to old History rows isn't currently supported.  Step 2 < 21; dropping {'train/epoch': 0.2, 'train/loss': 0.6183792948722839, 'train/binding energy/mae': tensor(0.5430, grad_fn=<SelectBackward>)}.\n",
      "\u001b[34m\u001b[1mwandb\u001b[0m: \u001b[33mWARNING\u001b[0m Adding to old History rows isn't currently supported.  Step 3 < 21; dropping {'train/epoch': 0.3, 'train/loss': 0.7628448605537415, 'train/binding energy/mae': tensor(0.6699, grad_fn=<SelectBackward>)}.\n",
      "\u001b[34m\u001b[1mwandb\u001b[0m: \u001b[33mWARNING\u001b[0m Adding to old History rows isn't currently supported.  Step 4 < 21; dropping {'train/epoch': 0.4, 'train/loss': 0.6782292723655701, 'train/binding energy/mae': tensor(0.5956, grad_fn=<SelectBackward>)}.\n",
      "\u001b[34m\u001b[1mwandb\u001b[0m: \u001b[33mWARNING\u001b[0m Adding to old History rows isn't currently supported.  Step 5 < 21; dropping {'train/epoch': 0.5, 'train/loss': 0.6632064580917358, 'train/binding energy/mae': tensor(0.5824, grad_fn=<SelectBackward>)}.\n",
      "\u001b[34m\u001b[1mwandb\u001b[0m: \u001b[33mWARNING\u001b[0m Adding to old History rows isn't currently supported.  Step 6 < 21; dropping {'train/epoch': 0.6, 'train/loss': 0.5489899516105652, 'train/binding energy/mae': tensor(0.4821, grad_fn=<SelectBackward>)}.\n",
      "\u001b[34m\u001b[1mwandb\u001b[0m: \u001b[33mWARNING\u001b[0m Adding to old History rows isn't currently supported.  Step 7 < 21; dropping {'train/epoch': 0.7, 'train/loss': 0.5935698747634888, 'train/binding energy/mae': tensor(0.5212, grad_fn=<SelectBackward>)}.\n",
      "\u001b[34m\u001b[1mwandb\u001b[0m: \u001b[33mWARNING\u001b[0m Adding to old History rows isn't currently supported.  Step 8 < 21; dropping {'train/epoch': 0.8, 'train/loss': 0.6300067901611328, 'train/binding energy/mae': tensor(0.5532, grad_fn=<SelectBackward>)}.\n",
      "\u001b[34m\u001b[1mwandb\u001b[0m: \u001b[33mWARNING\u001b[0m Adding to old History rows isn't currently supported.  Step 9 < 21; dropping {'train/epoch': 0.9, 'train/loss': 0.5612874031066895, 'train/binding energy/mae': tensor(0.4929, grad_fn=<SelectBackward>)}.\n",
      "\u001b[34m\u001b[1mwandb\u001b[0m: \u001b[33mWARNING\u001b[0m Adding to old History rows isn't currently supported.  Step 10 < 21; dropping {'train/epoch': 1.0, 'train/loss': 0.37407204508781433, 'train/binding energy/mae': tensor(0.3285, grad_fn=<SelectBackward>)}.\n"
     ]
    },
    {
     "name": "stdout",
     "output_type": "stream",
     "text": [
      "### Evaluating on val.\n"
     ]
    },
    {
     "name": "stderr",
     "output_type": "stream",
     "text": [
      "\u001b[34m\u001b[1mwandb\u001b[0m: \u001b[33mWARNING\u001b[0m Adding to old History rows isn't currently supported.  Step 10 < 21; dropping {'val/loss': 0.7753904879906885, 'val/binding energy/mae': 0.6808951928855617, 'val/epoch': 1}.\n"
     ]
    },
    {
     "name": "stdout",
     "output_type": "stream",
     "text": [
      "loss: 0.7754, binding energy/mae: 0.6809\n",
      "### Evaluating on test.\n"
     ]
    },
    {
     "name": "stderr",
     "output_type": "stream",
     "text": [
      "\u001b[34m\u001b[1mwandb\u001b[0m: \u001b[33mWARNING\u001b[0m Adding to old History rows isn't currently supported.  Step 10 < 21; dropping {'test/loss': 0.7842273438546438, 'test/binding energy/mae': 0.6886551060265649, 'test/epoch': 1}.\n"
     ]
    },
    {
     "name": "stdout",
     "output_type": "stream",
     "text": [
      "loss: 0.7842, binding energy/mae: 0.6887\n"
     ]
    },
    {
     "name": "stderr",
     "output_type": "stream",
     "text": [
      "\u001b[34m\u001b[1mwandb\u001b[0m: \u001b[33mWARNING\u001b[0m Adding to old History rows isn't currently supported.  Step 11 < 21; dropping {'train/epoch': 1.1, 'train/loss': 0.5314574241638184, 'train/binding energy/mae': tensor(0.4667, grad_fn=<SelectBackward>)}.\n",
      "\u001b[34m\u001b[1mwandb\u001b[0m: \u001b[33mWARNING\u001b[0m Adding to old History rows isn't currently supported.  Step 12 < 21; dropping {'train/epoch': 1.2, 'train/loss': 0.5765379667282104, 'train/binding energy/mae': tensor(0.5063, grad_fn=<SelectBackward>)}.\n"
     ]
    },
    {
     "name": "stdout",
     "output_type": "stream",
     "text": [
      "epoch: 1.1000, loss: 0.6457, binding energy/mae: 0.5670\n"
     ]
    },
    {
     "name": "stderr",
     "output_type": "stream",
     "text": [
      "\u001b[34m\u001b[1mwandb\u001b[0m: \u001b[33mWARNING\u001b[0m Adding to old History rows isn't currently supported.  Step 13 < 21; dropping {'train/epoch': 1.3, 'train/loss': 0.6122240424156189, 'train/binding energy/mae': tensor(0.5376, grad_fn=<SelectBackward>)}.\n",
      "\u001b[34m\u001b[1mwandb\u001b[0m: \u001b[33mWARNING\u001b[0m Adding to old History rows isn't currently supported.  Step 14 < 21; dropping {'train/epoch': 1.4, 'train/loss': 0.6577503681182861, 'train/binding energy/mae': tensor(0.5776, grad_fn=<SelectBackward>)}.\n",
      "\u001b[34m\u001b[1mwandb\u001b[0m: \u001b[33mWARNING\u001b[0m Adding to old History rows isn't currently supported.  Step 15 < 21; dropping {'train/epoch': 1.5, 'train/loss': 0.6313275098800659, 'train/binding energy/mae': tensor(0.5544, grad_fn=<SelectBackward>)}.\n",
      "\u001b[34m\u001b[1mwandb\u001b[0m: \u001b[33mWARNING\u001b[0m Adding to old History rows isn't currently supported.  Step 16 < 21; dropping {'train/epoch': 1.6, 'train/loss': 0.5581933259963989, 'train/binding energy/mae': tensor(0.4902, grad_fn=<SelectBackward>)}.\n",
      "\u001b[34m\u001b[1mwandb\u001b[0m: \u001b[33mWARNING\u001b[0m Adding to old History rows isn't currently supported.  Step 17 < 21; dropping {'train/epoch': 1.7, 'train/loss': 0.5808010697364807, 'train/binding energy/mae': tensor(0.5100, grad_fn=<SelectBackward>)}.\n",
      "\u001b[34m\u001b[1mwandb\u001b[0m: \u001b[33mWARNING\u001b[0m Adding to old History rows isn't currently supported.  Step 18 < 21; dropping {'train/epoch': 1.8, 'train/loss': 0.590884804725647, 'train/binding energy/mae': tensor(0.5189, grad_fn=<SelectBackward>)}.\n",
      "\u001b[34m\u001b[1mwandb\u001b[0m: \u001b[33mWARNING\u001b[0m Adding to old History rows isn't currently supported.  Step 19 < 21; dropping {'train/epoch': 1.9, 'train/loss': 0.5116105079650879, 'train/binding energy/mae': tensor(0.4493, grad_fn=<SelectBackward>)}.\n",
      "\u001b[34m\u001b[1mwandb\u001b[0m: \u001b[33mWARNING\u001b[0m Adding to old History rows isn't currently supported.  Step 20 < 21; dropping {'train/epoch': 2.0, 'train/loss': 0.446021169424057, 'train/binding energy/mae': tensor(0.3917, grad_fn=<SelectBackward>)}.\n"
     ]
    },
    {
     "name": "stdout",
     "output_type": "stream",
     "text": [
      "### Evaluating on val.\n"
     ]
    },
    {
     "name": "stderr",
     "output_type": "stream",
     "text": [
      "\u001b[34m\u001b[1mwandb\u001b[0m: \u001b[33mWARNING\u001b[0m Adding to old History rows isn't currently supported.  Step 20 < 21; dropping {'val/loss': 0.7168721409177617, 'val/binding energy/mae': 0.6295083577620698, 'val/epoch': 2}.\n"
     ]
    },
    {
     "name": "stdout",
     "output_type": "stream",
     "text": [
      "loss: 0.7169, binding energy/mae: 0.6295\n",
      "### Evaluating on test.\n"
     ]
    },
    {
     "name": "stderr",
     "output_type": "stream",
     "text": [
      "\u001b[34m\u001b[1mwandb\u001b[0m: \u001b[33mWARNING\u001b[0m Adding to old History rows isn't currently supported.  Step 20 < 21; dropping {'test/loss': 0.7254336148805586, 'test/binding energy/mae': 0.6370264583683665, 'test/epoch': 2}.\n"
     ]
    },
    {
     "name": "stdout",
     "output_type": "stream",
     "text": [
      "loss: 0.7254, binding energy/mae: 0.6370\n",
      "epoch: 2.1000, loss: 0.6278, binding energy/mae: 0.5513\n",
      "### Evaluating on val.\n",
      "loss: 0.6946, binding energy/mae: 0.6099\n",
      "### Evaluating on test.\n",
      "loss: 0.7043, binding energy/mae: 0.6185\n",
      "epoch: 3.1000, loss: 0.6172, binding energy/mae: 0.5420\n",
      "### Evaluating on val.\n",
      "loss: 0.7019, binding energy/mae: 0.6163\n",
      "### Evaluating on test.\n",
      "loss: 0.7104, binding energy/mae: 0.6239\n",
      "epoch: 4.1000, loss: 0.6010, binding energy/mae: 0.5278\n",
      "### Evaluating on val.\n",
      "loss: 0.7723, binding energy/mae: 0.6782\n",
      "### Evaluating on test.\n",
      "loss: 0.7818, binding energy/mae: 0.6865\n",
      "### Beginning training on GP.\n",
      "Number of devices: 1 -- Kernel partition size: 0\n",
      "Iter 1/1 - Loss: 0.912   lengthscale: 0.698   noise: 0.164\n",
      "Finished training on 600 data points using 1 GPUs.\n",
      "Iter 1/20 - Loss: 0.848   lengthscale: 0.702   noise: 0.121\n",
      "Iter 2/20 - Loss: 0.740   lengthscale: 0.707   noise: 0.063\n",
      "Iter 3/20 - Loss: 0.580   lengthscale: 0.713   noise: 0.020\n",
      "Iter 4/20 - Loss: 0.041   lengthscale: 0.722   noise: 0.000\n",
      "Iter 5/20 - Loss: -0.076   lengthscale: 0.778   noise: 0.000\n",
      "Iter 6/20 - Loss: -0.089   lengthscale: 0.798   noise: 0.000\n",
      "Iter 7/20 - Loss: -0.117   lengthscale: 0.801   noise: 0.000\n",
      "Iter 8/20 - Loss: -0.146   lengthscale: 0.812   noise: 0.000\n",
      "Iter 9/20 - Loss: -0.172   lengthscale: 0.789   noise: 0.000\n",
      "Iter 10/20 - Loss: -0.205   lengthscale: 0.781   noise: 0.000\n",
      "Iter 11/20 - Loss: -0.237   lengthscale: 0.737   noise: 0.000\n",
      "Iter 12/20 - Loss: -0.268   lengthscale: 0.680   noise: 0.000\n",
      "Iter 13/20 - Loss: -0.279   lengthscale: 0.652   noise: 0.000\n",
      "Iter 14/20 - Loss: -0.280   lengthscale: 0.626   noise: 0.000\n",
      "Iter 15/20 - Loss: -0.293   lengthscale: 0.595   noise: 0.000\n",
      "Iter 16/20 - Loss: -0.293   lengthscale: 0.595   noise: 0.000\n",
      "Convergence reached!\n",
      "Finished training on 600 data points using 1 GPUs.\n"
     ]
    },
    {
     "name": "stderr",
     "output_type": "stream",
     "text": [
      "/miniconda3/lib/python3.7/site-packages/scipy/stats/_distn_infrastructure.py:1824: RuntimeWarning: divide by zero encountered in double_scalars\n",
      "  x = np.asarray((x - loc)/scale, dtype=dtyp)\n",
      "\u001b[34m\u001b[1mwandb\u001b[0m: \u001b[33mWARNING\u001b[0m Adding to old History rows isn't currently supported.  Step 1 < 50; dropping {'train/epoch': 0.0625, 'train/loss': 0.5163363218307495, 'train/binding energy/mae': tensor(0.4534, grad_fn=<SelectBackward>)}.\n"
     ]
    },
    {
     "name": "stdout",
     "output_type": "stream",
     "text": [
      "### Beginning training on convolutional network.\n",
      "epoch: 0.0625, loss: 0.5863, binding energy/mae: 0.5148\n"
     ]
    },
    {
     "name": "stderr",
     "output_type": "stream",
     "text": [
      "\u001b[34m\u001b[1mwandb\u001b[0m: \u001b[33mWARNING\u001b[0m Adding to old History rows isn't currently supported.  Step 2 < 50; dropping {'train/epoch': 0.125, 'train/loss': 0.46375542879104614, 'train/binding energy/mae': tensor(0.4072, grad_fn=<SelectBackward>)}.\n",
      "\u001b[34m\u001b[1mwandb\u001b[0m: \u001b[33mWARNING\u001b[0m Adding to old History rows isn't currently supported.  Step 3 < 50; dropping {'train/epoch': 0.1875, 'train/loss': 0.4975259304046631, 'train/binding energy/mae': tensor(0.4369, grad_fn=<SelectBackward>)}.\n",
      "\u001b[34m\u001b[1mwandb\u001b[0m: \u001b[33mWARNING\u001b[0m Adding to old History rows isn't currently supported.  Step 4 < 50; dropping {'train/epoch': 0.25, 'train/loss': 0.4525116980075836, 'train/binding energy/mae': tensor(0.3974, grad_fn=<SelectBackward>)}.\n",
      "\u001b[34m\u001b[1mwandb\u001b[0m: \u001b[33mWARNING\u001b[0m Adding to old History rows isn't currently supported.  Step 5 < 50; dropping {'train/epoch': 0.3125, 'train/loss': 0.4552959203720093, 'train/binding energy/mae': tensor(0.3998, grad_fn=<SelectBackward>)}.\n",
      "\u001b[34m\u001b[1mwandb\u001b[0m: \u001b[33mWARNING\u001b[0m Adding to old History rows isn't currently supported.  Step 6 < 50; dropping {'train/epoch': 0.375, 'train/loss': 0.7585369348526001, 'train/binding energy/mae': tensor(0.6661, grad_fn=<SelectBackward>)}.\n",
      "\u001b[34m\u001b[1mwandb\u001b[0m: \u001b[33mWARNING\u001b[0m Adding to old History rows isn't currently supported.  Step 7 < 50; dropping {'train/epoch': 0.4375, 'train/loss': 0.5065313577651978, 'train/binding energy/mae': tensor(0.4448, grad_fn=<SelectBackward>)}.\n",
      "\u001b[34m\u001b[1mwandb\u001b[0m: \u001b[33mWARNING\u001b[0m Adding to old History rows isn't currently supported.  Step 8 < 50; dropping {'train/epoch': 0.5, 'train/loss': 0.6597591042518616, 'train/binding energy/mae': tensor(0.5794, grad_fn=<SelectBackward>)}.\n",
      "\u001b[34m\u001b[1mwandb\u001b[0m: \u001b[33mWARNING\u001b[0m Adding to old History rows isn't currently supported.  Step 9 < 50; dropping {'train/epoch': 0.5625, 'train/loss': 0.5074704885482788, 'train/binding energy/mae': tensor(0.4456, grad_fn=<SelectBackward>)}.\n",
      "\u001b[34m\u001b[1mwandb\u001b[0m: \u001b[33mWARNING\u001b[0m Adding to old History rows isn't currently supported.  Step 10 < 50; dropping {'train/epoch': 0.625, 'train/loss': 0.365131676197052, 'train/binding energy/mae': tensor(0.3206, grad_fn=<SelectBackward>)}.\n",
      "\u001b[34m\u001b[1mwandb\u001b[0m: \u001b[33mWARNING\u001b[0m Adding to old History rows isn't currently supported.  Step 11 < 50; dropping {'train/epoch': 0.6875, 'train/loss': 0.4378144145011902, 'train/binding energy/mae': tensor(0.3845, grad_fn=<SelectBackward>)}.\n",
      "\u001b[34m\u001b[1mwandb\u001b[0m: \u001b[33mWARNING\u001b[0m Adding to old History rows isn't currently supported.  Step 12 < 50; dropping {'train/epoch': 0.75, 'train/loss': 0.568792998790741, 'train/binding energy/mae': tensor(0.4995, grad_fn=<SelectBackward>)}.\n",
      "\u001b[34m\u001b[1mwandb\u001b[0m: \u001b[33mWARNING\u001b[0m Adding to old History rows isn't currently supported.  Step 13 < 50; dropping {'train/epoch': 0.8125, 'train/loss': 0.5555782318115234, 'train/binding energy/mae': tensor(0.4879, grad_fn=<SelectBackward>)}.\n",
      "\u001b[34m\u001b[1mwandb\u001b[0m: \u001b[33mWARNING\u001b[0m Adding to old History rows isn't currently supported.  Step 14 < 50; dropping {'train/epoch': 0.875, 'train/loss': 0.6211776733398438, 'train/binding energy/mae': tensor(0.5455, grad_fn=<SelectBackward>)}.\n",
      "\u001b[34m\u001b[1mwandb\u001b[0m: \u001b[33mWARNING\u001b[0m Adding to old History rows isn't currently supported.  Step 15 < 50; dropping {'train/epoch': 0.9375, 'train/loss': 0.5307157039642334, 'train/binding energy/mae': tensor(0.4660, grad_fn=<SelectBackward>)}.\n",
      "\u001b[34m\u001b[1mwandb\u001b[0m: \u001b[33mWARNING\u001b[0m Adding to old History rows isn't currently supported.  Step 16 < 50; dropping {'train/epoch': 1.0, 'train/loss': 0.5421618819236755, 'train/binding energy/mae': tensor(0.4761, grad_fn=<SelectBackward>)}.\n"
     ]
    },
    {
     "name": "stdout",
     "output_type": "stream",
     "text": [
      "### Evaluating on val.\n"
     ]
    },
    {
     "name": "stderr",
     "output_type": "stream",
     "text": [
      "\u001b[34m\u001b[1mwandb\u001b[0m: \u001b[33mWARNING\u001b[0m Adding to old History rows isn't currently supported.  Step 16 < 50; dropping {'val/loss': 0.6427914579845455, 'val/binding energy/mae': 0.5644557388269738, 'val/epoch': 1}.\n"
     ]
    },
    {
     "name": "stdout",
     "output_type": "stream",
     "text": [
      "loss: 0.6428, binding energy/mae: 0.5645\n",
      "### Evaluating on test.\n"
     ]
    },
    {
     "name": "stderr",
     "output_type": "stream",
     "text": [
      "\u001b[34m\u001b[1mwandb\u001b[0m: \u001b[33mWARNING\u001b[0m Adding to old History rows isn't currently supported.  Step 16 < 50; dropping {'test/loss': 0.6499199471755387, 'test/binding energy/mae': 0.5707154924126521, 'test/epoch': 1}.\n"
     ]
    },
    {
     "name": "stdout",
     "output_type": "stream",
     "text": [
      "loss: 0.6499, binding energy/mae: 0.5707\n"
     ]
    },
    {
     "name": "stderr",
     "output_type": "stream",
     "text": [
      "\u001b[34m\u001b[1mwandb\u001b[0m: \u001b[33mWARNING\u001b[0m Adding to old History rows isn't currently supported.  Step 17 < 50; dropping {'train/epoch': 1.0625, 'train/loss': 0.5357288718223572, 'train/binding energy/mae': tensor(0.4704, grad_fn=<SelectBackward>)}.\n",
      "\u001b[34m\u001b[1mwandb\u001b[0m: \u001b[33mWARNING\u001b[0m Adding to old History rows isn't currently supported.  Step 18 < 50; dropping {'train/epoch': 1.125, 'train/loss': 0.5255939364433289, 'train/binding energy/mae': tensor(0.4615, grad_fn=<SelectBackward>)}.\n"
     ]
    },
    {
     "name": "stdout",
     "output_type": "stream",
     "text": [
      "epoch: 1.0625, loss: 0.5757, binding energy/mae: 0.5055\n"
     ]
    },
    {
     "name": "stderr",
     "output_type": "stream",
     "text": [
      "\u001b[34m\u001b[1mwandb\u001b[0m: \u001b[33mWARNING\u001b[0m Adding to old History rows isn't currently supported.  Step 19 < 50; dropping {'train/epoch': 1.1875, 'train/loss': 0.5737061500549316, 'train/binding energy/mae': tensor(0.5038, grad_fn=<SelectBackward>)}.\n",
      "\u001b[34m\u001b[1mwandb\u001b[0m: \u001b[33mWARNING\u001b[0m Adding to old History rows isn't currently supported.  Step 20 < 50; dropping {'train/epoch': 1.25, 'train/loss': 0.5956284403800964, 'train/binding energy/mae': tensor(0.5230, grad_fn=<SelectBackward>)}.\n",
      "\u001b[34m\u001b[1mwandb\u001b[0m: \u001b[33mWARNING\u001b[0m Adding to old History rows isn't currently supported.  Step 21 < 50; dropping {'train/epoch': 1.3125, 'train/loss': 0.5073110461235046, 'train/binding energy/mae': tensor(0.4455, grad_fn=<SelectBackward>)}.\n",
      "\u001b[34m\u001b[1mwandb\u001b[0m: \u001b[33mWARNING\u001b[0m Adding to old History rows isn't currently supported.  Step 22 < 50; dropping {'train/epoch': 1.375, 'train/loss': 0.42967915534973145, 'train/binding energy/mae': tensor(0.3773, grad_fn=<SelectBackward>)}.\n",
      "\u001b[34m\u001b[1mwandb\u001b[0m: \u001b[33mWARNING\u001b[0m Adding to old History rows isn't currently supported.  Step 23 < 50; dropping {'train/epoch': 1.4375, 'train/loss': 0.41852807998657227, 'train/binding energy/mae': tensor(0.3675, grad_fn=<SelectBackward>)}.\n",
      "\u001b[34m\u001b[1mwandb\u001b[0m: \u001b[33mWARNING\u001b[0m Adding to old History rows isn't currently supported.  Step 24 < 50; dropping {'train/epoch': 1.5, 'train/loss': 0.43378376960754395, 'train/binding energy/mae': tensor(0.3809, grad_fn=<SelectBackward>)}.\n",
      "\u001b[34m\u001b[1mwandb\u001b[0m: \u001b[33mWARNING\u001b[0m Adding to old History rows isn't currently supported.  Step 25 < 50; dropping {'train/epoch': 1.5625, 'train/loss': 0.579998254776001, 'train/binding energy/mae': tensor(0.5093, grad_fn=<SelectBackward>)}.\n",
      "\u001b[34m\u001b[1mwandb\u001b[0m: \u001b[33mWARNING\u001b[0m Adding to old History rows isn't currently supported.  Step 26 < 50; dropping {'train/epoch': 1.625, 'train/loss': 0.5274871587753296, 'train/binding energy/mae': tensor(0.4632, grad_fn=<SelectBackward>)}.\n",
      "\u001b[34m\u001b[1mwandb\u001b[0m: \u001b[33mWARNING\u001b[0m Adding to old History rows isn't currently supported.  Step 27 < 50; dropping {'train/epoch': 1.6875, 'train/loss': 0.43655577301979065, 'train/binding energy/mae': tensor(0.3834, grad_fn=<SelectBackward>)}.\n",
      "\u001b[34m\u001b[1mwandb\u001b[0m: \u001b[33mWARNING\u001b[0m Adding to old History rows isn't currently supported.  Step 28 < 50; dropping {'train/epoch': 1.75, 'train/loss': 0.4984166622161865, 'train/binding energy/mae': tensor(0.4377, grad_fn=<SelectBackward>)}.\n",
      "\u001b[34m\u001b[1mwandb\u001b[0m: \u001b[33mWARNING\u001b[0m Adding to old History rows isn't currently supported.  Step 29 < 50; dropping {'train/epoch': 1.8125, 'train/loss': 0.49379390478134155, 'train/binding energy/mae': tensor(0.4336, grad_fn=<SelectBackward>)}.\n",
      "\u001b[34m\u001b[1mwandb\u001b[0m: \u001b[33mWARNING\u001b[0m Adding to old History rows isn't currently supported.  Step 30 < 50; dropping {'train/epoch': 1.875, 'train/loss': 0.39236336946487427, 'train/binding energy/mae': tensor(0.3445, grad_fn=<SelectBackward>)}.\n",
      "\u001b[34m\u001b[1mwandb\u001b[0m: \u001b[33mWARNING\u001b[0m Adding to old History rows isn't currently supported.  Step 31 < 50; dropping {'train/epoch': 1.9375, 'train/loss': 0.44213348627090454, 'train/binding energy/mae': tensor(0.3883, grad_fn=<SelectBackward>)}.\n",
      "\u001b[34m\u001b[1mwandb\u001b[0m: \u001b[33mWARNING\u001b[0m Adding to old History rows isn't currently supported.  Step 32 < 50; dropping {'train/epoch': 2.0, 'train/loss': 0.43946900963783264, 'train/binding energy/mae': tensor(0.3859, grad_fn=<SelectBackward>)}.\n"
     ]
    },
    {
     "name": "stdout",
     "output_type": "stream",
     "text": [
      "### Evaluating on val.\n"
     ]
    },
    {
     "name": "stderr",
     "output_type": "stream",
     "text": [
      "\u001b[34m\u001b[1mwandb\u001b[0m: \u001b[33mWARNING\u001b[0m Adding to old History rows isn't currently supported.  Step 32 < 50; dropping {'val/loss': 0.6609867646881978, 'val/binding energy/mae': 0.580433625064484, 'val/epoch': 2}.\n"
     ]
    },
    {
     "name": "stdout",
     "output_type": "stream",
     "text": [
      "loss: 0.6610, binding energy/mae: 0.5804\n",
      "### Evaluating on test.\n"
     ]
    },
    {
     "name": "stderr",
     "output_type": "stream",
     "text": [
      "\u001b[34m\u001b[1mwandb\u001b[0m: \u001b[33mWARNING\u001b[0m Adding to old History rows isn't currently supported.  Step 32 < 50; dropping {'test/loss': 0.6676297043386388, 'test/binding energy/mae': 0.5862670010083342, 'test/epoch': 2}.\n",
      "\u001b[34m\u001b[1mwandb\u001b[0m: \u001b[33mWARNING\u001b[0m Adding to old History rows isn't currently supported.  Step 33 < 50; dropping {'train/epoch': 2.0625, 'train/loss': 0.5309888124465942, 'train/binding energy/mae': tensor(0.4663, grad_fn=<SelectBackward>)}.\n"
     ]
    },
    {
     "name": "stdout",
     "output_type": "stream",
     "text": [
      "loss: 0.6676, binding energy/mae: 0.5863\n",
      "epoch: 2.0625, loss: 0.5622, binding energy/mae: 0.4937\n"
     ]
    },
    {
     "name": "stderr",
     "output_type": "stream",
     "text": [
      "\u001b[34m\u001b[1mwandb\u001b[0m: \u001b[33mWARNING\u001b[0m Adding to old History rows isn't currently supported.  Step 34 < 50; dropping {'train/epoch': 2.125, 'train/loss': 0.47595417499542236, 'train/binding energy/mae': tensor(0.4180, grad_fn=<SelectBackward>)}.\n",
      "\u001b[34m\u001b[1mwandb\u001b[0m: \u001b[33mWARNING\u001b[0m Adding to old History rows isn't currently supported.  Step 35 < 50; dropping {'train/epoch': 2.1875, 'train/loss': 0.5043476819992065, 'train/binding energy/mae': tensor(0.4429, grad_fn=<SelectBackward>)}.\n",
      "\u001b[34m\u001b[1mwandb\u001b[0m: \u001b[33mWARNING\u001b[0m Adding to old History rows isn't currently supported.  Step 36 < 50; dropping {'train/epoch': 2.25, 'train/loss': 0.40497153997421265, 'train/binding energy/mae': tensor(0.3556, grad_fn=<SelectBackward>)}.\n",
      "\u001b[34m\u001b[1mwandb\u001b[0m: \u001b[33mWARNING\u001b[0m Adding to old History rows isn't currently supported.  Step 37 < 50; dropping {'train/epoch': 2.3125, 'train/loss': 0.38303887844085693, 'train/binding energy/mae': tensor(0.3364, grad_fn=<SelectBackward>)}.\n",
      "\u001b[34m\u001b[1mwandb\u001b[0m: \u001b[33mWARNING\u001b[0m Adding to old History rows isn't currently supported.  Step 38 < 50; dropping {'train/epoch': 2.375, 'train/loss': 0.4538904130458832, 'train/binding energy/mae': tensor(0.3986, grad_fn=<SelectBackward>)}.\n",
      "\u001b[34m\u001b[1mwandb\u001b[0m: \u001b[33mWARNING\u001b[0m Adding to old History rows isn't currently supported.  Step 39 < 50; dropping {'train/epoch': 2.4375, 'train/loss': 0.5344305634498596, 'train/binding energy/mae': tensor(0.4693, grad_fn=<SelectBackward>)}.\n",
      "\u001b[34m\u001b[1mwandb\u001b[0m: \u001b[33mWARNING\u001b[0m Adding to old History rows isn't currently supported.  Step 40 < 50; dropping {'train/epoch': 2.5, 'train/loss': 0.4148591160774231, 'train/binding energy/mae': tensor(0.3643, grad_fn=<SelectBackward>)}.\n",
      "\u001b[34m\u001b[1mwandb\u001b[0m: \u001b[33mWARNING\u001b[0m Adding to old History rows isn't currently supported.  Step 41 < 50; dropping {'train/epoch': 2.5625, 'train/loss': 0.427748441696167, 'train/binding energy/mae': tensor(0.3756, grad_fn=<SelectBackward>)}.\n",
      "\u001b[34m\u001b[1mwandb\u001b[0m: \u001b[33mWARNING\u001b[0m Adding to old History rows isn't currently supported.  Step 42 < 50; dropping {'train/epoch': 2.625, 'train/loss': 0.359752893447876, 'train/binding energy/mae': tensor(0.3159, grad_fn=<SelectBackward>)}.\n",
      "\u001b[34m\u001b[1mwandb\u001b[0m: \u001b[33mWARNING\u001b[0m Adding to old History rows isn't currently supported.  Step 43 < 50; dropping {'train/epoch': 2.6875, 'train/loss': 0.5072888135910034, 'train/binding energy/mae': tensor(0.4455, grad_fn=<SelectBackward>)}.\n",
      "\u001b[34m\u001b[1mwandb\u001b[0m: \u001b[33mWARNING\u001b[0m Adding to old History rows isn't currently supported.  Step 44 < 50; dropping {'train/epoch': 2.75, 'train/loss': 0.6658690571784973, 'train/binding energy/mae': tensor(0.5847, grad_fn=<SelectBackward>)}.\n",
      "\u001b[34m\u001b[1mwandb\u001b[0m: \u001b[33mWARNING\u001b[0m Adding to old History rows isn't currently supported.  Step 45 < 50; dropping {'train/epoch': 2.8125, 'train/loss': 0.6699824333190918, 'train/binding energy/mae': tensor(0.5883, grad_fn=<SelectBackward>)}.\n",
      "\u001b[34m\u001b[1mwandb\u001b[0m: \u001b[33mWARNING\u001b[0m Adding to old History rows isn't currently supported.  Step 46 < 50; dropping {'train/epoch': 2.875, 'train/loss': 0.3569889962673187, 'train/binding energy/mae': tensor(0.3135, grad_fn=<SelectBackward>)}.\n",
      "\u001b[34m\u001b[1mwandb\u001b[0m: \u001b[33mWARNING\u001b[0m Adding to old History rows isn't currently supported.  Step 47 < 50; dropping {'train/epoch': 2.9375, 'train/loss': 0.49089792370796204, 'train/binding energy/mae': tensor(0.4311, grad_fn=<SelectBackward>)}.\n",
      "\u001b[34m\u001b[1mwandb\u001b[0m: \u001b[33mWARNING\u001b[0m Adding to old History rows isn't currently supported.  Step 48 < 50; dropping {'train/epoch': 3.0, 'train/loss': 0.3857818841934204, 'train/binding energy/mae': tensor(0.3388, grad_fn=<SelectBackward>)}.\n"
     ]
    },
    {
     "name": "stdout",
     "output_type": "stream",
     "text": [
      "### Evaluating on val.\n"
     ]
    },
    {
     "name": "stderr",
     "output_type": "stream",
     "text": [
      "\u001b[34m\u001b[1mwandb\u001b[0m: \u001b[33mWARNING\u001b[0m Adding to old History rows isn't currently supported.  Step 48 < 50; dropping {'val/loss': 0.6604506177955294, 'val/binding energy/mae': 0.5799628135888544, 'val/epoch': 3}.\n"
     ]
    },
    {
     "name": "stdout",
     "output_type": "stream",
     "text": [
      "loss: 0.6605, binding energy/mae: 0.5800\n",
      "### Evaluating on test.\n"
     ]
    },
    {
     "name": "stderr",
     "output_type": "stream",
     "text": [
      "\u001b[34m\u001b[1mwandb\u001b[0m: \u001b[33mWARNING\u001b[0m Adding to old History rows isn't currently supported.  Step 48 < 50; dropping {'test/loss': 0.6676763070058332, 'test/binding energy/mae': 0.5863079203624432, 'test/epoch': 3}.\n",
      "\u001b[34m\u001b[1mwandb\u001b[0m: \u001b[33mWARNING\u001b[0m Adding to old History rows isn't currently supported.  Step 49 < 50; dropping {'train/epoch': 3.0625, 'train/loss': 0.5670429468154907, 'train/binding energy/mae': tensor(0.4979, grad_fn=<SelectBackward>)}.\n"
     ]
    },
    {
     "name": "stdout",
     "output_type": "stream",
     "text": [
      "loss: 0.6677, binding energy/mae: 0.5863\n",
      "epoch: 3.0625, loss: 0.5505, binding energy/mae: 0.4834\n",
      "### Evaluating on val.\n",
      "loss: 0.6994, binding energy/mae: 0.6142\n",
      "### Evaluating on test.\n",
      "loss: 0.7061, binding energy/mae: 0.6200\n",
      "epoch: 4.0625, loss: 0.5411, binding energy/mae: 0.4752\n",
      "### Evaluating on val.\n",
      "loss: 0.5997, binding energy/mae: 0.5266\n",
      "### Evaluating on test.\n",
      "loss: 0.6071, binding energy/mae: 0.5331\n",
      "### Beginning training on GP.\n",
      "Number of devices: 1 -- Kernel partition size: 0\n",
      "Iter 1/1 - Loss: -0.273   lengthscale: 0.693   noise: 0.000\n",
      "Convergence reached!\n",
      "Finished training on 1000 data points using 1 GPUs.\n",
      "Iter 1/20 - Loss: -0.287   lengthscale: 0.693   noise: 0.000\n",
      "Convergence reached!\n",
      "Finished training on 1000 data points using 1 GPUs.\n"
     ]
    }
   ],
   "source": [
    "discoverer.simulate_discovery()"
   ]
  },
  {
   "cell_type": "code",
   "execution_count": null,
   "metadata": {},
   "outputs": [],
   "source": [
    "%debug"
   ]
  },
  {
   "cell_type": "code",
   "execution_count": 5,
   "metadata": {},
   "outputs": [],
   "source": [
    "# Or load the last run\n",
    "discoverer.load_last_run()"
   ]
  },
  {
   "cell_type": "markdown",
   "metadata": {},
   "source": [
    "## Analyze"
   ]
  },
  {
   "cell_type": "code",
   "execution_count": 8,
   "metadata": {},
   "outputs": [
    {
     "data": {
      "application/vnd.jupyter.widget-view+json": {
       "model_id": "5d001be229954fb1a92fbb1ad5d61d10",
       "version_major": 2,
       "version_minor": 0
      },
      "text/plain": [
       "HBox(children=(FloatProgress(value=0.0, description='calibration', max=39.0, style=ProgressStyle(description_w…"
      ]
     },
     "metadata": {},
     "output_type": "display_data"
    },
    {
     "name": "stdout",
     "output_type": "stream",
     "text": [
      "\n"
     ]
    },
    {
     "data": {
      "image/png": "[encoded data removed]",
      "text/plain": [
       "<Figure size 468x180 with 1 Axes>"
      ]
     },
     "metadata": {
      "needs_background": "light"
     },
     "output_type": "display_data"
    },
    {
     "data": {
      "image/png": "[encoded data removed]",
      "text/plain": [
       "<Figure size 468x180 with 1 Axes>"
      ]
     },
     "metadata": {
      "needs_background": "light"
     },
     "output_type": "display_data"
    },
    {
     "data": {
      "image/png": "[encoded data removed]",
      "text/plain": [
       "<Figure size 468x180 with 1 Axes>"
      ]
     },
     "metadata": {
      "needs_background": "light"
     },
     "output_type": "display_data"
    },
    {
     "data": {
      "image/png": "[encoded data removed]",
      "text/plain": [
       "<Figure size 468x180 with 1 Axes>"
      ]
     },
     "metadata": {
      "needs_background": "light"
     },
     "output_type": "display_data"
    },
    {
     "data": {
      "image/png": "[encoded data removed]",
      "text/plain": [
       "<Figure size 468x180 with 1 Axes>"
      ]
     },
     "metadata": {
      "needs_background": "light"
     },
     "output_type": "display_data"
    }
   ],
   "source": [
    "reward_fig, accuracy_fig, uncertainty_fig, calibration_fig, nll_fig = discoverer.plot_performance(window=100)"
   ]
  },
  {
   "cell_type": "code",
   "execution_count": null,
   "metadata": {},
   "outputs": [],
   "source": []
  }
 ],
 "metadata": {
  "kernelspec": {
   "display_name": "cat_acq",
   "language": "python",
   "name": "cat_acq"
  },
  "language_info": {
   "codemirror_mode": {
    "name": "ipython",
    "version": 3
   },
   "file_extension": ".py",
   "mimetype": "text/x-python",
   "name": "python",
   "nbconvert_exporter": "python",
   "pygments_lexer": "ipython3",
   "version": "3.7.6"
  }
 },
 "nbformat": 4,
 "nbformat_minor": 4
}
