{
 "cells": [
  {
   "cell_type": "markdown",
   "metadata": {},
   "source": [
    "# Pull"
   ]
  },
  {
   "cell_type": "code",
   "execution_count": 1,
   "metadata": {},
   "outputs": [
    {
     "name": "stderr",
     "output_type": "stream",
     "text": [
      "/home/GASpy/gaspy/defaults.py:293: UserWarning: You are using adsorption document filters for an adsorbate (None) that we have not yet established valid energy bounds for. We are accepting anything in therange between -50 and 50 eV.\n",
      "  UserWarning)\n",
      "0it [00:00, ?it/s]"
     ]
    },
    {
     "name": "stdout",
     "output_type": "stream",
     "text": [
      "Now pulling adsorption documents...\n"
     ]
    },
    {
     "name": "stderr",
     "output_type": "stream",
     "text": [
      "56533it [00:33, 1710.22it/s]\n"
     ]
    }
   ],
   "source": [
    "import random\n",
    "from gaspy.gasdb import get_adsorption_docs\n",
    "\n",
    "\n",
    "extra_projections = {'atoms': '$atoms',\n",
    "                     'results': '$results',\n",
    "                     'calc': '$calc'}\n",
    "docs = get_adsorption_docs(extra_projections=extra_projections)\n",
    "random.shuffle(docs)"
   ]
  },
  {
   "cell_type": "code",
   "execution_count": 2,
   "metadata": {},
   "outputs": [],
   "source": [
    "adsorbates = {'CO', 'H', 'OH'}"
   ]
  },
  {
   "cell_type": "markdown",
   "metadata": {},
   "source": [
    "# Save as `ase.db`\n",
    "For CFGP/MMS"
   ]
  },
  {
   "cell_type": "code",
   "execution_count": 7,
   "metadata": {},
   "outputs": [
    {
     "data": {
      "application/vnd.jupyter.widget-view+json": {
       "model_id": "820c22aeb40c4711a722153a189a74f5",
       "version_major": 2,
       "version_minor": 0
      },
      "text/plain": [
       "HBox(children=(FloatProgress(value=0.0, max=56475.0), HTML(value='')))"
      ]
     },
     "metadata": {},
     "output_type": "display_data"
    },
    {
     "name": "stdout",
     "output_type": "stream",
     "text": [
      "\n"
     ]
    }
   ],
   "source": [
    "from tqdm.notebook import tqdm\n",
    "import ase.db\n",
    "from gaspy.mongo import make_atoms_from_doc\n",
    "\n",
    "\n",
    "dbs = {ads: ase.db.connect(ads + '/%s.db' % ads) for ads in adsorbates}\n",
    "\n",
    "for doc in tqdm(docs):\n",
    "    ads = doc['adsorbate']\n",
    "    if ads in adsorbates:\n",
    "        atoms = make_atoms_from_doc(doc)\n",
    "        energy = doc['energy']\n",
    "        dbs[ads].write(atoms, adsorption_energy=energy)"
   ]
  },
  {
   "cell_type": "markdown",
   "metadata": {},
   "source": [
    "# Save as `doc`\n",
    "For TPOT heuristic"
   ]
  },
  {
   "cell_type": "code",
   "execution_count": 12,
   "metadata": {},
   "outputs": [],
   "source": [
    "import json\n",
    "import copy\n",
    "\n",
    "\n",
    "for ads in adsorbates:\n",
    "    _docs = [copy.deepcopy(doc) for doc in docs if doc['adsorbate'] == ads]\n",
    "    for doc in _docs:\n",
    "        del doc['atoms']\n",
    "        del doc['calc']\n",
    "        del doc['results']\n",
    "        del doc['mongo_id']\n",
    "    with open(ads + '/%s.json' % ads, 'w') as file_handle:\n",
    "        json.dump(_docs, file_handle)"
   ]
  },
  {
   "cell_type": "code",
   "execution_count": null,
   "metadata": {},
   "outputs": [],
   "source": []
  }
 ],
 "metadata": {
  "kernelspec": {
   "display_name": "gaspy",
   "language": "python",
   "name": "gaspy"
  },
  "language_info": {
   "codemirror_mode": {
    "name": "ipython",
    "version": 3
   },
   "file_extension": ".py",
   "mimetype": "text/x-python",
   "name": "python",
   "nbconvert_exporter": "python",
   "pygments_lexer": "ipython3",
   "version": "3.6.6"
  }
 },
 "nbformat": 4,
 "nbformat_minor": 4
}
