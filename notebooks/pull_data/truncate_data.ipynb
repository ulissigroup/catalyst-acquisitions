{
 "cells": [
  {
   "cell_type": "markdown",
   "metadata": {},
   "source": [
    "Our preliminary results show that the MMS + null model pairing works extraordinarily well. In fact, it works so well that we are having trouble believing it. We hypothesize that it does well because some bulks/surfaces in our dataset have very few sites. For example:\n",
    "- Say that one surface has one site, while a different surface has 20. During the Active Learning portion of MMS, we pick the surface with more uncertainty. If all sites are yet unsampled, then we will probably pick the surface with one site because it will have a wider uncertainty.\n",
    "- Now that the surface with one site is fully sampled, it contributes much less uncertainty to the value of the bulk. This bulk will now be much more certain than other, similar bulks.\n",
    "- Similarly, bulk with fewer surfaces are likely to have wider uncertainties and are therefore less likely to be chosen during the Level Set Estimation portion of MMS.\n",
    "\n",
    "This means than MMS may disproportionaly choose to sample materials with less sites. Which is not necessarily bad in practice, but in our hallucinations it becomes disproportionaly good at filling out a wide search space very quickly.\n",
    "\n",
    "To temper this exceedingly good performance, we hypothesize that removing bulks from the data set that have very few adsorption sites may mitigate this issue. To test this, we must first take out the bulks with few sites. Kirby did some offline testing and found that 40 is a good number to start with. So that's where we start."
   ]
  },
  {
   "cell_type": "code",
   "execution_count": 1,
   "metadata": {},
   "outputs": [],
   "source": [
    "adsorbates = {'CO', 'H', 'OH'}"
   ]
  },
  {
   "cell_type": "markdown",
   "metadata": {},
   "source": [
    "# Truncate bulks by n sites per bulk"
   ]
  },
  {
   "cell_type": "code",
   "execution_count": 12,
   "metadata": {},
   "outputs": [
    {
     "data": {
      "application/vnd.jupyter.widget-view+json": {
       "model_id": "17e5ea9e5f7e4df5903ac800a19c8e39",
       "version_major": 2,
       "version_minor": 0
      },
      "text/plain": [
       "HBox(children=(FloatProgress(value=0.0, description='Reading CO', max=19105.0, style=ProgressStyle(description…"
      ]
     },
     "metadata": {},
     "output_type": "display_data"
    },
    {
     "name": "stdout",
     "output_type": "stream",
     "text": [
      "\n"
     ]
    },
    {
     "data": {
      "application/vnd.jupyter.widget-view+json": {
       "model_id": "8ea27986af004d3b9d7a2345dc48c806",
       "version_major": 2,
       "version_minor": 0
      },
      "text/plain": [
       "HBox(children=(FloatProgress(value=0.0, description='Writing %s', max=19105.0, style=ProgressStyle(description…"
      ]
     },
     "metadata": {},
     "output_type": "display_data"
    },
    {
     "name": "stdout",
     "output_type": "stream",
     "text": [
      "\n"
     ]
    },
    {
     "data": {
      "application/vnd.jupyter.widget-view+json": {
       "model_id": "e21a0841ee67425d920254dc9eb26a98",
       "version_major": 2,
       "version_minor": 0
      },
      "text/plain": [
       "HBox(children=(FloatProgress(value=0.0, description='Reading OH', max=4193.0, style=ProgressStyle(description_…"
      ]
     },
     "metadata": {},
     "output_type": "display_data"
    },
    {
     "name": "stdout",
     "output_type": "stream",
     "text": [
      "\n"
     ]
    },
    {
     "data": {
      "application/vnd.jupyter.widget-view+json": {
       "model_id": "0f6592553a8346dda8de78d3525c37e9",
       "version_major": 2,
       "version_minor": 0
      },
      "text/plain": [
       "HBox(children=(FloatProgress(value=0.0, description='Writing %s', max=4193.0, style=ProgressStyle(description_…"
      ]
     },
     "metadata": {},
     "output_type": "display_data"
    },
    {
     "name": "stdout",
     "output_type": "stream",
     "text": [
      "\n"
     ]
    },
    {
     "data": {
      "application/vnd.jupyter.widget-view+json": {
       "model_id": "ae4c2d83b95044b39eac0e0945351d8d",
       "version_major": 2,
       "version_minor": 0
      },
      "text/plain": [
       "HBox(children=(FloatProgress(value=0.0, description='Reading H', max=22694.0, style=ProgressStyle(description_…"
      ]
     },
     "metadata": {},
     "output_type": "display_data"
    },
    {
     "name": "stdout",
     "output_type": "stream",
     "text": [
      "\n"
     ]
    },
    {
     "data": {
      "application/vnd.jupyter.widget-view+json": {
       "model_id": "99b3987adbb7420ca96a2747aade99b5",
       "version_major": 2,
       "version_minor": 0
      },
      "text/plain": [
       "HBox(children=(FloatProgress(value=0.0, description='Writing %s', max=22694.0, style=ProgressStyle(description…"
      ]
     },
     "metadata": {},
     "output_type": "display_data"
    },
    {
     "name": "stdout",
     "output_type": "stream",
     "text": [
      "\n"
     ]
    }
   ],
   "source": [
    "from collections import defaultdict\n",
    "from tqdm.notebook import tqdm\n",
    "import ase.db\n",
    "\n",
    "\n",
    "min_sites = 40\n",
    "dbs = {ads: ase.db.connect(ads + '/%s.db' % ads) for ads in adsorbates}\n",
    "\n",
    "# Initialize\n",
    "for ads, db in dbs.items():\n",
    "    sites_per_mpid = defaultdict(int)\n",
    "    atomss = []\n",
    "    docs = []\n",
    "\n",
    "    # Count the number of sites per MPID\n",
    "    for row in tqdm(db.select(), desc='Reading %s' % ads, total=db.count()):\n",
    "        sites_per_mpid[row.data['mpid']] += 1\n",
    "\n",
    "        # Rip the data out\n",
    "        atomss.append(row.toatoms())\n",
    "        docs.append(row.data)\n",
    "\n",
    "    # Re-save the databases with sufficient numbers of sites\n",
    "    good_mpids = {mpid for mpid, n_sites in sites_per_mpid.items() if n_sites >= min_sites}\n",
    "    new_db = ase.db.connect(ads + '_truncated/%s.db' % ads)\n",
    "    for atoms, doc in tqdm(zip(atomss, docs), desc='Writing %s' % ads, total=len(docs)):\n",
    "        if doc['mpid'] in good_mpids:\n",
    "            new_db.write(atoms, data=doc)"
   ]
  },
  {
   "cell_type": "markdown",
   "metadata": {},
   "source": [
    "# Truncate bulks by n sites per surfaces per bulk\n",
    "If there are too many surfaces per bulk, then this same issue might still be affecting us, but at the surface/bulk level instead of the site/surface level. Let us first see how bad this issue is by plotting the number of sites per surface per bulk."
   ]
  },
  {
   "cell_type": "code",
   "execution_count": 17,
   "metadata": {},
   "outputs": [
    {
     "data": {
      "application/vnd.jupyter.widget-view+json": {
       "model_id": "",
       "version_major": 2,
       "version_minor": 0
      },
      "text/plain": [
       "HBox(children=(FloatProgress(value=0.0, description='parsing', max=19105.0, style=ProgressStyle(description_wi…"
      ]
     },
     "metadata": {},
     "output_type": "display_data"
    },
    {
     "name": "stdout",
     "output_type": "stream",
     "text": [
      "\n"
     ]
    }
   ],
   "source": [
    "from tqdm.notebook import tqdm\n",
    "import ase.db\n",
    "\n",
    "\n",
    "# Grab data\n",
    "adsorbate = 'CO'\n",
    "db = ase.db.connect(adsorbate + '/%s.db' % adsorbate)\n",
    "\n",
    "# Parse the data\n",
    "sites_per_bulk_per_surface = {}\n",
    "for row in tqdm(db.select(), desc='parsing', total=db.count()):\n",
    "    data = row.data\n",
    "    mpid = data['mpid']\n",
    "    surface = tuple(data['miller'].tolist())\n",
    "\n",
    "    # Find or initialize the sites per surface dict\n",
    "    try:\n",
    "        sites_per_surface = sites_per_bulk_per_surface[mpid]\n",
    "    except KeyError:\n",
    "        sites_per_bulk_per_surface[mpid] = {}\n",
    "        sites_per_surface = sites_per_bulk_per_surface[mpid]\n",
    "\n",
    "    # Increment or initialize the count of sites per surface\n",
    "    try:\n",
    "        sites_per_surface[surface] += 1\n",
    "    except KeyError:\n",
    "        sites_per_surface[surface] = 1"
   ]
  },
  {
   "cell_type": "code",
   "execution_count": 33,
   "metadata": {},
   "outputs": [
    {
     "data": {
      "image/png": "[encoded data removed]",
      "text/plain": [
       "<Figure size 432x288 with 1 Axes>"
      ]
     },
     "metadata": {
      "needs_background": "light"
     },
     "output_type": "display_data"
    }
   ],
   "source": [
    "import numpy as np\n",
    "import seaborn as sns\n",
    "\n",
    "\n",
    "mean_sites_per_surface_per_bulk = {mpid: np.array(list(sites_per_surface.values())).mean()\n",
    "                                   for mpid, sites_per_surface in sites_per_bulk_per_surface.items()}\n",
    "\n",
    "ax = sns.distplot(list(mean_sites_per_surface_per_bulk.values()), kde=False)\n",
    "_ = ax.set_xlabel('Average # of sites per surface')\n",
    "_ = ax.set_ylabel('# of bulks')\n",
    "_ = ax.set_xlim([0, 10])"
   ]
  },
  {
   "cell_type": "code",
   "execution_count": 42,
   "metadata": {},
   "outputs": [
    {
     "data": {
      "image/png": "[encoded data removed]",
      "text/plain": [
       "<Figure size 432x288 with 1 Axes>"
      ]
     },
     "metadata": {
      "needs_background": "light"
     },
     "output_type": "display_data"
    }
   ],
   "source": [
    "import numpy as np\n",
    "import seaborn as sns\n",
    "\n",
    "\n",
    "n_sites_per_surface = [n_sites\n",
    "                       for sites_per_surface in sites_per_bulk_per_surface.values()\n",
    "                       for n_sites in sites_per_surface.values()]\n",
    "\n",
    "ax = sns.distplot(n_sites_per_surface, kde=False, bins=range(0, 12))\n",
    "_ = ax.set_xlabel('# of sites')\n",
    "_ = ax.set_ylabel('# of surfaces')\n",
    "_ = ax.set_xlim([0, 10])"
   ]
  },
  {
   "cell_type": "code",
   "execution_count": 35,
   "metadata": {},
   "outputs": [
    {
     "data": {
      "image/png": "[encoded data removed]",
      "text/plain": [
       "<Figure size 432x288 with 1 Axes>"
      ]
     },
     "metadata": {
      "needs_background": "light"
     },
     "output_type": "display_data"
    }
   ],
   "source": [
    "import numpy as np\n",
    "import seaborn as sns\n",
    "\n",
    "\n",
    "surfaces_per_bulk = {mpid: len(sites_per_surface.keys())\n",
    "                     for mpid, sites_per_surface in sites_per_bulk_per_surface.items()}\n",
    "\n",
    "ax = sns.distplot(list(surfaces_per_bulk.values()), kde=False)\n",
    "_ = ax.set_xlabel('# of surfaces')\n",
    "_ = ax.set_ylabel('# of bulks')"
   ]
  },
  {
   "cell_type": "markdown",
   "metadata": {},
   "source": [
    "# Truncate bulks by n sites per surfaces per bulk... AND by # sites per bulk\n",
    "The plots in the section just above don't look the best. Seems like most bulks have une surface and most surfaces have one site. Looks like we need to truncate by # sites per bulk. But can we combine both truncation and pooling?\n",
    "\n",
    "To do this, we first figure out which MPID's have sufficient data"
   ]
  },
  {
   "cell_type": "code",
   "execution_count": 46,
   "metadata": {},
   "outputs": [
    {
     "data": {
      "application/vnd.jupyter.widget-view+json": {
       "model_id": "eb9812d1dfa6415da11c90893f652332",
       "version_major": 2,
       "version_minor": 0
      },
      "text/plain": [
       "HBox(children=(FloatProgress(value=0.0, max=19105.0), HTML(value='')))"
      ]
     },
     "metadata": {},
     "output_type": "display_data"
    },
    {
     "name": "stdout",
     "output_type": "stream",
     "text": [
      "\n"
     ]
    }
   ],
   "source": [
    "from tqdm.notebook import tqdm\n",
    "import ase.db\n",
    "\n",
    "\n",
    "# Grab data\n",
    "min_sites = 40\n",
    "adsorbate = 'CO'\n",
    "db = ase.db.connect(adsorbate + '/%s.db' % adsorbate)\n",
    "\n",
    "# Count the number of sites per MPID\n",
    "sites_per_mpid = defaultdict(int)\n",
    "for row in tqdm(db.select(), total=db.count()):\n",
    "    sites_per_mpid[row.data['mpid']] += 1\n",
    "\n",
    "# Identify good MPIDs\n",
    "good_mpids = {mpid for mpid, n_sites in sites_per_mpid.items() if n_sites >= min_sites}"
   ]
  },
  {
   "cell_type": "code",
   "execution_count": 47,
   "metadata": {},
   "outputs": [
    {
     "data": {
      "application/vnd.jupyter.widget-view+json": {
       "model_id": "4ebb96430f0045569d770c66afe864d9",
       "version_major": 2,
       "version_minor": 0
      },
      "text/plain": [
       "HBox(children=(FloatProgress(value=0.0, description='parsing', max=19105.0, style=ProgressStyle(description_wi…"
      ]
     },
     "metadata": {},
     "output_type": "display_data"
    },
    {
     "name": "stdout",
     "output_type": "stream",
     "text": [
      "\n"
     ]
    }
   ],
   "source": [
    "from tqdm.notebook import tqdm\n",
    "import ase.db\n",
    "\n",
    "\n",
    "# Grab data\n",
    "adsorbate = 'CO'\n",
    "db = ase.db.connect(adsorbate + '/%s.db' % adsorbate)\n",
    "\n",
    "# Parse the data\n",
    "sites_per_bulk_per_surface = {}\n",
    "for row in tqdm(db.select(), desc='parsing', total=db.count()):\n",
    "    data = row.data\n",
    "    mpid = data['mpid']\n",
    "    \n",
    "    # Only take data from \"the good ones\"\n",
    "    if mpid in good_mpids:\n",
    "        surface = tuple(data['miller'].tolist())\n",
    "\n",
    "        # Find or initialize the sites per surface dict\n",
    "        try:\n",
    "            sites_per_surface = sites_per_bulk_per_surface[mpid]\n",
    "        except KeyError:\n",
    "            sites_per_bulk_per_surface[mpid] = {}\n",
    "            sites_per_surface = sites_per_bulk_per_surface[mpid]\n",
    "\n",
    "        # Increment or initialize the count of sites per surface\n",
    "        try:\n",
    "            sites_per_surface[surface] += 1\n",
    "        except KeyError:\n",
    "            sites_per_surface[surface] = 1"
   ]
  },
  {
   "cell_type": "code",
   "execution_count": 51,
   "metadata": {},
   "outputs": [
    {
     "data": {
      "image/png": "[encoded data removed]",
      "text/plain": [
       "<Figure size 432x288 with 1 Axes>"
      ]
     },
     "metadata": {
      "needs_background": "light"
     },
     "output_type": "display_data"
    }
   ],
   "source": [
    "import numpy as np\n",
    "import seaborn as sns\n",
    "\n",
    "\n",
    "mean_sites_per_surface_per_bulk = {mpid: np.array(list(sites_per_surface.values())).mean()\n",
    "                                   for mpid, sites_per_surface in sites_per_bulk_per_surface.items()}\n",
    "\n",
    "ax = sns.distplot(list(mean_sites_per_surface_per_bulk.values()), kde=False)\n",
    "_ = ax.set_xlabel('Average # of sites per surface')\n",
    "_ = ax.set_ylabel('# of bulks')\n",
    "#_ = ax.set_xlim([0, 10])"
   ]
  },
  {
   "cell_type": "code",
   "execution_count": 53,
   "metadata": {},
   "outputs": [
    {
     "data": {
      "image/png": "[encoded data removed]",
      "text/plain": [
       "<Figure size 432x288 with 1 Axes>"
      ]
     },
     "metadata": {
      "needs_background": "light"
     },
     "output_type": "display_data"
    }
   ],
   "source": [
    "import numpy as np\n",
    "import seaborn as sns\n",
    "\n",
    "\n",
    "n_sites_per_surface = [n_sites\n",
    "                       for sites_per_surface in sites_per_bulk_per_surface.values()\n",
    "                       for n_sites in sites_per_surface.values()]\n",
    "\n",
    "ax = sns.distplot(n_sites_per_surface, kde=False, bins=range(0, 51))\n",
    "_ = ax.set_xlabel('# of sites')\n",
    "_ = ax.set_ylabel('# of surfaces')\n",
    "_ = ax.set_xlim([0, 50])"
   ]
  },
  {
   "cell_type": "code",
   "execution_count": 54,
   "metadata": {},
   "outputs": [
    {
     "data": {
      "image/png": "[encoded data removed]",
      "text/plain": [
       "<Figure size 432x288 with 1 Axes>"
      ]
     },
     "metadata": {
      "needs_background": "light"
     },
     "output_type": "display_data"
    }
   ],
   "source": [
    "import numpy as np\n",
    "import seaborn as sns\n",
    "\n",
    "\n",
    "surfaces_per_bulk = {mpid: len(sites_per_surface.keys())\n",
    "                     for mpid, sites_per_surface in sites_per_bulk_per_surface.items()}\n",
    "\n",
    "ax = sns.distplot(list(surfaces_per_bulk.values()), kde=False)\n",
    "_ = ax.set_xlabel('# of surfaces')\n",
    "_ = ax.set_ylabel('# of bulks')"
   ]
  },
  {
   "cell_type": "code",
   "execution_count": 57,
   "metadata": {},
   "outputs": [
    {
     "data": {
      "text/plain": [
       "106"
      ]
     },
     "execution_count": 57,
     "metadata": {},
     "output_type": "execute_result"
    }
   ],
   "source": [
    "len(good_mpids)"
   ]
  },
  {
   "cell_type": "code",
   "execution_count": 58,
   "metadata": {},
   "outputs": [
    {
     "data": {
      "text/plain": [
       "773"
      ]
     },
     "execution_count": 58,
     "metadata": {},
     "output_type": "execute_result"
    }
   ],
   "source": [
    "surfaces = {(mpid, miller)\n",
    "            for mpid, sites_per_surface in sites_per_bulk_per_surface.items()\n",
    "            for miller in sites_per_surface.keys()}\n",
    "len(surfaces)"
   ]
  },
  {
   "cell_type": "code",
   "execution_count": null,
   "metadata": {},
   "outputs": [],
   "source": []
  }
 ],
 "metadata": {
  "kernelspec": {
   "display_name": "Python 3",
   "language": "python",
   "name": "python3"
  },
  "language_info": {
   "codemirror_mode": {
    "name": "ipython",
    "version": 3
   },
   "file_extension": ".py",
   "mimetype": "text/x-python",
   "name": "python",
   "nbconvert_exporter": "python",
   "pygments_lexer": "ipython3",
   "version": "3.7.8"
  }
 },
 "nbformat": 4,
 "nbformat_minor": 4
}
