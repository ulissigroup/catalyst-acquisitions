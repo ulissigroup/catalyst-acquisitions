{
 "cells": [
  {
   "cell_type": "markdown",
   "metadata": {},
   "source": [
    "Our preliminary results show that the MMS + null model pairing works extraordinarily well. In fact, it works so well that we are having trouble believing it. We hypothesize that it does well because some bulks/surfaces in our dataset have very few sites. For example:\n",
    "- Say that one surface has one site, while a different surface has 20. During the Active Learning portion of MMS, we pick the surface with more uncertainty. If all sites are yet unsampled, then we will probably pick the surface with one site because it will have a wider uncertainty.\n",
    "- Now that the surface with one site is fully sampled, it contributes much less uncertainty to the value of the bulk. This bulk will now be much more certain than other, similar bulks.\n",
    "- Similarly, bulk with fewer surfaces are likely to have wider uncertainties and are therefore less likely to be chosen during the Level Set Estimation portion of MMS.\n",
    "\n",
    "This means than MMS may disproportionaly choose to sample materials with less sites. Which is not necessarily bad in practice, but in our hallucinations it becomes disproportionaly good at filling out a wide search space very quickly.\n",
    "\n",
    "To temper this exceedingly good performance, we hypothesize that removing bulks from the data set that have very few adsorption sites may mitigate this issue. To test this, we must first take out the bulk with few sites. Kirby did some offline testing and found that 40 is a good number to start with. So that's where we start."
   ]
  },
  {
   "cell_type": "code",
   "execution_count": 1,
   "metadata": {},
   "outputs": [],
   "source": [
    "adsorbates = {'CO', 'H', 'OH'}"
   ]
  },
  {
   "cell_type": "code",
   "execution_count": 12,
   "metadata": {},
   "outputs": [
    {
     "data": {
      "application/vnd.jupyter.widget-view+json": {
       "model_id": "17e5ea9e5f7e4df5903ac800a19c8e39",
       "version_major": 2,
       "version_minor": 0
      },
      "text/plain": [
       "HBox(children=(FloatProgress(value=0.0, description='Reading CO', max=19105.0, style=ProgressStyle(description…"
      ]
     },
     "metadata": {},
     "output_type": "display_data"
    },
    {
     "name": "stdout",
     "output_type": "stream",
     "text": [
      "\n"
     ]
    },
    {
     "data": {
      "application/vnd.jupyter.widget-view+json": {
       "model_id": "8ea27986af004d3b9d7a2345dc48c806",
       "version_major": 2,
       "version_minor": 0
      },
      "text/plain": [
       "HBox(children=(FloatProgress(value=0.0, description='Writing %s', max=19105.0, style=ProgressStyle(description…"
      ]
     },
     "metadata": {},
     "output_type": "display_data"
    },
    {
     "name": "stdout",
     "output_type": "stream",
     "text": [
      "\n"
     ]
    },
    {
     "data": {
      "application/vnd.jupyter.widget-view+json": {
       "model_id": "e21a0841ee67425d920254dc9eb26a98",
       "version_major": 2,
       "version_minor": 0
      },
      "text/plain": [
       "HBox(children=(FloatProgress(value=0.0, description='Reading OH', max=4193.0, style=ProgressStyle(description_…"
      ]
     },
     "metadata": {},
     "output_type": "display_data"
    },
    {
     "name": "stdout",
     "output_type": "stream",
     "text": [
      "\n"
     ]
    },
    {
     "data": {
      "application/vnd.jupyter.widget-view+json": {
       "model_id": "0f6592553a8346dda8de78d3525c37e9",
       "version_major": 2,
       "version_minor": 0
      },
      "text/plain": [
       "HBox(children=(FloatProgress(value=0.0, description='Writing %s', max=4193.0, style=ProgressStyle(description_…"
      ]
     },
     "metadata": {},
     "output_type": "display_data"
    },
    {
     "name": "stdout",
     "output_type": "stream",
     "text": [
      "\n"
     ]
    },
    {
     "data": {
      "application/vnd.jupyter.widget-view+json": {
       "model_id": "ae4c2d83b95044b39eac0e0945351d8d",
       "version_major": 2,
       "version_minor": 0
      },
      "text/plain": [
       "HBox(children=(FloatProgress(value=0.0, description='Reading H', max=22694.0, style=ProgressStyle(description_…"
      ]
     },
     "metadata": {},
     "output_type": "display_data"
    },
    {
     "name": "stdout",
     "output_type": "stream",
     "text": [
      "\n"
     ]
    },
    {
     "data": {
      "application/vnd.jupyter.widget-view+json": {
       "model_id": "99b3987adbb7420ca96a2747aade99b5",
       "version_major": 2,
       "version_minor": 0
      },
      "text/plain": [
       "HBox(children=(FloatProgress(value=0.0, description='Writing %s', max=22694.0, style=ProgressStyle(description…"
      ]
     },
     "metadata": {},
     "output_type": "display_data"
    },
    {
     "name": "stdout",
     "output_type": "stream",
     "text": [
      "\n"
     ]
    }
   ],
   "source": [
    "from collections import defaultdict\n",
    "from tqdm.notebook import tqdm\n",
    "import ase.db\n",
    "\n",
    "\n",
    "min_sites = 40\n",
    "dbs = {ads: ase.db.connect(ads + '/%s.db' % ads) for ads in adsorbates}\n",
    "\n",
    "# Initialize\n",
    "for ads, db in dbs.items():\n",
    "    sites_per_mpid = defaultdict(int)\n",
    "    atomss = []\n",
    "    docs = []\n",
    "    \n",
    "    # Count the number of sites per MPID\n",
    "    for row in tqdm(db.select(), desc='Reading %s' % ads, total=db.count()):\n",
    "        sites_per_mpid[row.data['mpid']] += 1\n",
    "\n",
    "        # Rip the data out\n",
    "        atomss.append(row.toatoms())\n",
    "        docs.append(row.data)\n",
    "\n",
    "    # Re-save the databases with sufficient numbers of sites\n",
    "    good_mpids = {mpid for mpid, n_sites in sites_per_mpid.items() if n_sites >= min_sites}\n",
    "    new_db = ase.db.connect(ads + '_truncated/%s.db' % ads)\n",
    "    for atoms, doc in tqdm(zip(atomss, docs), desc='Writing %s' % ads, total=len(docs)):\n",
    "        if doc['mpid'] in good_mpids:\n",
    "            new_db.write(atoms, data=doc)"
   ]
  },
  {
   "cell_type": "code",
   "execution_count": null,
   "metadata": {},
   "outputs": [],
   "source": []
  }
 ],
 "metadata": {
  "kernelspec": {
   "display_name": "Python 3",
   "language": "python",
   "name": "python3"
  },
  "language_info": {
   "codemirror_mode": {
    "name": "ipython",
    "version": 3
   },
   "file_extension": ".py",
   "mimetype": "text/x-python",
   "name": "python",
   "nbconvert_exporter": "python",
   "pygments_lexer": "ipython3",
   "version": "3.7.8"
  }
 },
 "nbformat": 4,
 "nbformat_minor": 4
}
