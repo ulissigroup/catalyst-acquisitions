{
 "cells": [
  {
   "cell_type": "code",
   "execution_count": 1,
   "metadata": {},
   "outputs": [
    {
     "name": "stderr",
     "output_type": "stream",
     "text": [
      "/opt/conda/lib/python3.7/site-packages/IPython/config.py:13: ShimWarning: The `IPython.config` package has been deprecated since IPython 4.0. You should import from traitlets.config instead.\n",
      "  \"You should import from traitlets.config instead.\", ShimWarning)\n",
      "/opt/conda/lib/python3.7/site-packages/ipycache.py:17: UserWarning: IPython.utils.traitlets has moved to a top-level traitlets package.\n",
      "  from IPython.utils.traitlets import Unicode\n"
     ]
    }
   ],
   "source": [
    "%load_ext ipycache\n",
    "%load_ext autoreload\n",
    "%autoreload 2"
   ]
  },
  {
   "cell_type": "markdown",
   "metadata": {},
   "source": [
    "# Initialization\n",
    "## Hyperparameters for discovery"
   ]
  },
  {
   "cell_type": "code",
   "execution_count": 2,
   "metadata": {},
   "outputs": [],
   "source": [
    "adsorbate = 'CO'\n",
    "target_energy = -0.67\n",
    "initial_training_size = 200\n",
    "batch_size = 200\n",
    "quantile_cutoff = 0.95"
   ]
  },
  {
   "cell_type": "markdown",
   "metadata": {},
   "source": [
    "## Gather validation data"
   ]
  },
  {
   "cell_type": "code",
   "execution_count": 3,
   "metadata": {},
   "outputs": [],
   "source": [
    "import random\n",
    "import ase.db\n",
    "\n",
    "\n",
    "db_dir = '../../pull_data/%s/' % adsorbate\n",
    "db = ase.db.connect(db_dir + '%s.db' % adsorbate)\n",
    "rows = list(db.select())\n",
    "random.Random(42).shuffle(rows)\n",
    "\n",
    "\n",
    "def parse_rows(rows):\n",
    "    features = []\n",
    "    labels = []\n",
    "    surfaces = []\n",
    "\n",
    "    for row in rows:\n",
    "        features.append(row.id)\n",
    "        data = row.data\n",
    "        labels.append(data['adsorption_energy'])\n",
    "        surface = (data['mpid'], data['miller'], data['shift'], data['top'])\n",
    "        surfaces.append(surface)\n",
    "\n",
    "    return features, labels, surfaces\n",
    "\n",
    "\n",
    "training_features, training_labels, training_surfaces = parse_rows(rows[:initial_training_size])\n",
    "sampling_features, sampling_labels, sampling_surfaces = parse_rows(rows[initial_training_size:])"
   ]
  },
  {
   "cell_type": "markdown",
   "metadata": {},
   "source": [
    "# Hallucinate\n",
    "## Initialize"
   ]
  },
  {
   "cell_type": "code",
   "execution_count": 4,
   "metadata": {
    "scrolled": true
   },
   "outputs": [
    {
     "name": "stdout",
     "output_type": "stream",
     "text": [
      "### Loaded preprocessed data from:  ['../../pull_data/CO/data.pt']\n",
      "cmd:\n",
      "  checkpoint_dir: /home/jovyan/catalyst-acquisitions/notebooks/MMS/CFGP/checkpoints/2020-08-26-18-51-39-cnn\n",
      "  identifier: cnn\n",
      "  logs_dir: /home/jovyan/catalyst-acquisitions/notebooks/MMS/CFGP/logs/tensorboard/2020-08-26-18-51-39-cnn\n",
      "  print_every: 100\n",
      "  results_dir: /home/jovyan/catalyst-acquisitions/notebooks/MMS/CFGP/results/2020-08-26-18-51-39-cnn\n",
      "  seed: null\n",
      "  timestamp: 2020-08-26-18-51-39-cnn\n",
      "dataset:\n",
      "  src: ../../pull_data/CO/\n",
      "  test_size: 0\n",
      "  train_size: 200\n",
      "  val_size: 0\n",
      "logger: tensorboard\n",
      "model: cgcnn\n",
      "model_attributes:\n",
      "  atom_embedding_size: 64\n",
      "  fc_feat_size: 128\n",
      "  num_fc_layers: 4\n",
      "  num_graph_conv_layers: 6\n",
      "  regress_forces: false\n",
      "optim:\n",
      "  batch_size: 64\n",
      "  lr_gamma: 0.1\n",
      "  lr_initial: 0.001\n",
      "  lr_milestones:\n",
      "  - 25\n",
      "  - 45\n",
      "  max_epochs: 50\n",
      "  num_gpus: 2\n",
      "  warmup_epochs: 10\n",
      "  warmup_factor: 0.2\n",
      "task:\n",
      "  dataset: gasdb\n",
      "  description: Regression of DFT calculated binding energes\n",
      "  labels:\n",
      "  - binding energy\n",
      "  metric: mae\n",
      "  type: regression\n",
      "\n",
      "### Loading dataset: gasdb\n",
      "### Loaded preprocessed data from:  ['../../pull_data/CO/data.pt']\n",
      "### Loading model: cgcnn\n",
      "### Loaded CGCNN with 203713 parameters.\n",
      "NOTE: model gradient logging to tensorboard not yet supported.\n",
      "### Loaded preprocessed data from:  ['../../pull_data/CO/data.pt']\n",
      "Planning to run on 2 GPUs.\n",
      "### Beginning training on convolutional network.\n",
      "epoch: 0.2500, loss: 0.6698, binding energy/mae: 0.4853\n",
      "epoch: 1.2500, loss: 0.7783, binding energy/mae: 0.5640\n",
      "epoch: 2.2500, loss: 0.7138, binding energy/mae: 0.5172\n",
      "epoch: 3.2500, loss: 0.6869, binding energy/mae: 0.4977\n",
      "epoch: 4.2500, loss: 0.6815, binding energy/mae: 0.4938\n",
      "epoch: 5.2500, loss: 0.6911, binding energy/mae: 0.5008\n",
      "epoch: 6.2500, loss: 0.6752, binding energy/mae: 0.4893\n",
      "epoch: 7.2500, loss: 0.6716, binding energy/mae: 0.4867\n",
      "epoch: 8.2500, loss: 0.6732, binding energy/mae: 0.4878\n",
      "epoch: 9.2500, loss: 0.6656, binding energy/mae: 0.4823\n",
      "epoch: 10.2500, loss: 0.6263, binding energy/mae: 0.4538\n",
      "epoch: 11.2500, loss: 0.6001, binding energy/mae: 0.4348\n",
      "epoch: 12.2500, loss: 0.5884, binding energy/mae: 0.4263\n",
      "epoch: 13.2500, loss: 0.5566, binding energy/mae: 0.4033\n",
      "epoch: 14.2500, loss: 0.5360, binding energy/mae: 0.3884\n",
      "epoch: 15.2500, loss: 0.5270, binding energy/mae: 0.3819\n",
      "epoch: 16.2500, loss: 0.5060, binding energy/mae: 0.3667\n",
      "epoch: 17.2500, loss: 0.4814, binding energy/mae: 0.3488\n",
      "epoch: 18.2500, loss: 0.4892, binding energy/mae: 0.3545\n",
      "epoch: 19.2500, loss: 0.4629, binding energy/mae: 0.3354\n",
      "epoch: 20.2500, loss: 0.4534, binding energy/mae: 0.3285\n",
      "epoch: 21.2500, loss: 0.4462, binding energy/mae: 0.3233\n",
      "epoch: 22.2500, loss: 0.4560, binding energy/mae: 0.3304\n",
      "epoch: 23.2500, loss: 0.4511, binding energy/mae: 0.3269\n",
      "epoch: 24.2500, loss: 0.4845, binding energy/mae: 0.3511\n",
      "epoch: 25.2500, loss: 0.4952, binding energy/mae: 0.3588\n",
      "epoch: 26.2500, loss: 0.4915, binding energy/mae: 0.3561\n",
      "epoch: 27.2500, loss: 0.4727, binding energy/mae: 0.3425\n",
      "epoch: 28.2500, loss: 0.4613, binding energy/mae: 0.3343\n",
      "epoch: 29.2500, loss: 0.4261, binding energy/mae: 0.3087\n",
      "epoch: 30.2500, loss: 0.4109, binding energy/mae: 0.2977\n",
      "epoch: 31.2500, loss: 0.4166, binding energy/mae: 0.3019\n",
      "epoch: 32.2500, loss: 0.4140, binding energy/mae: 0.3000\n",
      "epoch: 33.2500, loss: 0.4096, binding energy/mae: 0.2968\n",
      "epoch: 34.2500, loss: 0.4172, binding energy/mae: 0.3023\n",
      "epoch: 35.2500, loss: 0.4220, binding energy/mae: 0.3058\n",
      "epoch: 36.2500, loss: 0.4067, binding energy/mae: 0.2947\n",
      "epoch: 37.2500, loss: 0.4091, binding energy/mae: 0.2964\n",
      "epoch: 38.2500, loss: 0.4124, binding energy/mae: 0.2988\n",
      "epoch: 39.2500, loss: 0.4069, binding energy/mae: 0.2948\n",
      "epoch: 40.2500, loss: 0.4016, binding energy/mae: 0.2910\n",
      "epoch: 41.2500, loss: 0.4027, binding energy/mae: 0.2918\n",
      "epoch: 42.2500, loss: 0.4238, binding energy/mae: 0.3071\n",
      "epoch: 43.2500, loss: 0.4234, binding energy/mae: 0.3068\n",
      "epoch: 44.2500, loss: 0.4332, binding energy/mae: 0.3139\n",
      "epoch: 45.2500, loss: 0.4238, binding energy/mae: 0.3071\n",
      "epoch: 46.2500, loss: 0.4050, binding energy/mae: 0.2935\n",
      "epoch: 47.2500, loss: 0.3919, binding energy/mae: 0.2840\n",
      "epoch: 48.2500, loss: 0.3801, binding energy/mae: 0.2754\n",
      "epoch: 49.2500, loss: 0.3639, binding energy/mae: 0.2637\n",
      "### Beginning training on GP.\n",
      "Number of devices: 2 -- Kernel partition size: 0\n"
     ]
    },
    {
     "name": "stderr",
     "output_type": "stream",
     "text": [
      "/opt/conda/conda-bld/pytorch_1591914880026/work/torch/csrc/utils/python_arg_parser.cpp:756: UserWarning: This overload of add_ is deprecated:\n",
      "\tadd_(Number alpha, Tensor other)\n",
      "Consider using one of the following signatures instead:\n",
      "\tadd_(Tensor other, *, Number alpha)\n"
     ]
    },
    {
     "name": "stdout",
     "output_type": "stream",
     "text": [
      "Iter 1/1 - Loss: 1.261   lengthscale: 0.705   noise: 0.672\n",
      "Finished training on 200 data points using 2 GPUs.\n",
      "Iter 1/100 - Loss: 1.261   lengthscale: 0.705   noise: 0.672\n",
      "Iter 2/100 - Loss: 1.176   lengthscale: 0.724   noise: 0.602\n",
      "Iter 3/100 - Loss: 1.124   lengthscale: 0.741   noise: 0.544\n",
      "Iter 4/100 - Loss: 1.069   lengthscale: 0.768   noise: 0.477\n",
      "Iter 5/100 - Loss: 1.016   lengthscale: 0.810   noise: 0.408\n",
      "Iter 6/100 - Loss: 0.967   lengthscale: 0.870   noise: 0.345\n",
      "Iter 7/100 - Loss: 0.916   lengthscale: 0.958   noise: 0.285\n"
     ]
    },
    {
     "ename": "RuntimeError",
     "evalue": "graph_task->future_result_->completed() INTERNAL ASSERT FAILED at /opt/conda/conda-bld/pytorch_1591914880026/work/torch/csrc/autograd/engine.cpp:800, please report a bug to PyTorch. ",
     "output_type": "error",
     "traceback": [
      "\u001b[0;31m---------------------------------------------------------------------------\u001b[0m",
      "\u001b[0;31mRuntimeError\u001b[0m                              Traceback (most recent call last)",
      "\u001b[0;32m<ipython-input-4-fe6d9c68490f>\u001b[0m in \u001b[0;36m<module>\u001b[0;34m\u001b[0m\n\u001b[1;32m     23\u001b[0m                                   \u001b[0msampling_features\u001b[0m\u001b[0;34m=\u001b[0m\u001b[0msampling_features\u001b[0m\u001b[0;34m,\u001b[0m\u001b[0;34m\u001b[0m\u001b[0;34m\u001b[0m\u001b[0m\n\u001b[1;32m     24\u001b[0m                                   \u001b[0msampling_labels\u001b[0m\u001b[0;34m=\u001b[0m\u001b[0msampling_labels\u001b[0m\u001b[0;34m,\u001b[0m\u001b[0;34m\u001b[0m\u001b[0;34m\u001b[0m\u001b[0m\n\u001b[0;32m---> 25\u001b[0;31m                                   \u001b[0msampling_surfaces\u001b[0m\u001b[0;34m=\u001b[0m\u001b[0msampling_surfaces\u001b[0m\u001b[0;34m,\u001b[0m\u001b[0;34m\u001b[0m\u001b[0;34m\u001b[0m\u001b[0m\n\u001b[0m\u001b[1;32m     26\u001b[0m                                   \u001b[0;31m#init_train=False  # Set to `False` only for warm starts\u001b[0m\u001b[0;34m\u001b[0m\u001b[0;34m\u001b[0m\u001b[0;34m\u001b[0m\u001b[0m\n\u001b[1;32m     27\u001b[0m                                  )\n",
      "\u001b[0;32m~/catalyst-acquisitions/src/discoverers/adsorption/base.py\u001b[0m in \u001b[0;36m__init__\u001b[0;34m(self, model, quantile_cutoff, value_calculator, training_features, training_labels, training_surfaces, sampling_features, sampling_labels, sampling_surfaces, n_samples, batch_size, init_train)\u001b[0m\n\u001b[1;32m    113\u001b[0m         super().__init__(training_features, training_labels,\n\u001b[1;32m    114\u001b[0m                          \u001b[0msampling_features\u001b[0m\u001b[0;34m,\u001b[0m \u001b[0msampling_labels\u001b[0m\u001b[0;34m,\u001b[0m\u001b[0;34m\u001b[0m\u001b[0;34m\u001b[0m\u001b[0m\n\u001b[0;32m--> 115\u001b[0;31m                          batch_size=batch_size, init_train=init_train)\n\u001b[0m\u001b[1;32m    116\u001b[0m \u001b[0;34m\u001b[0m\u001b[0m\n\u001b[1;32m    117\u001b[0m         \u001b[0;31m# Cache some metadata\u001b[0m\u001b[0;34m\u001b[0m\u001b[0;34m\u001b[0m\u001b[0;34m\u001b[0m\u001b[0m\n",
      "\u001b[0;32m~/catalyst-acquisitions/src/discoverers/base.py\u001b[0m in \u001b[0;36m__init__\u001b[0;34m(self, training_features, training_labels, sampling_features, sampling_labels, batch_size, init_train)\u001b[0m\n\u001b[1;32m     81\u001b[0m             \u001b[0mself\u001b[0m\u001b[0;34m.\u001b[0m\u001b[0mtraining_features\u001b[0m \u001b[0;34m=\u001b[0m \u001b[0;34m[\u001b[0m\u001b[0;34m]\u001b[0m\u001b[0;34m\u001b[0m\u001b[0;34m\u001b[0m\u001b[0m\n\u001b[1;32m     82\u001b[0m             \u001b[0mself\u001b[0m\u001b[0;34m.\u001b[0m\u001b[0mtraining_labels\u001b[0m \u001b[0;34m=\u001b[0m \u001b[0;34m[\u001b[0m\u001b[0;34m]\u001b[0m\u001b[0;34m\u001b[0m\u001b[0;34m\u001b[0m\u001b[0m\n\u001b[0;32m---> 83\u001b[0;31m             \u001b[0mself\u001b[0m\u001b[0;34m.\u001b[0m\u001b[0m_train\u001b[0m\u001b[0;34m(\u001b[0m\u001b[0;34m(\u001b[0m\u001b[0mtraining_features\u001b[0m\u001b[0;34m,\u001b[0m \u001b[0mtraining_labels\u001b[0m\u001b[0;34m)\u001b[0m\u001b[0;34m)\u001b[0m\u001b[0;34m\u001b[0m\u001b[0;34m\u001b[0m\u001b[0m\n\u001b[0m\u001b[1;32m     84\u001b[0m         \u001b[0;32melse\u001b[0m\u001b[0;34m:\u001b[0m\u001b[0;34m\u001b[0m\u001b[0;34m\u001b[0m\u001b[0m\n\u001b[1;32m     85\u001b[0m             \u001b[0mself\u001b[0m\u001b[0;34m.\u001b[0m\u001b[0mtraining_features\u001b[0m \u001b[0;34m=\u001b[0m \u001b[0mlist\u001b[0m\u001b[0;34m(\u001b[0m\u001b[0mdeepcopy\u001b[0m\u001b[0;34m(\u001b[0m\u001b[0mtraining_features\u001b[0m\u001b[0;34m)\u001b[0m\u001b[0;34m)\u001b[0m\u001b[0;34m\u001b[0m\u001b[0;34m\u001b[0m\u001b[0m\n",
      "\u001b[0;32m~/catalyst-acquisitions/src/discoverers/adsorption/base.py\u001b[0m in \u001b[0;36m_train\u001b[0;34m(self, next_batch)\u001b[0m\n\u001b[1;32m    163\u001b[0m \u001b[0;34m\u001b[0m\u001b[0m\n\u001b[1;32m    164\u001b[0m         \u001b[0;31m# Retrain\u001b[0m\u001b[0;34m\u001b[0m\u001b[0;34m\u001b[0m\u001b[0;34m\u001b[0m\u001b[0m\n\u001b[0;32m--> 165\u001b[0;31m         \u001b[0mself\u001b[0m\u001b[0;34m.\u001b[0m\u001b[0mmodel\u001b[0m\u001b[0;34m.\u001b[0m\u001b[0mtrain\u001b[0m\u001b[0;34m(\u001b[0m\u001b[0mself\u001b[0m\u001b[0;34m.\u001b[0m\u001b[0mtraining_features\u001b[0m\u001b[0;34m,\u001b[0m \u001b[0mself\u001b[0m\u001b[0;34m.\u001b[0m\u001b[0mtraining_labels\u001b[0m\u001b[0;34m)\u001b[0m\u001b[0;34m\u001b[0m\u001b[0;34m\u001b[0m\u001b[0m\n\u001b[0m\u001b[1;32m    166\u001b[0m         \u001b[0mself\u001b[0m\u001b[0;34m.\u001b[0m\u001b[0m_save_current_run\u001b[0m\u001b[0;34m(\u001b[0m\u001b[0;34m)\u001b[0m\u001b[0;34m\u001b[0m\u001b[0;34m\u001b[0m\u001b[0m\n\u001b[1;32m    167\u001b[0m \u001b[0;34m\u001b[0m\u001b[0m\n",
      "\u001b[0;32m~/catalyst-acquisitions/src/discoverers/adsorption/models/cfgp.py\u001b[0m in \u001b[0;36mtrain\u001b[0;34m(self, indices, _labels)\u001b[0m\n\u001b[1;32m     53\u001b[0m \u001b[0;34m\u001b[0m\u001b[0m\n\u001b[1;32m     54\u001b[0m         \u001b[0;31m# Train on the updated data\u001b[0m\u001b[0;34m\u001b[0m\u001b[0;34m\u001b[0m\u001b[0;34m\u001b[0m\u001b[0m\n\u001b[0;32m---> 55\u001b[0;31m         \u001b[0mself\u001b[0m\u001b[0;34m.\u001b[0m\u001b[0mtrainer\u001b[0m\u001b[0;34m.\u001b[0m\u001b[0mtrain\u001b[0m\u001b[0;34m(\u001b[0m\u001b[0mn_training_iter\u001b[0m\u001b[0;34m=\u001b[0m\u001b[0;36m100\u001b[0m\u001b[0;34m)\u001b[0m\u001b[0;34m\u001b[0m\u001b[0;34m\u001b[0m\u001b[0m\n\u001b[0m\u001b[1;32m     56\u001b[0m \u001b[0;34m\u001b[0m\u001b[0m\n\u001b[1;32m     57\u001b[0m         \u001b[0;31m# Clear up some GPU memory\u001b[0m\u001b[0;34m\u001b[0m\u001b[0;34m\u001b[0m\u001b[0;34m\u001b[0m\u001b[0m\n",
      "\u001b[0;32m/opt/conda/lib/python3.7/site-packages/ocpmodels/trainers/cfgp_trainer.py\u001b[0m in \u001b[0;36mtrain\u001b[0;34m(self, lr, n_training_iter)\u001b[0m\n\u001b[1;32m     26\u001b[0m         \u001b[0mprint\u001b[0m\u001b[0;34m(\u001b[0m\u001b[0;34m\"### Beginning training on convolutional network.\"\u001b[0m\u001b[0;34m)\u001b[0m\u001b[0;34m\u001b[0m\u001b[0;34m\u001b[0m\u001b[0m\n\u001b[1;32m     27\u001b[0m         \u001b[0mself\u001b[0m\u001b[0;34m.\u001b[0m\u001b[0mconv_trainer\u001b[0m\u001b[0;34m.\u001b[0m\u001b[0mtrain\u001b[0m\u001b[0;34m(\u001b[0m\u001b[0;34m)\u001b[0m\u001b[0;34m\u001b[0m\u001b[0;34m\u001b[0m\u001b[0m\n\u001b[0;32m---> 28\u001b[0;31m         \u001b[0mself\u001b[0m\u001b[0;34m.\u001b[0m\u001b[0m_train_gp\u001b[0m\u001b[0;34m(\u001b[0m\u001b[0mlr\u001b[0m\u001b[0;34m,\u001b[0m \u001b[0mn_training_iter\u001b[0m\u001b[0;34m)\u001b[0m\u001b[0;34m\u001b[0m\u001b[0;34m\u001b[0m\u001b[0m\n\u001b[0m\u001b[1;32m     29\u001b[0m \u001b[0;34m\u001b[0m\u001b[0m\n\u001b[1;32m     30\u001b[0m     \u001b[0;32mdef\u001b[0m \u001b[0m_train_gp\u001b[0m\u001b[0;34m(\u001b[0m\u001b[0mself\u001b[0m\u001b[0;34m,\u001b[0m \u001b[0mlr\u001b[0m\u001b[0;34m,\u001b[0m \u001b[0mn_training_iter\u001b[0m\u001b[0;34m)\u001b[0m\u001b[0;34m:\u001b[0m\u001b[0;34m\u001b[0m\u001b[0;34m\u001b[0m\u001b[0m\n",
      "\u001b[0;32m/opt/conda/lib/python3.7/site-packages/ocpmodels/trainers/cfgp_trainer.py\u001b[0m in \u001b[0;36m_train_gp\u001b[0;34m(self, lr, n_training_iter)\u001b[0m\n\u001b[1;32m     35\u001b[0m             \u001b[0mtrain_y\u001b[0m\u001b[0;34m=\u001b[0m\u001b[0mtrain_y\u001b[0m\u001b[0;34m,\u001b[0m\u001b[0;34m\u001b[0m\u001b[0;34m\u001b[0m\u001b[0m\n\u001b[1;32m     36\u001b[0m             \u001b[0mlr\u001b[0m\u001b[0;34m=\u001b[0m\u001b[0mlr\u001b[0m\u001b[0;34m,\u001b[0m\u001b[0;34m\u001b[0m\u001b[0;34m\u001b[0m\u001b[0m\n\u001b[0;32m---> 37\u001b[0;31m             \u001b[0mn_training_iter\u001b[0m\u001b[0;34m=\u001b[0m\u001b[0mn_training_iter\u001b[0m\u001b[0;34m,\u001b[0m\u001b[0;34m\u001b[0m\u001b[0;34m\u001b[0m\u001b[0m\n\u001b[0m\u001b[1;32m     38\u001b[0m         )\n\u001b[1;32m     39\u001b[0m \u001b[0;34m\u001b[0m\u001b[0m\n",
      "\u001b[0;32m/opt/conda/lib/python3.7/site-packages/ocpmodels/trainers/gpytorch_trainer.py\u001b[0m in \u001b[0;36mtrain\u001b[0;34m(self, train_x, train_y, lr, n_training_iter)\u001b[0m\n\u001b[1;32m     76\u001b[0m             \u001b[0mcheckpoint_size\u001b[0m\u001b[0;34m=\u001b[0m\u001b[0mcheckpoint_size\u001b[0m\u001b[0;34m,\u001b[0m\u001b[0;34m\u001b[0m\u001b[0;34m\u001b[0m\u001b[0m\n\u001b[1;32m     77\u001b[0m             \u001b[0mlr\u001b[0m\u001b[0;34m=\u001b[0m\u001b[0mlr\u001b[0m\u001b[0;34m,\u001b[0m\u001b[0;34m\u001b[0m\u001b[0;34m\u001b[0m\u001b[0m\n\u001b[0;32m---> 78\u001b[0;31m             \u001b[0mn_training_iter\u001b[0m\u001b[0;34m=\u001b[0m\u001b[0mn_training_iter\u001b[0m\u001b[0;34m,\u001b[0m\u001b[0;34m\u001b[0m\u001b[0;34m\u001b[0m\u001b[0m\n\u001b[0m\u001b[1;32m     79\u001b[0m         )\n\u001b[1;32m     80\u001b[0m \u001b[0;34m\u001b[0m\u001b[0m\n",
      "\u001b[0;32m/opt/conda/lib/python3.7/site-packages/ocpmodels/trainers/gpytorch_trainer.py\u001b[0m in \u001b[0;36m_train\u001b[0;34m(self, train_x, train_y, checkpoint_size, lr, n_training_iter)\u001b[0m\n\u001b[1;32m    147\u001b[0m                     \u001b[0;34m\"max_ls\"\u001b[0m\u001b[0;34m:\u001b[0m \u001b[0;36m10\u001b[0m\u001b[0;34m,\u001b[0m\u001b[0;34m\u001b[0m\u001b[0;34m\u001b[0m\u001b[0m\n\u001b[1;32m    148\u001b[0m                 }\n\u001b[0;32m--> 149\u001b[0;31m                 \u001b[0mloss\u001b[0m\u001b[0;34m,\u001b[0m \u001b[0m_\u001b[0m\u001b[0;34m,\u001b[0m \u001b[0m_\u001b[0m\u001b[0;34m,\u001b[0m \u001b[0m_\u001b[0m\u001b[0;34m,\u001b[0m \u001b[0m_\u001b[0m\u001b[0;34m,\u001b[0m \u001b[0m_\u001b[0m\u001b[0;34m,\u001b[0m \u001b[0m_\u001b[0m\u001b[0;34m,\u001b[0m \u001b[0mfail\u001b[0m \u001b[0;34m=\u001b[0m \u001b[0mself\u001b[0m\u001b[0;34m.\u001b[0m\u001b[0moptimizer\u001b[0m\u001b[0;34m.\u001b[0m\u001b[0mstep\u001b[0m\u001b[0;34m(\u001b[0m\u001b[0moptions\u001b[0m\u001b[0;34m)\u001b[0m\u001b[0;34m\u001b[0m\u001b[0;34m\u001b[0m\u001b[0m\n\u001b[0m\u001b[1;32m    150\u001b[0m \u001b[0;34m\u001b[0m\u001b[0m\n\u001b[1;32m    151\u001b[0m                 print(\n",
      "\u001b[0;32m/opt/conda/lib/python3.7/site-packages/ocpmodels/common/lbfgs.py\u001b[0m in \u001b[0;36mstep\u001b[0;34m(self, options)\u001b[0m\n\u001b[1;32m   1213\u001b[0m \u001b[0;34m\u001b[0m\u001b[0m\n\u001b[1;32m   1214\u001b[0m         \u001b[0;31m# take step\u001b[0m\u001b[0;34m\u001b[0m\u001b[0;34m\u001b[0m\u001b[0;34m\u001b[0m\u001b[0m\n\u001b[0;32m-> 1215\u001b[0;31m         \u001b[0;32mreturn\u001b[0m \u001b[0mself\u001b[0m\u001b[0;34m.\u001b[0m\u001b[0m_step\u001b[0m\u001b[0;34m(\u001b[0m\u001b[0mp\u001b[0m\u001b[0;34m,\u001b[0m \u001b[0mgrad\u001b[0m\u001b[0;34m,\u001b[0m \u001b[0moptions\u001b[0m\u001b[0;34m=\u001b[0m\u001b[0moptions\u001b[0m\u001b[0;34m)\u001b[0m\u001b[0;34m\u001b[0m\u001b[0;34m\u001b[0m\u001b[0m\n\u001b[0m",
      "\u001b[0;32m/opt/conda/lib/python3.7/site-packages/ocpmodels/common/lbfgs.py\u001b[0m in \u001b[0;36m_step\u001b[0;34m(self, p_k, g_Ok, g_Sk, options)\u001b[0m\n\u001b[1;32m    958\u001b[0m \u001b[0;34m\u001b[0m\u001b[0m\n\u001b[1;32m    959\u001b[0m                     \u001b[0;31m# compute gradient\u001b[0m\u001b[0;34m\u001b[0m\u001b[0;34m\u001b[0m\u001b[0;34m\u001b[0m\u001b[0m\n\u001b[0;32m--> 960\u001b[0;31m                     \u001b[0mF_new\u001b[0m\u001b[0;34m.\u001b[0m\u001b[0mbackward\u001b[0m\u001b[0;34m(\u001b[0m\u001b[0;34m)\u001b[0m\u001b[0;34m\u001b[0m\u001b[0;34m\u001b[0m\u001b[0m\n\u001b[0m\u001b[1;32m    961\u001b[0m                     \u001b[0mg_new\u001b[0m \u001b[0;34m=\u001b[0m \u001b[0mself\u001b[0m\u001b[0;34m.\u001b[0m\u001b[0m_gather_flat_grad\u001b[0m\u001b[0;34m(\u001b[0m\u001b[0;34m)\u001b[0m\u001b[0;34m\u001b[0m\u001b[0;34m\u001b[0m\u001b[0m\n\u001b[1;32m    962\u001b[0m                     \u001b[0mgrad_eval\u001b[0m \u001b[0;34m+=\u001b[0m \u001b[0;36m1\u001b[0m\u001b[0;34m\u001b[0m\u001b[0;34m\u001b[0m\u001b[0m\n",
      "\u001b[0;32m/opt/conda/lib/python3.7/site-packages/torch/tensor.py\u001b[0m in \u001b[0;36mbackward\u001b[0;34m(self, gradient, retain_graph, create_graph)\u001b[0m\n\u001b[1;32m    196\u001b[0m                 \u001b[0mproducts\u001b[0m\u001b[0;34m.\u001b[0m \u001b[0mDefaults\u001b[0m \u001b[0mto\u001b[0m\u001b[0;31m \u001b[0m\u001b[0;31m`\u001b[0m\u001b[0;31m`\u001b[0m\u001b[0;32mFalse\u001b[0m\u001b[0;31m`\u001b[0m\u001b[0;31m`\u001b[0m\u001b[0;34m.\u001b[0m\u001b[0;34m\u001b[0m\u001b[0;34m\u001b[0m\u001b[0m\n\u001b[1;32m    197\u001b[0m         \"\"\"\n\u001b[0;32m--> 198\u001b[0;31m         \u001b[0mtorch\u001b[0m\u001b[0;34m.\u001b[0m\u001b[0mautograd\u001b[0m\u001b[0;34m.\u001b[0m\u001b[0mbackward\u001b[0m\u001b[0;34m(\u001b[0m\u001b[0mself\u001b[0m\u001b[0;34m,\u001b[0m \u001b[0mgradient\u001b[0m\u001b[0;34m,\u001b[0m \u001b[0mretain_graph\u001b[0m\u001b[0;34m,\u001b[0m \u001b[0mcreate_graph\u001b[0m\u001b[0;34m)\u001b[0m\u001b[0;34m\u001b[0m\u001b[0;34m\u001b[0m\u001b[0m\n\u001b[0m\u001b[1;32m    199\u001b[0m \u001b[0;34m\u001b[0m\u001b[0m\n\u001b[1;32m    200\u001b[0m     \u001b[0;32mdef\u001b[0m \u001b[0mregister_hook\u001b[0m\u001b[0;34m(\u001b[0m\u001b[0mself\u001b[0m\u001b[0;34m,\u001b[0m \u001b[0mhook\u001b[0m\u001b[0;34m)\u001b[0m\u001b[0;34m:\u001b[0m\u001b[0;34m\u001b[0m\u001b[0;34m\u001b[0m\u001b[0m\n",
      "\u001b[0;32m/opt/conda/lib/python3.7/site-packages/torch/autograd/__init__.py\u001b[0m in \u001b[0;36mbackward\u001b[0;34m(tensors, grad_tensors, retain_graph, create_graph, grad_variables)\u001b[0m\n\u001b[1;32m     98\u001b[0m     Variable._execution_engine.run_backward(\n\u001b[1;32m     99\u001b[0m         \u001b[0mtensors\u001b[0m\u001b[0;34m,\u001b[0m \u001b[0mgrad_tensors\u001b[0m\u001b[0;34m,\u001b[0m \u001b[0mretain_graph\u001b[0m\u001b[0;34m,\u001b[0m \u001b[0mcreate_graph\u001b[0m\u001b[0;34m,\u001b[0m\u001b[0;34m\u001b[0m\u001b[0;34m\u001b[0m\u001b[0m\n\u001b[0;32m--> 100\u001b[0;31m         allow_unreachable=True)  # allow_unreachable flag\n\u001b[0m\u001b[1;32m    101\u001b[0m \u001b[0;34m\u001b[0m\u001b[0m\n\u001b[1;32m    102\u001b[0m \u001b[0;34m\u001b[0m\u001b[0m\n",
      "\u001b[0;31mRuntimeError\u001b[0m: graph_task->future_result_->completed() INTERNAL ASSERT FAILED at /opt/conda/conda-bld/pytorch_1591914880026/work/torch/csrc/autograd/engine.cpp:800, please report a bug to PyTorch. "
     ]
    }
   ],
   "source": [
    "import os\n",
    "os.environ['PYTHONPATH'] = '/home/jovyan/GASpy:/home/jovyan/GASpy/GASpy_regressions:'\n",
    "\n",
    "import sys\n",
    "sys.path.insert(0, '/home/jovyan/GASpy')\n",
    "sys.path.insert(0, '/home/jovyan/GASpy/GASpy_regressions')\n",
    "\n",
    "sys.path.append('../../..')\n",
    "from src.discoverers.adsorption.mms import MultiscaleDiscoverer\n",
    "from src.discoverers.adsorption.models import CFGP\n",
    "from src.discoverers.adsorption.values import calc_co2rr_activities\n",
    "\n",
    "\n",
    "# Initialize\n",
    "model = CFGP(db_dir)\n",
    "discoverer = MultiscaleDiscoverer(model=model,\n",
    "                                  value_calculator=calc_co2rr_activities,\n",
    "                                  quantile_cutoff=quantile_cutoff,\n",
    "                                  batch_size=batch_size,\n",
    "                                  training_features=training_features,\n",
    "                                  training_labels=training_labels,\n",
    "                                  training_surfaces=training_surfaces,\n",
    "                                  sampling_features=sampling_features,\n",
    "                                  sampling_labels=sampling_labels,\n",
    "                                  sampling_surfaces=sampling_surfaces,\n",
    "                                  #init_train=False  # Set to `False` only for warm starts\n",
    "                                 )"
   ]
  },
  {
   "cell_type": "markdown",
   "metadata": {},
   "source": [
    "## Run"
   ]
  },
  {
   "cell_type": "code",
   "execution_count": null,
   "metadata": {
    "scrolled": true
   },
   "outputs": [],
   "source": [
    "discoverer.simulate_discovery()"
   ]
  },
  {
   "cell_type": "code",
   "execution_count": null,
   "metadata": {},
   "outputs": [],
   "source": [
    "# Or load the last run\n",
    "discoverer.load_last_run()"
   ]
  },
  {
   "cell_type": "markdown",
   "metadata": {},
   "source": [
    "## Analyze"
   ]
  },
  {
   "cell_type": "code",
   "execution_count": null,
   "metadata": {},
   "outputs": [],
   "source": [
    "reward_fig, proxy_fig, accuracy_fig, uncertainty_fig, calibration_fig, nll_fig = discoverer.plot_performance(window=100)"
   ]
  },
  {
   "cell_type": "code",
   "execution_count": null,
   "metadata": {},
   "outputs": [],
   "source": []
  }
 ],
 "metadata": {
  "kernelspec": {
   "display_name": "Python 3",
   "language": "python",
   "name": "python3"
  },
  "language_info": {
   "codemirror_mode": {
    "name": "ipython",
    "version": 3
   },
   "file_extension": ".py",
   "mimetype": "text/x-python",
   "name": "python",
   "nbconvert_exporter": "python",
   "pygments_lexer": "ipython3",
   "version": "3.7.8"
  }
 },
 "nbformat": 4,
 "nbformat_minor": 4
}
