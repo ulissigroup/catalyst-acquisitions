{
 "cells": [
  {
   "cell_type": "code",
   "execution_count": 1,
   "metadata": {},
   "outputs": [
    {
     "name": "stderr",
     "output_type": "stream",
     "text": [
      "/global/homes/k/ktran/miniconda3/envs/gaspy/lib/python3.6/site-packages/IPython/config.py:13: ShimWarning: The `IPython.config` package has been deprecated since IPython 4.0. You should import from traitlets.config instead.\n",
      "  \"You should import from traitlets.config instead.\", ShimWarning)\n",
      "/global/homes/k/ktran/miniconda3/envs/gaspy/lib/python3.6/site-packages/ipycache.py:17: UserWarning: IPython.utils.traitlets has moved to a top-level traitlets package.\n",
      "  from IPython.utils.traitlets import Unicode\n"
     ]
    }
   ],
   "source": [
    "%load_ext ipycache\n",
    "%load_ext autoreload\n",
    "%autoreload 2"
   ]
  },
  {
   "cell_type": "code",
   "execution_count": null,
   "metadata": {},
   "outputs": [],
   "source": [
    "import sys\n",
    "sys.path.append('..')"
   ]
  },
  {
   "cell_type": "markdown",
   "metadata": {},
   "source": [
    "# Initialization\n",
    "## Hyperparameters for discovery"
   ]
  },
  {
   "cell_type": "code",
   "execution_count": 2,
   "metadata": {},
   "outputs": [],
   "source": [
    "adsorbate = 'OH'\n",
    "target_energy = 1.23  # eV\n",
    "# total_size_limit = 600\n",
    "initial_training_size = 200\n",
    "batch_size = 200\n",
    "quantile_cutoff = 0.95"
   ]
  },
  {
   "cell_type": "markdown",
   "metadata": {},
   "source": [
    "## Gather validation data"
   ]
  },
  {
   "cell_type": "code",
   "execution_count": 3,
   "metadata": {},
   "outputs": [
    {
     "name": "stdout",
     "output_type": "stream",
     "text": [
      "[Saved variables 'sampling_features, sampling_labels, sampling_surfaces, training_features, training_labels, training_surfaces' to file '/global/cfs/cdirs/m2755/ktran/sandbox/2020/catalyst-acquisitions/example_data.pkl'.]\n",
      "successfully loaded your custom FW_config.yaml!\n",
      "Now pulling adsorption documents...\n"
     ]
    },
    {
     "name": "stderr",
     "output_type": "stream",
     "text": [
      "4077it [00:00, 45544.97it/s]\n"
     ]
    }
   ],
   "source": [
    "%%cache example_data.pkl training_features, training_labels, training_surfaces, sampling_features, sampling_labels, sampling_surfaces\n",
    "\n",
    "import random\n",
    "import numpy as np\n",
    "from gaspy.gasdb import get_adsorption_docs, get_surface_from_doc\n",
    "\n",
    "\n",
    "docs = get_adsorption_docs(adsorbate)\n",
    "# docs = random.sample(docs, total_size_limit)\n",
    "random.shuffle(docs)\n",
    "\n",
    "\n",
    "def parse_docs(docs):\n",
    "    '''\n",
    "    Our testing framework needs us to divide information into features, labels, and surfaces.\n",
    "    This function will convert a list of docs/dictionaries into these things.\n",
    "    \n",
    "    Arg:\n",
    "        docs    A list of dictionaries from `gaspy.gasdb.get_adsorption_docs`\n",
    "    Returns:\n",
    "        features    ...just the `docs` arg\n",
    "        labels      A list of the 'energy' keys in `docs`\n",
    "        surfaces    A list of 4-tuples indicating the surfaces of `docs\n",
    "    '''\n",
    "    features = docs\n",
    "    labels = [doc['energy'] for doc in docs]\n",
    "    surfaces = [get_surface_from_doc(doc) for doc in docs]\n",
    "    return features, labels, surfaces\n",
    "\n",
    "\n",
    "training_features, training_labels, training_surfaces = parse_docs(docs[:initial_training_size])\n",
    "sampling_features, sampling_labels, sampling_surfaces = parse_docs(docs[initial_training_size:])"
   ]
  },
  {
   "cell_type": "markdown",
   "metadata": {},
   "source": [
    "# Hallucinate\n",
    "## Initialize"
   ]
  },
  {
   "cell_type": "code",
   "execution_count": 4,
   "metadata": {},
   "outputs": [],
   "source": [
    "import warnings\n",
    "from src.discoverers.adsorption.tpotheuristic import TpotHeuristic\n",
    "\n",
    "\n",
    "# The GASpy fingerprinter will be yelling at us a lot about missing data.\n",
    "# Good to know in production, but also good to ignore here.\n",
    "with warnings.catch_warnings():\n",
    "    warnings.filterwarnings(message='We do not have any energy data for %s on ' % adsorbate, action='ignore')\n",
    "\n",
    "    # Initialize\n",
    "    discoverer = TpotHeuristic(target_energy=target_energy,\n",
    "                               quantile_cutoff=quantile_cutoff,\n",
    "                               batch_size=batch_size,\n",
    "                               training_features=training_features,\n",
    "                               training_labels=training_labels,\n",
    "                               training_surfaces=training_surfaces,\n",
    "                               sampling_features=sampling_features,\n",
    "                               sampling_labels=sampling_labels,\n",
    "                               sampling_surfaces=sampling_surfaces,\n",
    "                               init_train=False  # Set to `False` only for warm starts\n",
    "                              )"
   ]
  },
  {
   "cell_type": "markdown",
   "metadata": {},
   "source": [
    "## Run"
   ]
  },
  {
   "cell_type": "code",
   "execution_count": 5,
   "metadata": {
    "scrolled": true
   },
   "outputs": [
    {
     "data": {
      "application/vnd.jupyter.widget-view+json": {
       "model_id": "e487ff38b7f843089810e4eb40cdc5ed",
       "version_major": 2,
       "version_minor": 0
      },
      "text/plain": [
       "HBox(children=(IntProgress(value=0, description='Hallucinating discovery...', max=20, style=ProgressStyle(desc…"
      ]
     },
     "metadata": {},
     "output_type": "display_data"
    },
    {
     "data": {
      "application/vnd.jupyter.widget-view+json": {
       "model_id": "",
       "version_major": 2,
       "version_minor": 0
      },
      "text/plain": [
       "HBox(children=(IntProgress(value=0, description='Optimization Progress', max=96, style=ProgressStyle(descripti…"
      ]
     },
     "metadata": {},
     "output_type": "display_data"
    },
    {
     "name": "stdout",
     "output_type": "stream",
     "text": [
      "Generation 1 - Current best internal CV score: -0.07062147668659287\n",
      "Generation 2 - Current best internal CV score: -0.07015089399186154\n",
      "\n",
      "Best pipeline: KNeighborsRegressor(RidgeCV(input_matrix), n_neighbors=34, p=2, weights=distance)\n"
     ]
    },
    {
     "data": {
      "application/vnd.jupyter.widget-view+json": {
       "model_id": "f94a8cb9501648779209b4f346f368e9",
       "version_major": 2,
       "version_minor": 0
      },
      "text/plain": [
       "HBox(children=(IntProgress(value=0, description='Optimization Progress', max=96, style=ProgressStyle(descripti…"
      ]
     },
     "metadata": {},
     "output_type": "display_data"
    },
    {
     "name": "stdout",
     "output_type": "stream",
     "text": [
      "Generation 2 - Current best internal CV score: -0.03943154609096951\n",
      "\n",
      "Best pipeline: KNeighborsRegressor(SelectPercentile(input_matrix, percentile=87), n_neighbors=5, p=2, weights=distance)\n"
     ]
    },
    {
     "data": {
      "application/vnd.jupyter.widget-view+json": {
       "model_id": "",
       "version_major": 2,
       "version_minor": 0
      },
      "text/plain": [
       "HBox(children=(IntProgress(value=0, description='Optimization Progress', max=96, style=ProgressStyle(descripti…"
      ]
     },
     "metadata": {},
     "output_type": "display_data"
    },
    {
     "name": "stdout",
     "output_type": "stream",
     "text": [
      "Generation 1 - Current best internal CV score: -0.03943154609096951\n",
      "Generation 2 - Current best internal CV score: -0.03943154609096951\n",
      "\n",
      "Best pipeline: KNeighborsRegressor(SelectPercentile(input_matrix, percentile=87), n_neighbors=5, p=2, weights=distance)\n"
     ]
    },
    {
     "data": {
      "application/vnd.jupyter.widget-view+json": {
       "model_id": "",
       "version_major": 2,
       "version_minor": 0
      },
      "text/plain": [
       "HBox(children=(IntProgress(value=0, description='Optimization Progress', max=96, style=ProgressStyle(descripti…"
      ]
     },
     "metadata": {},
     "output_type": "display_data"
    },
    {
     "name": "stdout",
     "output_type": "stream",
     "text": [
      "Generation 1 - Current best internal CV score: -0.03943154609096951\n",
      "Generation 2 - Current best internal CV score: -0.03943154609096951\n",
      "\n",
      "Best pipeline: KNeighborsRegressor(SelectPercentile(input_matrix, percentile=87), n_neighbors=5, p=2, weights=distance)\n"
     ]
    },
    {
     "data": {
      "application/vnd.jupyter.widget-view+json": {
       "model_id": "",
       "version_major": 2,
       "version_minor": 0
      },
      "text/plain": [
       "HBox(children=(IntProgress(value=0, description='Optimization Progress', max=96, style=ProgressStyle(descripti…"
      ]
     },
     "metadata": {},
     "output_type": "display_data"
    },
    {
     "name": "stdout",
     "output_type": "stream",
     "text": [
      "Generation 1 - Current best internal CV score: -0.03943154609096951\n",
      "Generation 2 - Current best internal CV score: -0.03943154609096951\n",
      "\n",
      "Best pipeline: KNeighborsRegressor(SelectPercentile(input_matrix, percentile=87), n_neighbors=5, p=2, weights=distance)\n"
     ]
    },
    {
     "data": {
      "application/vnd.jupyter.widget-view+json": {
       "model_id": "",
       "version_major": 2,
       "version_minor": 0
      },
      "text/plain": [
       "HBox(children=(IntProgress(value=0, description='Optimization Progress', max=96, style=ProgressStyle(descripti…"
      ]
     },
     "metadata": {},
     "output_type": "display_data"
    },
    {
     "name": "stdout",
     "output_type": "stream",
     "text": [
      "Generation 1 - Current best internal CV score: -0.03943154609096951\n",
      "Generation 2 - Current best internal CV score: -0.03943154609096951\n",
      "\n",
      "Best pipeline: KNeighborsRegressor(SelectPercentile(input_matrix, percentile=87), n_neighbors=5, p=2, weights=distance)\n"
     ]
    },
    {
     "data": {
      "application/vnd.jupyter.widget-view+json": {
       "model_id": "",
       "version_major": 2,
       "version_minor": 0
      },
      "text/plain": [
       "HBox(children=(IntProgress(value=0, description='Optimization Progress', max=96, style=ProgressStyle(descripti…"
      ]
     },
     "metadata": {},
     "output_type": "display_data"
    },
    {
     "name": "stdout",
     "output_type": "stream",
     "text": [
      "Generation 1 - Current best internal CV score: -0.03943154609096951\n",
      "Generation 2 - Current best internal CV score: -0.03943154609096951\n",
      "\n",
      "Best pipeline: KNeighborsRegressor(SelectPercentile(input_matrix, percentile=87), n_neighbors=5, p=2, weights=distance)\n"
     ]
    },
    {
     "data": {
      "application/vnd.jupyter.widget-view+json": {
       "model_id": "",
       "version_major": 2,
       "version_minor": 0
      },
      "text/plain": [
       "HBox(children=(IntProgress(value=0, description='Optimization Progress', max=96, style=ProgressStyle(descripti…"
      ]
     },
     "metadata": {},
     "output_type": "display_data"
    },
    {
     "name": "stdout",
     "output_type": "stream",
     "text": [
      "Generation 1 - Current best internal CV score: -0.03943154609096951\n",
      "Generation 2 - Current best internal CV score: -0.03943154609096951\n",
      "\n",
      "Best pipeline: KNeighborsRegressor(SelectPercentile(input_matrix, percentile=87), n_neighbors=5, p=2, weights=distance)\n"
     ]
    },
    {
     "data": {
      "application/vnd.jupyter.widget-view+json": {
       "model_id": "",
       "version_major": 2,
       "version_minor": 0
      },
      "text/plain": [
       "HBox(children=(IntProgress(value=0, description='Optimization Progress', max=96, style=ProgressStyle(descripti…"
      ]
     },
     "metadata": {},
     "output_type": "display_data"
    },
    {
     "name": "stdout",
     "output_type": "stream",
     "text": [
      "Generation 1 - Current best internal CV score: -0.03943154609096951\n",
      "Generation 2 - Current best internal CV score: -0.03943154609096951\n",
      "\n",
      "Best pipeline: KNeighborsRegressor(SelectPercentile(input_matrix, percentile=87), n_neighbors=5, p=2, weights=distance)\n"
     ]
    },
    {
     "data": {
      "application/vnd.jupyter.widget-view+json": {
       "model_id": "",
       "version_major": 2,
       "version_minor": 0
      },
      "text/plain": [
       "HBox(children=(IntProgress(value=0, description='Optimization Progress', max=96, style=ProgressStyle(descripti…"
      ]
     },
     "metadata": {},
     "output_type": "display_data"
    },
    {
     "name": "stdout",
     "output_type": "stream",
     "text": [
      "Generation 1 - Current best internal CV score: -0.03943154609096951\n",
      "Generation 2 - Current best internal CV score: -0.03943154609096951\n",
      "\n",
      "Best pipeline: KNeighborsRegressor(SelectPercentile(input_matrix, percentile=87), n_neighbors=5, p=2, weights=distance)\n"
     ]
    },
    {
     "data": {
      "application/vnd.jupyter.widget-view+json": {
       "model_id": "",
       "version_major": 2,
       "version_minor": 0
      },
      "text/plain": [
       "HBox(children=(IntProgress(value=0, description='Optimization Progress', max=96, style=ProgressStyle(descripti…"
      ]
     },
     "metadata": {},
     "output_type": "display_data"
    },
    {
     "name": "stdout",
     "output_type": "stream",
     "text": [
      "Generation 1 - Current best internal CV score: -0.03943154609096951\n",
      "Generation 2 - Current best internal CV score: -0.03943154609096951\n",
      "\n",
      "Best pipeline: KNeighborsRegressor(SelectPercentile(input_matrix, percentile=87), n_neighbors=5, p=2, weights=distance)\n"
     ]
    },
    {
     "data": {
      "application/vnd.jupyter.widget-view+json": {
       "model_id": "",
       "version_major": 2,
       "version_minor": 0
      },
      "text/plain": [
       "HBox(children=(IntProgress(value=0, description='Optimization Progress', max=96, style=ProgressStyle(descripti…"
      ]
     },
     "metadata": {},
     "output_type": "display_data"
    },
    {
     "name": "stdout",
     "output_type": "stream",
     "text": [
      "Generation 1 - Current best internal CV score: -0.03943154609096951\n",
      "Generation 2 - Current best internal CV score: -0.03943154609096951\n",
      "\n",
      "Best pipeline: KNeighborsRegressor(SelectPercentile(input_matrix, percentile=87), n_neighbors=5, p=2, weights=distance)\n"
     ]
    },
    {
     "data": {
      "application/vnd.jupyter.widget-view+json": {
       "model_id": "",
       "version_major": 2,
       "version_minor": 0
      },
      "text/plain": [
       "HBox(children=(IntProgress(value=0, description='Optimization Progress', max=96, style=ProgressStyle(descripti…"
      ]
     },
     "metadata": {},
     "output_type": "display_data"
    },
    {
     "name": "stdout",
     "output_type": "stream",
     "text": [
      "Generation 1 - Current best internal CV score: -0.03943154609096951\n",
      "Generation 2 - Current best internal CV score: -0.03943154609096951\n",
      "\n",
      "Best pipeline: KNeighborsRegressor(SelectPercentile(input_matrix, percentile=87), n_neighbors=5, p=2, weights=distance)\n"
     ]
    },
    {
     "data": {
      "application/vnd.jupyter.widget-view+json": {
       "model_id": "",
       "version_major": 2,
       "version_minor": 0
      },
      "text/plain": [
       "HBox(children=(IntProgress(value=0, description='Optimization Progress', max=96, style=ProgressStyle(descripti…"
      ]
     },
     "metadata": {},
     "output_type": "display_data"
    },
    {
     "name": "stdout",
     "output_type": "stream",
     "text": [
      "Generation 1 - Current best internal CV score: -0.03943154609096951\n",
      "Generation 2 - Current best internal CV score: -0.03943154609096951\n",
      "\n",
      "Best pipeline: KNeighborsRegressor(SelectPercentile(input_matrix, percentile=87), n_neighbors=5, p=2, weights=distance)\n"
     ]
    },
    {
     "data": {
      "application/vnd.jupyter.widget-view+json": {
       "model_id": "",
       "version_major": 2,
       "version_minor": 0
      },
      "text/plain": [
       "HBox(children=(IntProgress(value=0, description='Optimization Progress', max=96, style=ProgressStyle(descripti…"
      ]
     },
     "metadata": {},
     "output_type": "display_data"
    },
    {
     "name": "stdout",
     "output_type": "stream",
     "text": [
      "Generation 1 - Current best internal CV score: -0.03943154609096951\n",
      "Generation 2 - Current best internal CV score: -0.03943154609096951\n",
      "\n",
      "Best pipeline: KNeighborsRegressor(SelectPercentile(input_matrix, percentile=87), n_neighbors=5, p=2, weights=distance)\n"
     ]
    },
    {
     "data": {
      "application/vnd.jupyter.widget-view+json": {
       "model_id": "",
       "version_major": 2,
       "version_minor": 0
      },
      "text/plain": [
       "HBox(children=(IntProgress(value=0, description='Optimization Progress', max=96, style=ProgressStyle(descripti…"
      ]
     },
     "metadata": {},
     "output_type": "display_data"
    },
    {
     "name": "stdout",
     "output_type": "stream",
     "text": [
      "Generation 1 - Current best internal CV score: -0.03943154609096951\n",
      "Generation 2 - Current best internal CV score: -0.03943154609096951\n",
      "\n",
      "Best pipeline: KNeighborsRegressor(SelectPercentile(input_matrix, percentile=87), n_neighbors=5, p=2, weights=distance)\n"
     ]
    },
    {
     "data": {
      "application/vnd.jupyter.widget-view+json": {
       "model_id": "",
       "version_major": 2,
       "version_minor": 0
      },
      "text/plain": [
       "HBox(children=(IntProgress(value=0, description='Optimization Progress', max=96, style=ProgressStyle(descripti…"
      ]
     },
     "metadata": {},
     "output_type": "display_data"
    },
    {
     "name": "stdout",
     "output_type": "stream",
     "text": [
      "Generation 1 - Current best internal CV score: -0.03943154609096951\n",
      "Generation 2 - Current best internal CV score: -0.03943154609096951\n",
      "\n",
      "Best pipeline: KNeighborsRegressor(SelectPercentile(input_matrix, percentile=87), n_neighbors=5, p=2, weights=distance)\n"
     ]
    },
    {
     "data": {
      "application/vnd.jupyter.widget-view+json": {
       "model_id": "",
       "version_major": 2,
       "version_minor": 0
      },
      "text/plain": [
       "HBox(children=(IntProgress(value=0, description='Optimization Progress', max=96, style=ProgressStyle(descripti…"
      ]
     },
     "metadata": {},
     "output_type": "display_data"
    },
    {
     "name": "stdout",
     "output_type": "stream",
     "text": [
      "Generation 1 - Current best internal CV score: -0.03943154609096951\n",
      "Generation 2 - Current best internal CV score: -0.03943154609096951\n",
      "\n",
      "Best pipeline: KNeighborsRegressor(SelectPercentile(input_matrix, percentile=87), n_neighbors=5, p=2, weights=distance)\n",
      "\n"
     ]
    }
   ],
   "source": [
    "# The GASpy fingerprinter will be yelling at us a lot about missing data.\n",
    "# Good to know in production, but also good to ignore here.\n",
    "with warnings.catch_warnings():\n",
    "    warnings.filterwarnings(message='You did not initialize the fingerprinter with the ', action='ignore')\n",
    "    warnings.filterwarnings(message='We do not have any energy data for %s on ' % adsorbate, action='ignore')\n",
    "    \n",
    "    discoverer.simulate_discovery()"
   ]
  },
  {
   "cell_type": "code",
   "execution_count": 5,
   "metadata": {},
   "outputs": [],
   "source": [
    "# Or load the last run\n",
    "discoverer.load_last_run()"
   ]
  },
  {
   "cell_type": "markdown",
   "metadata": {},
   "source": [
    "## Analyze"
   ]
  },
  {
   "cell_type": "code",
   "execution_count": 6,
   "metadata": {},
   "outputs": [
    {
     "data": {
      "application/vnd.jupyter.widget-view+json": {
       "model_id": "cec913b2bc1648558e8db3780791040c",
       "version_major": 2,
       "version_minor": 0
      },
      "text/plain": [
       "HBox(children=(IntProgress(value=0, description='calibration', max=39, style=ProgressStyle(description_width='…"
      ]
     },
     "metadata": {},
     "output_type": "display_data"
    },
    {
     "name": "stdout",
     "output_type": "stream",
     "text": [
      "\n"
     ]
    },
    {
     "data": {
      "image/png": "[encoded data removed]",
      "text/plain": [
       "<Figure size 468x180 with 1 Axes>"
      ]
     },
     "metadata": {
      "needs_background": "light"
     },
     "output_type": "display_data"
    },
    {
     "data": {
      "image/png": "[encoded data removed]",
      "text/plain": [
       "<Figure size 468x180 with 1 Axes>"
      ]
     },
     "metadata": {
      "needs_background": "light"
     },
     "output_type": "display_data"
    },
    {
     "data": {
      "image/png": "[encoded data removed]",
      "text/plain": [
       "<Figure size 468x180 with 1 Axes>"
      ]
     },
     "metadata": {
      "needs_background": "light"
     },
     "output_type": "display_data"
    },
    {
     "data": {
      "image/png": "[encoded data removed]",
      "text/plain": [
       "<Figure size 468x180 with 1 Axes>"
      ]
     },
     "metadata": {
      "needs_background": "light"
     },
     "output_type": "display_data"
    },
    {
     "data": {
      "image/png": "[encoded data removed]",
      "text/plain": [
       "<Figure size 468x180 with 1 Axes>"
      ]
     },
     "metadata": {
      "needs_background": "light"
     },
     "output_type": "display_data"
    }
   ],
   "source": [
    "reward_fig, accuracy_fig, uncertainty_fig, calibration_fig, nll_fig = discoverer.plot_performance(window=100)"
   ]
  },
  {
   "cell_type": "code",
   "execution_count": null,
   "metadata": {},
   "outputs": [],
   "source": []
  }
 ],
 "metadata": {
  "kernelspec": {
   "display_name": "Python 3",
   "language": "python",
   "name": "python3"
  },
  "language_info": {
   "codemirror_mode": {
    "name": "ipython",
    "version": 3
   },
   "file_extension": ".py",
   "mimetype": "text/x-python",
   "name": "python",
   "nbconvert_exporter": "python",
   "pygments_lexer": "ipython3",
   "version": "3.6.9"
  }
 },
 "nbformat": 4,
 "nbformat_minor": 4
}
